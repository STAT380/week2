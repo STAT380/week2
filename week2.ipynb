{
  "cells": [
    {
      "cell_type": "markdown",
      "metadata": {},
      "source": [
        "# rbasics\n",
        "\n",
        "# Some tools we’ll meet\n",
        "\n",
        "-   Facts & extensions from the reading\n",
        "    -   Create vectors using `c()`, `:`, `seq()`, `rep()`.\n",
        "\n",
        "    -   Select vector elements using the square brackets `[ ]` (have you\n",
        "        done this before?).\n",
        "\n",
        "    -   Program using\n",
        "\n",
        "        -   `for` loop,\n",
        "        -   `while` loop,\n",
        "        -   `if` statements,\n",
        "\n",
        "    -   Write an original `function` (where have you done this before?)\n",
        "\n",
        "    -   Subsetting with `[` (especially for vectors & data frames)\n",
        "\n",
        "    -   Subsetting with `$` (especially for data frames & lists)\n",
        "\n",
        "    -   Subsetting with `[[` (especially for lists)\n",
        "\n",
        "    -   `read.csv` for reading datasets\n",
        "\n",
        "    -   `dplyr`\n",
        "\n",
        "    -   `ggplot2`\n",
        "\n",
        "    -   `ggPlotThemes`\n",
        "-   [RStudio Cheat Sheet (on\n",
        "    Canvas)](https://www.rstudio.com/wp-content/uploads/2016/05/base-r.pdf)\n",
        "-   Nested loops (e.g., data frame indices)\n",
        "-   Extracting elements from arbitrary objects (e.g. a regression model\n",
        "    object)\n",
        "-   Programming a simulation with & without loops"
      ],
      "id": "5de70684-40e1-4e07-8eab-6045838cf8e9"
    },
    {
      "cell_type": "code",
      "execution_count": null,
      "metadata": {},
      "outputs": [],
      "source": [
        "rm(list = ls())\n",
        "# no packages to load since we're talking about Base R!"
      ],
      "id": "f2621927-9af3-4b4f-881e-f1cdfe373ac5"
    },
    {
      "cell_type": "markdown",
      "metadata": {},
      "source": [
        "------------------------------------------------------------------------\n",
        "\n",
        "# Goals for today?\n",
        "\n",
        "1.  in your adventures with R programming you’ll often encounter code\n",
        "    written in base R, so we’ll meet some common syntax.\n",
        "\n",
        "2.  introduce loops as an intuitive approach to iterative tasks\n",
        "\n",
        "3.  meet the basic syntax to write your very own R functions\n",
        "\n",
        "4.  program a simulation study to better understand a counter-intuitive\n",
        "    concept\n",
        "\n",
        "e.g., Confidence interval statements:\n",
        "\n",
        "> “We are 95% confident that the average amount of carbon stored in each\n",
        "> square kilometer of tropical forest is between 9,600 and 13,600 tons”\n",
        "\n",
        "> 95% CI: 11,600 ± 2⋅1000 = (9,600, 13,600)\n",
        "\n",
        "What’s wrong with saying “there’s a 95% chance that the average amount\n",
        "of carbon stored in each square kilometer of tropical forest is between\n",
        "9,600 and 13,600 tons” ??\n",
        "\n",
        "------------------------------------------------------------------------\n",
        "\n",
        "# Creating vectors\n",
        "\n",
        "#### `c( )` is most common by far"
      ],
      "id": "616b9419-5030-470c-980b-9014a22f8cb7"
    },
    {
      "cell_type": "code",
      "execution_count": null,
      "metadata": {},
      "outputs": [
        {
          "output_type": "stream",
          "name": "stdout",
          "text": [
            "[1]  2  5 NA  5"
          ]
        },
        {
          "output_type": "stream",
          "name": "stdout",
          "text": [
            "[1] NA"
          ]
        },
        {
          "output_type": "stream",
          "name": "stdout",
          "text": [
            "[1] 4"
          ]
        }
      ],
      "source": [
        "grade <- c(2, 5, NA, 5)\n",
        "grade "
      ],
      "id": "ee8a1bec-a5d7-4446-bfec-487c93fe868b"
    },
    {
      "cell_type": "markdown",
      "metadata": {},
      "source": [
        "#### Shortcut using `:` for numbers in sequence"
      ],
      "id": "28746f27-1085-4140-a6b4-25722fb6c80b"
    },
    {
      "cell_type": "code",
      "execution_count": null,
      "metadata": {},
      "outputs": [
        {
          "output_type": "stream",
          "name": "stdout",
          "text": [
            "[1] 2 3 4 5 6"
          ]
        },
        {
          "output_type": "stream",
          "name": "stdout",
          "text": [
            "[1] 2 3 4 5 6"
          ]
        }
      ],
      "source": [
        "2:6"
      ],
      "id": "8715c937-d665-43ff-9e61-1549cd1e4149"
    },
    {
      "cell_type": "markdown",
      "metadata": {},
      "source": [
        "#### Sequences using `seq( )`"
      ],
      "id": "90bc6a15-f3f9-406c-b8e5-80cb08db4894"
    },
    {
      "cell_type": "code",
      "execution_count": null,
      "metadata": {},
      "outputs": [
        {
          "output_type": "stream",
          "name": "stdout",
          "text": [
            " [1] 2.0 2.2 2.4 2.6 2.8 3.0 3.2 3.4 3.6 3.8 4.0 4.2 4.4 4.6 4.8 5.0"
          ]
        }
      ],
      "source": [
        "seq(2, 5, by = 0.2)"
      ],
      "id": "8ad4ea49-b7cb-4952-9faa-6278b7abab74"
    },
    {
      "cell_type": "markdown",
      "metadata": {},
      "source": [
        "#### Repeating a sequence using `rep( )`"
      ],
      "id": "6e3b5f4e-39d3-44b5-be4d-7ac33c4ffb4c"
    },
    {
      "cell_type": "code",
      "execution_count": null,
      "metadata": {},
      "outputs": [
        {
          "output_type": "stream",
          "name": "stdout",
          "text": [
            "[1] \"A\" \"B\" \"C\" \"A\" \"B\" \"C\" \"A\" \"B\" \"C\""
          ]
        }
      ],
      "source": [
        "rep(c(\"A\", \"B\", \"C\"), times = 3)"
      ],
      "id": "d9da49a7-d37a-4cd9-9fbe-7e513afafcf6"
    },
    {
      "cell_type": "markdown",
      "metadata": {},
      "source": [
        "# Selecting vector elements with square brackets"
      ],
      "id": "5f41d1a5-7177-4b7d-b28f-5529a99a94fd"
    },
    {
      "cell_type": "code",
      "execution_count": null,
      "metadata": {},
      "outputs": [
        {
          "output_type": "stream",
          "name": "stdout",
          "text": [
            "[1] \"A\" \"B\" \"C\" \"1\" \"2\" \"3\""
          ]
        }
      ],
      "source": [
        "# create a vector\n",
        "x <- c(\"A\", \"B\", \"C\", 1, 2, 3)\n",
        "x"
      ],
      "id": "bcd3fcd6-67b0-4623-a3a0-10a557c8c5f0"
    },
    {
      "cell_type": "markdown",
      "metadata": {},
      "source": [
        "#### Select only element 4"
      ],
      "id": "8c205fa2-c102-4279-abf8-a917a198f336"
    },
    {
      "cell_type": "code",
      "execution_count": null,
      "metadata": {},
      "outputs": [
        {
          "output_type": "stream",
          "name": "stdout",
          "text": [
            "[1] \"1\""
          ]
        }
      ],
      "source": [
        "x[4]"
      ],
      "id": "fa0e3c57-e345-4ea6-8db3-78820540760e"
    },
    {
      "cell_type": "markdown",
      "metadata": {},
      "source": [
        "#### Select elements 2 thru 4"
      ],
      "id": "28ce8271-94b2-499c-9c2f-1ee9d393a665"
    },
    {
      "cell_type": "code",
      "execution_count": null,
      "metadata": {},
      "outputs": [
        {
          "output_type": "stream",
          "name": "stdout",
          "text": [
            "[1] \"B\" \"C\" \"1\""
          ]
        }
      ],
      "source": [
        "x[2:4]"
      ],
      "id": "03d4e715-a3fc-4b97-bc65-d2d4396bfdd0"
    },
    {
      "cell_type": "markdown",
      "metadata": {},
      "source": [
        "#### Select elements 1 and 5"
      ],
      "id": "afea64d7-9c23-4d13-8f94-5ce96e427236"
    },
    {
      "cell_type": "code",
      "execution_count": null,
      "metadata": {},
      "outputs": [
        {
          "output_type": "stream",
          "name": "stdout",
          "text": [
            "[1] \"A\" \"2\""
          ]
        }
      ],
      "source": [
        "x[c(1, 5)]"
      ],
      "id": "219ed616-c49e-4bad-bf5a-4a040fde17b6"
    },
    {
      "cell_type": "markdown",
      "metadata": {},
      "source": [
        "## Excluding Vector Elements with square brackets"
      ],
      "id": "ff98802e-0395-4772-97f6-ef90b9f43dbb"
    },
    {
      "cell_type": "code",
      "execution_count": null,
      "metadata": {},
      "outputs": [
        {
          "output_type": "stream",
          "name": "stdout",
          "text": [
            "[1] \"A\" \"B\" \"C\" \"1\" \"2\" \"3\""
          ]
        }
      ],
      "source": [
        "# create a vector\n",
        "x <- c(\"A\", \"B\", \"C\", 1, 2, 3)\n",
        "x"
      ],
      "id": "0bb5aa7c-830e-4e1f-b589-0cb8aec4cb1a"
    },
    {
      "cell_type": "markdown",
      "metadata": {},
      "source": [
        "#### Select all elements except element 4"
      ],
      "id": "f9584a58-2905-4b5c-90fb-539b61d0180d"
    },
    {
      "cell_type": "code",
      "execution_count": null,
      "metadata": {},
      "outputs": [
        {
          "output_type": "stream",
          "name": "stdout",
          "text": [
            "[1] \"A\" \"B\" \"C\" \"2\" \"3\""
          ]
        }
      ],
      "source": [
        "x[-4]"
      ],
      "id": "37caf409-f607-4b2b-9ac3-b96d42f35828"
    },
    {
      "cell_type": "markdown",
      "metadata": {},
      "source": [
        "#### Select all elements except elements 1, 4, and 6"
      ],
      "id": "9fcd06dd-e623-4715-918f-13f74cb54ded"
    },
    {
      "cell_type": "code",
      "execution_count": null,
      "metadata": {},
      "outputs": [
        {
          "output_type": "stream",
          "name": "stdout",
          "text": [
            "[1] \"B\" \"C\" \"2\""
          ]
        }
      ],
      "source": [
        "x[-c(1, 4, 6)]"
      ],
      "id": "feb14e4a-716b-4099-9ccf-5f3786c1911f"
    },
    {
      "cell_type": "markdown",
      "metadata": {},
      "source": [
        "------------------------------------------------------------------------\n",
        "\n",
        "# Selecting Vector Elements that match a Condition"
      ],
      "id": "6683a439-c249-4366-ba61-05b0c6680169"
    },
    {
      "cell_type": "code",
      "execution_count": null,
      "metadata": {},
      "outputs": [
        {
          "output_type": "stream",
          "name": "stdout",
          "text": [
            " [1]  1 -1  6 -2  6  5  9  1 10 10"
          ]
        }
      ],
      "source": [
        "# create a vector of numbers\n",
        "y <- c(1, -1,  6, -2,  6,  5,  9,  1, 10, 10)\n",
        "y"
      ],
      "id": "eaf75714-4096-4c52-85e8-2ab260081346"
    },
    {
      "cell_type": "markdown",
      "metadata": {},
      "source": [
        "#### Select elements equal to 10"
      ],
      "id": "50c1b3b0-1960-4fc1-94ad-a49f114428f1"
    },
    {
      "cell_type": "code",
      "execution_count": null,
      "metadata": {},
      "outputs": [
        {
          "output_type": "stream",
          "name": "stdout",
          "text": [
            "[1] 10 10"
          ]
        }
      ],
      "source": [
        "y[y == 10]"
      ],
      "id": "5d04bb2e-b7de-4c6b-a229-fa58a7324159"
    },
    {
      "cell_type": "markdown",
      "metadata": {},
      "source": [
        "#### Select elements less than zero"
      ],
      "id": "ffac3457-87e4-4689-bbfd-b3e07d7c6afb"
    },
    {
      "cell_type": "code",
      "execution_count": null,
      "metadata": {},
      "outputs": [
        {
          "output_type": "stream",
          "name": "stdout",
          "text": [
            "[1] -1 -2"
          ]
        }
      ],
      "source": [
        "y[y < 0]"
      ],
      "id": "bb614531-ab9a-4d2f-82e4-9860c6287b54"
    },
    {
      "cell_type": "markdown",
      "metadata": {},
      "source": [
        "#### Select elements in the set {1, 2, 5}"
      ],
      "id": "eb10ea0d-5931-4006-9071-fee1d645b230"
    },
    {
      "cell_type": "code",
      "execution_count": null,
      "metadata": {},
      "outputs": [
        {
          "output_type": "stream",
          "name": "stdout",
          "text": [
            "[1] 1 5 1"
          ]
        }
      ],
      "source": [
        "y[y %in% c(1, 2, 5)]"
      ],
      "id": "188f4a48-97b4-470c-8323-863f3035792d"
    },
    {
      "cell_type": "markdown",
      "metadata": {},
      "source": [
        "------------------------------------------------------------------------\n",
        "\n",
        "# Programming with `for` Loops\n",
        "\n",
        "#### Basic `for` Loop Syntax:\n",
        "\n",
        "    for (index in sequence) {  \n",
        "      do something  \n",
        "    } \n",
        "\n",
        "#### Here’s a `for` loop that will “do something” for each number from 1 to 4"
      ],
      "id": "89cdea1a-8c97-4ece-a943-fc6a8d5664e7"
    },
    {
      "cell_type": "code",
      "execution_count": null,
      "metadata": {},
      "outputs": [
        {
          "output_type": "stream",
          "name": "stdout",
          "text": [
            "[1] 11\n",
            "[1] 12\n",
            "[1] 13\n",
            "[1] 14"
          ]
        }
      ],
      "source": [
        "for (i in 1:4) {\n",
        "  j <- i + 10     # add 10 to the \"current\" value of `i` in each step of the loop\n",
        "  print(j)        # print the result of `j` for each step of the loop\n",
        "}"
      ],
      "id": "c384cdc0-39c8-4942-8342-272f5124935c"
    },
    {
      "cell_type": "markdown",
      "metadata": {},
      "source": [
        "#### This is often used to iterate over each value in a vector where x\\[i\\] refers to element `i` of the vector `x`"
      ],
      "id": "223582f1-662d-44dc-b9cd-51f9cd4f3300"
    },
    {
      "cell_type": "code",
      "execution_count": null,
      "metadata": {},
      "outputs": [
        {
          "output_type": "stream",
          "name": "stdout",
          "text": [
            "[1] 10 15 20 25 30 35"
          ]
        },
        {
          "output_type": "stream",
          "name": "stdout",
          "text": [
            "[1] 3.333333\n",
            "[1] 5\n",
            "[1] 6.666667\n",
            "[1] 8.333333\n",
            "[1] 10\n",
            "[1] 11.66667"
          ]
        }
      ],
      "source": [
        "byFives <- seq(10, 37, by = 5)   # vector counts by 5\n",
        "byFives "
      ],
      "id": "119489c6-5b57-4690-b0d8-06e606f69f62"
    },
    {
      "cell_type": "markdown",
      "metadata": {},
      "source": [
        "------------------------------------------------------------------------\n",
        "\n",
        "# Programming with `while` Loops\n",
        "\n",
        "#### Basic `while` Loop Syntax:\n",
        "\n",
        "    while (true condition){\n",
        "      do something\n",
        "    }\n",
        "\n",
        "#### Here’s a `while` loop that prints the index `i` while it is less than 5:"
      ],
      "id": "415e2266-faec-4778-a5b6-41b95ba0a5d2"
    },
    {
      "cell_type": "code",
      "execution_count": null,
      "metadata": {},
      "outputs": [
        {
          "output_type": "stream",
          "name": "stdout",
          "text": [
            "[1] 1\n",
            "[1] 2\n",
            "[1] 3\n",
            "[1] 4"
          ]
        }
      ],
      "source": [
        "i <- 1            # initialize our index variable\n",
        "\n",
        "while (i < 5) {   # set the condition of the `while` loop\n",
        "  print(i)        # print the value of `i` in each step of the loop\n",
        "  i <- i + 1      # increment `i` for the next trip through the loop\n",
        "}"
      ],
      "id": "786b81a1-b905-4ff9-ab51-ac630e127e45"
    },
    {
      "cell_type": "markdown",
      "metadata": {},
      "source": [
        "------------------------------------------------------------------------\n",
        "\n",
        "# Programming with functions (that you build yourself!)\n",
        "\n",
        "#### Basic `function` Syntax:\n",
        "\n",
        "    function_name <- function(arg1) {\n",
        "      do something\n",
        "      return(new_object)\n",
        "    }\n",
        "\n",
        "#### Here’s a function that takes one number as an argument and squares it:"
      ],
      "id": "8dafee38-bb7f-48eb-8dbf-10615b6b70b6"
    },
    {
      "cell_type": "code",
      "execution_count": null,
      "metadata": {},
      "outputs": [
        {
          "output_type": "stream",
          "name": "stdout",
          "text": [
            "[1] 9"
          ]
        }
      ],
      "source": [
        "squared <- function(x) {       # the function will be called \"squared\" and takes one argument\n",
        "  calculation <- x * x         # this shows what the function will do with the `x` argument\n",
        "  return(calculation)          # this tells the function to display the result of `calculation`\n",
        "}\n",
        "\n",
        "# Nothing happens until you call the new `squared( )` function that you've created:\n",
        "squared(3)"
      ],
      "id": "78f65dd6-56a6-4e9f-b283-71fbfda1458a"
    },
    {
      "cell_type": "markdown",
      "metadata": {},
      "source": [
        "------------------------------------------------------------------------\n",
        "\n",
        "# Programming with conditional flow (if-else)\n",
        "\n",
        "#### Basic `if` Statement Syntax:\n",
        "\n",
        "    if (condition) {\n",
        "      do something\n",
        "    } else {\n",
        "      do something different\n",
        "    }"
      ],
      "id": "599f2770-51b9-48d4-b7f8-8b1c89971405"
    },
    {
      "cell_type": "code",
      "execution_count": null,
      "metadata": {},
      "outputs": [
        {
          "output_type": "stream",
          "name": "stdout",
          "text": [
            "[1] \"error: This function requires a numeric argument\""
          ]
        }
      ],
      "source": [
        "squared_better <- function(x) {       # the function will be called \"squared\" and takes one argument\n",
        "  if (!is.numeric(x)) {\n",
        "    print(\"error: This function requires a numeric argument\")\n",
        "  } else {\n",
        "    calculation <- x * x         # this shows what the function will do with the `x` argument\n",
        "    return(calculation)          # this tells the function to display the result of `calculation`\n",
        "  }\n",
        "}\n",
        "\n",
        "squared_better(\"1\")"
      ],
      "id": "f5fabe19-3253-4596-b3ae-e4ae81b069a8"
    },
    {
      "cell_type": "code",
      "execution_count": null,
      "metadata": {},
      "outputs": [
        {
          "output_type": "stream",
          "name": "stdout",
          "text": [
            "[1] \"Yes\""
          ]
        }
      ],
      "source": [
        "var <- 5           # some variable set to 5\n",
        "\n",
        "if (var > 3) {     # if condition\n",
        "  print('Yes')     # do this if condition is satisfied\n",
        "} else {\n",
        "  print('No')      # do this if condition is NOT satisfied\n",
        "}"
      ],
      "id": "48c3d31c-f4fe-44dc-8196-dcdfb9f841f0"
    },
    {
      "cell_type": "markdown",
      "metadata": {},
      "source": [
        "These `if` statements work well with other programming tools:\n",
        "\n",
        "-   Inside a loop you might test a condition with each iteration through\n",
        "    the loop and provide alternate instructions depending on the\n",
        "    outcome.  \n",
        "-   As part of a `function` you might provide different instructions\n",
        "    depending on the argument supplied.\n",
        "\n",
        "#### Fine to link as many conditions as needed:\n",
        "\n",
        "    if (condition){\n",
        "      do something\n",
        "    } else if (another condition) {\n",
        "      do something else\n",
        "    } else {\n",
        "      do something different\n",
        "    }\n",
        "\n",
        "------------------------------------------------------------------------\n",
        "\n",
        "# Data Frame operations\n",
        "\n",
        "#### A special case of a list where all elements are the same length."
      ],
      "id": "8e2f178e-276b-46b9-9985-b7f0a0681fb4"
    },
    {
      "cell_type": "code",
      "execution_count": null,
      "metadata": {},
      "outputs": [
        {
          "output_type": "stream",
          "name": "stdout",
          "text": [
            "  numbers letters\n",
            "1       1       A\n",
            "2       2       B\n",
            "3       3       C\n",
            "4       4       D\n",
            "5       5       E\n",
            "6       6       F"
          ]
        }
      ],
      "source": [
        "letters <- c(\"A\", \"B\", \"C\", \"D\", \"E\", \"F\")    # create a vector\n",
        "numbers <- 1:6                                # create another vector\n",
        "\n",
        "df <- data.frame(numbers, letters)            # combine them as a data frame\n",
        "df"
      ],
      "id": "986e9893-d3b7-49c5-a760-b0d00e4b9478"
    },
    {
      "cell_type": "markdown",
      "metadata": {},
      "source": [
        "You can use square brackets to select specific elements based on \\[row,\n",
        "column\\]…\n",
        "\n",
        "#### Select element in row 3 and column 2"
      ],
      "id": "4be91991-7d53-4288-8060-ec1d60632436"
    },
    {
      "cell_type": "code",
      "execution_count": null,
      "metadata": {},
      "outputs": [
        {
          "output_type": "stream",
          "name": "stdout",
          "text": [
            "[1] \"C\""
          ]
        }
      ],
      "source": [
        "df[3, 2]"
      ],
      "id": "251ea916-c0e2-42ac-8db0-ceb423af5406"
    },
    {
      "cell_type": "markdown",
      "metadata": {},
      "source": [
        "#### Select all elements in row 4 (note comma placement)"
      ],
      "id": "043726f9-8c90-41d7-8b8b-1294aa60b13e"
    },
    {
      "cell_type": "code",
      "execution_count": null,
      "metadata": {},
      "outputs": [
        {
          "output_type": "stream",
          "name": "stdout",
          "text": [
            "  numbers letters\n",
            "4       4       D"
          ]
        }
      ],
      "source": [
        "df[4, ]"
      ],
      "id": "abfed592-34e9-49a5-87ff-7a2af0f48a1c"
    },
    {
      "cell_type": "markdown",
      "metadata": {},
      "source": [
        "#### Select all elements in column 2 (note comma placement again)"
      ],
      "id": "67265c11-93aa-429a-8325-7916b0819794"
    },
    {
      "cell_type": "code",
      "execution_count": null,
      "metadata": {},
      "outputs": [
        {
          "output_type": "stream",
          "name": "stdout",
          "text": [
            "[1] \"A\" \"B\" \"C\" \"D\" \"E\" \"F\""
          ]
        }
      ],
      "source": [
        "df[ , 2]"
      ],
      "id": "9c23babe-5bb5-4d4a-ae9c-64e25beabe9f"
    },
    {
      "cell_type": "markdown",
      "metadata": {},
      "source": [
        "------------------------------------------------------------------------\n",
        "\n",
        "# Nested looping (e.g., over rows and columns)"
      ],
      "id": "7c61728d-cc75-4527-9c49-3094ae9175fc"
    },
    {
      "cell_type": "code",
      "execution_count": null,
      "metadata": {},
      "outputs": [
        {
          "output_type": "stream",
          "name": "stdout",
          "text": [
            "             V1            V2            V3            V4            V5\n",
            "1 Row 1 , Col 1 Row 1 , Col 2 Row 1 , Col 3 Row 1 , Col 4 Row 1 , Col 5\n",
            "2 Row 2 , Col 1 Row 2 , Col 2 Row 2 , Col 3 Row 2 , Col 4 Row 2 , Col 5\n",
            "3 Row 3 , Col 1 Row 3 , Col 2 Row 3 , Col 3 Row 3 , Col 4 Row 3 , Col 5\n",
            "4 Row 4 , Col 1 Row 4 , Col 2 Row 4 , Col 3 Row 4 , Col 4 Row 4 , Col 5\n",
            "5 Row 5 , Col 1 Row 5 , Col 2 Row 5 , Col 3 Row 5 , Col 4 Row 5 , Col 5\n",
            "6 Row 6 , Col 1 Row 6 , Col 2 Row 6 , Col 3 Row 6 , Col 4 Row 6 , Col 5"
          ]
        }
      ],
      "source": [
        "df2 <- data.frame(NULL)  # we need a placeholder, and it should be a data.frame \n",
        "Rows <- c(1:6)\n",
        "Cols <- c(1:5)\n",
        "\n",
        "\n",
        "for (j in 1:length(Cols)) {           # outer loop processed after each complete cycle of inner loop\n",
        "  for (i in 1:length(Rows)) {         # inner loop processed most frequently\n",
        "    df2[i, j] <- paste(\"Row\", i, \", Col\", j)  \n",
        "  }\n",
        "}\n",
        "\n",
        "df2"
      ],
      "id": "18f1f2a5-3385-48fc-9a8b-4af336c878d4"
    },
    {
      "cell_type": "markdown",
      "metadata": {},
      "source": [
        "------------------------------------------------------------------------\n",
        "\n",
        "# The dollar sign `$` operator for data frames"
      ],
      "id": "90a8cdf5-0203-4f4b-aa87-236cd00e0689"
    },
    {
      "cell_type": "code",
      "execution_count": null,
      "metadata": {},
      "outputs": [
        {
          "output_type": "stream",
          "name": "stdout",
          "text": [
            "  numbers letters\n",
            "1       1       A\n",
            "2       2       B\n",
            "3       3       C\n",
            "4       4       D\n",
            "5       5       E\n",
            "6       6       F"
          ]
        }
      ],
      "source": [
        "df <- data.frame(numbers, letters)    # same data frame used before\n",
        "df"
      ],
      "id": "9c437999-239b-4dd4-8f89-c422b0f3adef"
    },
    {
      "cell_type": "markdown",
      "metadata": {},
      "source": [
        "#### Dollar sign `$` used to select a variable in a data frame by name (and simplify class)"
      ],
      "id": "f90f1d81-2f4a-4875-9f7d-dee8ee44bd68"
    },
    {
      "cell_type": "code",
      "execution_count": null,
      "metadata": {},
      "outputs": [
        {
          "output_type": "stream",
          "name": "stdout",
          "text": [
            "[1] 1 2 3 4 5 6"
          ]
        }
      ],
      "source": [
        "df$numbers"
      ],
      "id": "13c7ea53-c732-4bb8-adff-d2fbfee06d07"
    },
    {
      "cell_type": "markdown",
      "metadata": {},
      "source": [
        "#### Dollar sign `$` used to add a variable in a data frame by name"
      ],
      "id": "c404a05f-00dd-4b1d-b2fb-bded8f47ecde"
    },
    {
      "cell_type": "code",
      "execution_count": null,
      "metadata": {},
      "outputs": [
        {
          "output_type": "stream",
          "name": "stdout",
          "text": [
            "  numbers letters       combo trueFalse\n",
            "1       1       A A - 1 combo      TRUE\n",
            "2       2       B B - 2 combo     FALSE\n",
            "3       3       C C - 3 combo      TRUE\n",
            "4       4       D D - 4 combo      TRUE\n",
            "5       5       E E - 5 combo     FALSE\n",
            "6       6       F F - 6 combo     FALSE"
          ]
        }
      ],
      "source": [
        "df$combo <- paste(letters, \"-\", numbers, \"combo\")   # paste is a handy function too\n",
        "\n",
        "df$trueFalse <- c(T, F, T, T, F, F)\n",
        "df"
      ],
      "id": "3e711894-5460-4bb8-b848-6c11d1895832"
    },
    {
      "cell_type": "markdown",
      "metadata": {},
      "source": [
        "------------------------------------------------------------------------\n",
        "\n",
        "# Dollar sign `$` operator for other objects\n",
        "\n",
        "#### Consider a simple linear regression model (`mtcars` data set):"
      ],
      "id": "f67427a0-3fa5-473f-bfb5-b81b8fc357c4"
    },
    {
      "cell_type": "code",
      "execution_count": null,
      "metadata": {},
      "outputs": [],
      "source": [
        "# this is a model predicting miles per gallon from weight of the car\n",
        "CarModel <- lm(mpg ~ wt, data = mtcars)\n",
        "\n",
        "# same model, different syntax--harder to read, but $ helps auto-fill variable names\n",
        "CarModel2 <- lm(mtcars$mpg ~ mtcars$wt)  "
      ],
      "id": "04fe1525-8e1e-40cb-ae97-f3d3871be55b"
    },
    {
      "cell_type": "markdown",
      "metadata": {},
      "source": [
        "#### The `summary( )` command will provide a useful summary of the model information"
      ],
      "id": "dca6d7a7-940d-4d07-9b65-6ee80f1d10f5"
    },
    {
      "cell_type": "code",
      "execution_count": null,
      "metadata": {},
      "outputs": [
        {
          "output_type": "stream",
          "name": "stdout",
          "text": [
            "\n",
            "Call:\n",
            "lm(formula = mpg ~ wt, data = mtcars)\n",
            "\n",
            "Residuals:\n",
            "    Min      1Q  Median      3Q     Max \n",
            "-4.5432 -2.3647 -0.1252  1.4096  6.8727 \n",
            "\n",
            "Coefficients:\n",
            "            Estimate Std. Error t value Pr(>|t|)    \n",
            "(Intercept)  37.2851     1.8776  19.858  < 2e-16 ***\n",
            "wt           -5.3445     0.5591  -9.559 1.29e-10 ***\n",
            "---\n",
            "Signif. codes:  0 '***' 0.001 '**' 0.01 '*' 0.05 '.' 0.1 ' ' 1\n",
            "\n",
            "Residual standard error: 3.046 on 30 degrees of freedom\n",
            "Multiple R-squared:  0.7528,    Adjusted R-squared:  0.7446 \n",
            "F-statistic: 91.38 on 1 and 30 DF,  p-value: 1.294e-10"
          ]
        }
      ],
      "source": [
        "summary(CarModel)"
      ],
      "id": "b7c23396-bb08-446c-bded-12c981d6676d"
    },
    {
      "cell_type": "markdown",
      "metadata": {},
      "source": [
        "#### The `CarModel` object includes lots more though, as we can see through an `str()` command"
      ],
      "id": "31396132-fd82-4146-a6b4-3f6a7a604e0e"
    },
    {
      "cell_type": "code",
      "execution_count": null,
      "metadata": {},
      "outputs": [
        {
          "output_type": "stream",
          "name": "stderr",
          "text": [
            "── Attaching core tidyverse packages ──────────────────────── tidyverse 2.0.0 ──\n",
            "✔ dplyr     1.1.2     ✔ readr     2.1.4\n",
            "✔ forcats   1.0.0     ✔ stringr   1.5.0\n",
            "✔ ggplot2   3.4.3     ✔ tibble    3.2.1\n",
            "✔ lubridate 1.9.2     ✔ tidyr     1.3.0\n",
            "✔ purrr     1.0.2     \n",
            "── Conflicts ────────────────────────────────────────── tidyverse_conflicts() ──\n",
            "✖ dplyr::filter() masks stats::filter()\n",
            "✖ dplyr::lag()    masks stats::lag()\n",
            "ℹ Use the conflicted package (<http://conflicted.r-lib.org/>) to force all conflicts to become errors"
          ]
        },
        {
          "output_type": "stream",
          "name": "stdout",
          "text": [
            "List of 12\n",
            " $ coefficients : Named num [1:2] 37.29 -5.34\n",
            "  ..- attr(*, \"names\")= chr [1:2] \"(Intercept)\" \"wt\"\n",
            " $ residuals    : Named num [1:32] -2.28 -0.92 -2.09 1.3 -0.2 ...\n",
            "  ..- attr(*, \"names\")= chr [1:32] \"Mazda RX4\" \"Mazda RX4 Wag\" \"Datsun 710\" \"Hornet 4 Drive\" ...\n",
            " $ effects      : Named num [1:32] -113.65 -29.116 -1.661 1.631 0.111 ...\n",
            "  ..- attr(*, \"names\")= chr [1:32] \"(Intercept)\" \"wt\" \"\" \"\" ...\n",
            " $ rank         : int 2\n",
            " $ fitted.values: Named num [1:32] 23.3 21.9 24.9 20.1 18.9 ...\n",
            "  ..- attr(*, \"names\")= chr [1:32] \"Mazda RX4\" \"Mazda RX4 Wag\" \"Datsun 710\" \"Hornet 4 Drive\" ...\n",
            " $ assign       : int [1:2] 0 1\n",
            " $ qr           :List of 5\n",
            "  ..$ qr   : num [1:32, 1:2] -5.657 0.177 0.177 0.177 0.177 ...\n",
            "  .. ..- attr(*, \"dimnames\")=List of 2\n",
            "  .. ..- attr(*, \"assign\")= int [1:2] 0 1\n",
            "  ..$ qraux: num [1:2] 1.18 1.05\n",
            "  ..$ pivot: int [1:2] 1 2\n",
            "  ..$ tol  : num 1e-07\n",
            "  ..$ rank : int 2\n",
            "  ..- attr(*, \"class\")= chr \"qr\"\n",
            " $ df.residual  : int 30\n",
            " $ xlevels      : Named list()\n",
            " $ call         : language lm(formula = mpg ~ wt, data = mtcars)\n",
            " $ terms        :Classes 'terms', 'formula'  language mpg ~ wt\n",
            "  .. ..- attr(*, \"variables\")= language list(mpg, wt)\n",
            "  .. ..- attr(*, \"factors\")= int [1:2, 1] 0 1\n",
            "  .. .. ..- attr(*, \"dimnames\")=List of 2\n",
            "  .. ..- attr(*, \"term.labels\")= chr \"wt\"\n",
            "  .. ..- attr(*, \"order\")= int 1\n",
            "  .. ..- attr(*, \"intercept\")= int 1\n",
            "  .. ..- attr(*, \"response\")= int 1\n",
            "  .. ..- attr(*, \".Environment\")=<environment: R_GlobalEnv> \n",
            "  .. ..- attr(*, \"predvars\")= language list(mpg, wt)\n",
            "  .. ..- attr(*, \"dataClasses\")= Named chr [1:2] \"numeric\" \"numeric\"\n",
            "  .. .. ..- attr(*, \"names\")= chr [1:2] \"mpg\" \"wt\"\n",
            " $ model        :'data.frame':  32 obs. of  2 variables:\n",
            "  ..$ mpg: num [1:32] 21 21 22.8 21.4 18.7 18.1 14.3 24.4 22.8 19.2 ...\n",
            "  ..$ wt : num [1:32] 2.62 2.88 2.32 3.21 3.44 ...\n",
            "  ..- attr(*, \"terms\")=Classes 'terms', 'formula'  language mpg ~ wt\n",
            "  .. .. ..- attr(*, \"variables\")= language list(mpg, wt)\n",
            "  .. .. ..- attr(*, \"factors\")= int [1:2, 1] 0 1\n",
            "  .. .. .. ..- attr(*, \"dimnames\")=List of 2\n",
            "  .. .. ..- attr(*, \"term.labels\")= chr \"wt\"\n",
            "  .. .. ..- attr(*, \"order\")= int 1\n",
            "  .. .. ..- attr(*, \"intercept\")= int 1\n",
            "  .. .. ..- attr(*, \"response\")= int 1\n",
            "  .. .. ..- attr(*, \".Environment\")=<environment: R_GlobalEnv> \n",
            "  .. .. ..- attr(*, \"predvars\")= language list(mpg, wt)\n",
            "  .. .. ..- attr(*, \"dataClasses\")= Named chr [1:2] \"numeric\" \"numeric\"\n",
            "  .. .. .. ..- attr(*, \"names\")= chr [1:2] \"mpg\" \"wt\"\n",
            " - attr(*, \"class\")= chr \"lm\""
          ]
        }
      ],
      "source": [
        "library(tidyverse)"
      ],
      "id": "00fc6c0a-f770-4446-b952-2a2b0f2da68f"
    },
    {
      "cell_type": "markdown",
      "metadata": {},
      "source": [
        "We can extract that information from `CarModel` using the dollar sign\n",
        "`$` operator.\n",
        "\n",
        "How about coefficient estimates:"
      ],
      "id": "615bb3f0-b3a6-40c2-a164-acc36e21656e"
    },
    {
      "cell_type": "code",
      "execution_count": null,
      "metadata": {},
      "outputs": [
        {
          "output_type": "stream",
          "name": "stdout",
          "text": [
            "(Intercept)          wt \n",
            "  37.285126   -5.344472 "
          ]
        }
      ],
      "source": [
        "CarModel$coefficients"
      ],
      "id": "6da0e898-32fa-4ec6-91b1-9d741d5f9703"
    },
    {
      "cell_type": "code",
      "execution_count": null,
      "metadata": {},
      "outputs": [
        {
          "output_type": "stream",
          "name": "stdout",
          "text": [
            "                     mpg    wt\n",
            "Mazda RX4           21.0 2.620\n",
            "Mazda RX4 Wag       21.0 2.875\n",
            "Datsun 710          22.8 2.320\n",
            "Hornet 4 Drive      21.4 3.215\n",
            "Hornet Sportabout   18.7 3.440\n",
            "Valiant             18.1 3.460\n",
            "Duster 360          14.3 3.570\n",
            "Merc 240D           24.4 3.190\n",
            "Merc 230            22.8 3.150\n",
            "Merc 280            19.2 3.440\n",
            "Merc 280C           17.8 3.440\n",
            "Merc 450SE          16.4 4.070\n",
            "Merc 450SL          17.3 3.730\n",
            "Merc 450SLC         15.2 3.780\n",
            "Cadillac Fleetwood  10.4 5.250\n",
            "Lincoln Continental 10.4 5.424\n",
            "Chrysler Imperial   14.7 5.345\n",
            "Fiat 128            32.4 2.200\n",
            "Honda Civic         30.4 1.615\n",
            "Toyota Corolla      33.9 1.835\n",
            "Toyota Corona       21.5 2.465\n",
            "Dodge Challenger    15.5 3.520\n",
            "AMC Javelin         15.2 3.435\n",
            "Camaro Z28          13.3 3.840\n",
            "Pontiac Firebird    19.2 3.845\n",
            "Fiat X1-9           27.3 1.935\n",
            "Porsche 914-2       26.0 2.140\n",
            "Lotus Europa        30.4 1.513\n",
            "Ford Pantera L      15.8 3.170\n",
            "Ferrari Dino        19.7 2.770\n",
            "Maserati Bora       15.0 3.570\n",
            "Volvo 142E          21.4 2.780"
          ]
        },
        {
          "output_type": "stream",
          "name": "stdout",
          "text": [
            "(Intercept)          wt \n",
            "  37.285126   -5.344472 "
          ]
        },
        {
          "output_type": "stream",
          "name": "stdout",
          "text": [
            "                     mpg    wt\n",
            "Mazda RX4           21.0 2.620\n",
            "Mazda RX4 Wag       21.0 2.875\n",
            "Datsun 710          22.8 2.320\n",
            "Hornet 4 Drive      21.4 3.215\n",
            "Hornet Sportabout   18.7 3.440\n",
            "Valiant             18.1 3.460\n",
            "Duster 360          14.3 3.570\n",
            "Merc 240D           24.4 3.190\n",
            "Merc 230            22.8 3.150\n",
            "Merc 280            19.2 3.440\n",
            "Merc 280C           17.8 3.440\n",
            "Merc 450SE          16.4 4.070\n",
            "Merc 450SL          17.3 3.730\n",
            "Merc 450SLC         15.2 3.780\n",
            "Cadillac Fleetwood  10.4 5.250\n",
            "Lincoln Continental 10.4 5.424\n",
            "Chrysler Imperial   14.7 5.345\n",
            "Fiat 128            32.4 2.200\n",
            "Honda Civic         30.4 1.615\n",
            "Toyota Corolla      33.9 1.835\n",
            "Toyota Corona       21.5 2.465\n",
            "Dodge Challenger    15.5 3.520\n",
            "AMC Javelin         15.2 3.435\n",
            "Camaro Z28          13.3 3.840\n",
            "Pontiac Firebird    19.2 3.845\n",
            "Fiat X1-9           27.3 1.935\n",
            "Porsche 914-2       26.0 2.140\n",
            "Lotus Europa        30.4 1.513\n",
            "Ford Pantera L      15.8 3.170\n",
            "Ferrari Dino        19.7 2.770\n",
            "Maserati Bora       15.0 3.570\n",
            "Volvo 142E          21.4 2.780"
          ]
        },
        {
          "output_type": "stream",
          "name": "stdout",
          "text": [
            "(Intercept)          wt \n",
            "  37.285126   -5.344472 "
          ]
        },
        {
          "output_type": "stream",
          "name": "stdout",
          "text": [
            "$model\n",
            "                     mpg    wt\n",
            "Mazda RX4           21.0 2.620\n",
            "Mazda RX4 Wag       21.0 2.875\n",
            "Datsun 710          22.8 2.320\n",
            "Hornet 4 Drive      21.4 3.215\n",
            "Hornet Sportabout   18.7 3.440\n",
            "Valiant             18.1 3.460\n",
            "Duster 360          14.3 3.570\n",
            "Merc 240D           24.4 3.190\n",
            "Merc 230            22.8 3.150\n",
            "Merc 280            19.2 3.440\n",
            "Merc 280C           17.8 3.440\n",
            "Merc 450SE          16.4 4.070\n",
            "Merc 450SL          17.3 3.730\n",
            "Merc 450SLC         15.2 3.780\n",
            "Cadillac Fleetwood  10.4 5.250\n",
            "Lincoln Continental 10.4 5.424\n",
            "Chrysler Imperial   14.7 5.345\n",
            "Fiat 128            32.4 2.200\n",
            "Honda Civic         30.4 1.615\n",
            "Toyota Corolla      33.9 1.835\n",
            "Toyota Corona       21.5 2.465\n",
            "Dodge Challenger    15.5 3.520\n",
            "AMC Javelin         15.2 3.435\n",
            "Camaro Z28          13.3 3.840\n",
            "Pontiac Firebird    19.2 3.845\n",
            "Fiat X1-9           27.3 1.935\n",
            "Porsche 914-2       26.0 2.140\n",
            "Lotus Europa        30.4 1.513\n",
            "Ford Pantera L      15.8 3.170\n",
            "Ferrari Dino        19.7 2.770\n",
            "Maserati Bora       15.0 3.570\n",
            "Volvo 142E          21.4 2.780"
          ]
        },
        {
          "output_type": "stream",
          "name": "stdout",
          "text": [
            "$coefficients\n",
            "(Intercept)          wt \n",
            "  37.285126   -5.344472 "
          ]
        }
      ],
      "source": [
        "# compare methods to select various elements...\n",
        "\n",
        "# double square brackets\n",
        "CarModel[[\"model\"]]"
      ],
      "id": "e0ba31ff-a9d1-4287-8878-bceec2979964"
    },
    {
      "cell_type": "markdown",
      "metadata": {},
      "source": [
        "We often show residuals vs fitted values to evaluate a `CarModel` fit.\n",
        "The `CarModel` object stores that information for your use, so you can\n",
        "extract it with the `$` operator to easily retrieve it:"
      ],
      "id": "fea94235-460d-45dd-89b7-0733fcf80fe5"
    },
    {
      "cell_type": "code",
      "execution_count": null,
      "metadata": {},
      "outputs": [
        {
          "output_type": "display_data",
          "metadata": {},
          "data": {
            "image/png": "[encoded data removed]"
          }
        }
      ],
      "source": [
        "library(tidyverse)\n",
        "\n",
        "require(ggplot2)    # note--base r does plots too, but `ggplot2` gives you much more control\n",
        "\n",
        "ggplot() + \n",
        "  geom_point(aes(x = CarModel$fitted.values, y = CarModel$residuals))"
      ],
      "id": "eb9994da-22c5-4777-8993-43061a519c03"
    },
    {
      "cell_type": "markdown",
      "metadata": {},
      "source": [
        "For the sake of illustration, suppose you want to color the residuals by\n",
        "the number of cylinders as a proxy for engine size. (note it would\n",
        "usually make more sense to include cylinder as a variable in the model,\n",
        "but we’re just showing a way that you can pull information from\n",
        "compatible data sets together on a plot)"
      ],
      "id": "aaaaa1b4-114a-4cb4-ba68-3043aaa85030"
    },
    {
      "cell_type": "code",
      "execution_count": null,
      "metadata": {},
      "outputs": [
        {
          "output_type": "display_data",
          "metadata": {},
          "data": {
            "image/png": "[encoded data removed]"
          }
        }
      ],
      "source": [
        "require(ggplot2)\n",
        "\n",
        "ggplot() + \n",
        "  geom_point(aes(x = CarModel$fitted.values, y = CarModel$residuals, color = as.factor(mtcars$cyl)))"
      ],
      "id": "2e69530e-c4c0-40f4-abad-6c1d717045d7"
    },
    {
      "cell_type": "markdown",
      "metadata": {},
      "source": [
        "------------------------------------------------------------------------\n",
        "\n",
        "# Simulation\n",
        "\n",
        "#### Result from a real study about carbon capture in tropical forests:\n",
        "\n",
        "> 95% CI: 11,600 ± 2⋅1000 = (9,600, 13,600)\n",
        "\n",
        "> “We are 95% confident that the average amount of carbon stored in each\n",
        "> square kilometer of tropical forest is between 9,600 and 13,600 tons”\n",
        "\n",
        "What’s wrong with saying “there’s a 95% chance that the average amount\n",
        "of carbon stored in each square kilometer of tropical forest is between\n",
        "9,600 and 13,600 tons” ??"
      ],
      "id": "f52cb364-c2ff-410e-993a-9f37191a5280"
    },
    {
      "cell_type": "code",
      "execution_count": null,
      "metadata": {},
      "outputs": [
        {
          "output_type": "display_data",
          "metadata": {},
          "data": {
            "image/png": "[encoded data removed]"
          }
        },
        {
          "output_type": "stream",
          "name": "stdout",
          "text": [
            "\n",
            "    One Sample t-test\n",
            "\n",
            "data:  normDatSim\n",
            "t = 38.94, df = 14, p-value = 1.128e-15\n",
            "alternative hypothesis: true mean is not equal to 0\n",
            "95 percent confidence interval:\n",
            " 11050.26 12338.48\n",
            "sample estimates:\n",
            "mean of x \n",
            " 11694.37 "
          ]
        }
      ],
      "source": [
        "normDatSim <- rnorm(n = 15, mean = 11600, sd = 1000)\n",
        "# normDatSim <- rexp(n = 15, rate = 1/11600)  # a non-normal distribution for comparison\n",
        "\n",
        "ggplot() +\n",
        "  geom_density(aes(normDatSim))"
      ],
      "id": "78aea235-40e6-4221-97a6-b5aede9eae68"
    },
    {
      "cell_type": "markdown",
      "metadata": {},
      "source": [
        "------------------------------------------------------------------------\n",
        "\n",
        "# Simulation with Loops"
      ],
      "id": "5b535c85-de35-44d5-93a0-2801901be1f6"
    },
    {
      "cell_type": "code",
      "execution_count": null,
      "metadata": {},
      "outputs": [
        {
          "output_type": "stream",
          "name": "stdout",
          "text": [
            "    simulationID    lower    upper captureMu\n",
            "1              1 10951.64 12063.92      TRUE\n",
            "2              2 11381.52 12364.64      TRUE\n",
            "3              3 10757.10 11362.62     FALSE\n",
            "4              4 11106.01 12054.23      TRUE\n",
            "5              5 10856.05 12069.66      TRUE\n",
            "6              6 11056.91 11856.22      TRUE\n",
            "7              7 11120.45 12281.06      TRUE\n",
            "8              8 11274.73 12109.13      TRUE\n",
            "9              9 11105.12 11718.78      TRUE\n",
            "10            10 11613.59 12933.86     FALSE\n",
            "11            11 10943.30 12237.77      TRUE\n",
            "12            12 10912.16 12335.99      TRUE\n",
            "13            13 10858.53 11864.63      TRUE\n",
            "14            14 10864.67 12137.97      TRUE\n",
            "15            15 11044.00 12004.98      TRUE\n",
            "16            16 10724.82 11863.10      TRUE\n",
            "17            17 10480.79 11564.20     FALSE\n",
            "18            18 10980.51 11863.02      TRUE\n",
            "19            19 10878.12 12078.88      TRUE\n",
            "20            20 10993.17 11990.60      TRUE\n",
            "21            21 11399.96 12319.79      TRUE\n",
            "22            22 11392.57 12625.91      TRUE\n",
            "23            23 11118.70 12489.45      TRUE\n",
            "24            24 11115.30 12206.30      TRUE\n",
            "25            25 10982.36 12086.13      TRUE\n",
            "26            26 11193.24 12286.27      TRUE\n",
            "27            27 10920.10 11716.07      TRUE\n",
            "28            28 10785.06 11895.96      TRUE\n",
            "29            29 10989.83 12327.53      TRUE\n",
            "30            30 10817.92 11700.46      TRUE\n",
            "31            31 11148.83 12247.25      TRUE\n",
            "32            32 10995.86 11891.03      TRUE\n",
            "33            33 11465.59 12490.35      TRUE\n",
            "34            34 11400.47 11845.87      TRUE\n",
            "35            35 10819.18 11830.05      TRUE\n",
            "36            36 11181.56 12198.73      TRUE\n",
            "37            37 11423.88 12506.52      TRUE\n",
            "38            38 11079.25 12230.20      TRUE\n",
            "39            39 11778.09 12702.16     FALSE\n",
            "40            40 11598.34 12562.53      TRUE\n",
            "41            41 11052.68 12085.09      TRUE\n",
            "42            42 11542.88 12442.73      TRUE\n",
            "43            43 11373.55 12235.10      TRUE\n",
            "44            44 10927.17 11979.28      TRUE\n",
            "45            45 11176.70 11888.40      TRUE\n",
            "46            46 10502.39 11792.19      TRUE\n",
            "47            47 11196.89 12350.88      TRUE\n",
            "48            48 11411.08 12351.85      TRUE\n",
            "49            49 10618.14 12050.28      TRUE\n",
            "50            50 11625.51 12406.97     FALSE\n",
            "51            51 11053.16 12227.07      TRUE\n",
            "52            52 10742.28 12438.66      TRUE\n",
            "53            53 10652.67 11853.04      TRUE\n",
            "54            54 11605.29 12733.69     FALSE\n",
            "55            55 11675.32 12595.91     FALSE\n",
            "56            56 10812.80 12120.02      TRUE\n",
            "57            57 10870.78 11803.72      TRUE\n",
            "58            58 10859.61 11974.42      TRUE\n",
            "59            59 11416.47 12369.14      TRUE\n",
            "60            60 11124.42 12348.10      TRUE\n",
            "61            61 11498.92 12451.33      TRUE\n",
            "62            62 11098.49 12227.18      TRUE\n",
            "63            63 11573.54 12715.86      TRUE\n",
            "64            64 10606.72 11831.00      TRUE\n",
            "65            65 10755.13 12110.51      TRUE\n",
            "66            66 10992.57 12291.52      TRUE\n",
            "67            67 11284.85 12171.82      TRUE\n",
            "68            68 11404.67 12245.93      TRUE\n",
            "69            69 11607.74 12234.39     FALSE\n",
            "70            70 10747.50 12373.05      TRUE\n",
            "71            71 10761.60 11654.27      TRUE\n",
            "72            72 11506.29 12492.61      TRUE\n",
            "73            73 10672.65 11796.53      TRUE\n",
            "74            74 11408.80 12626.30      TRUE\n",
            "75            75 11162.15 12477.91      TRUE\n",
            "76            76 10789.60 11843.39      TRUE\n",
            "77            77 10739.91 11990.97      TRUE\n",
            "78            78 10473.05 11743.26      TRUE\n",
            "79            79 10908.90 11946.73      TRUE\n",
            "80            80 11514.36 12431.76      TRUE\n",
            "81            81 11340.68 11970.50      TRUE\n",
            "82            82 10920.65 12038.67      TRUE\n",
            "83            83 11098.20 12092.10      TRUE\n",
            "84            84 11228.30 12185.98      TRUE\n",
            "85            85 10910.89 11818.41      TRUE\n",
            "86            86 11074.15 11808.58      TRUE\n",
            "87            87 11292.21 12424.85      TRUE\n",
            "88            88 11143.83 12259.90      TRUE\n",
            "89            89 11341.90 12367.54      TRUE\n",
            "90            90 10616.33 11908.13      TRUE\n",
            "91            91 10556.62 11815.58      TRUE\n",
            "92            92 11068.80 12029.68      TRUE\n",
            "93            93 10812.36 11639.83      TRUE\n",
            "94            94 11266.68 12517.41      TRUE\n",
            "95            95 10970.85 12254.53      TRUE\n",
            "96            96 11505.66 12592.98      TRUE\n",
            "97            97 11059.97 11717.21      TRUE\n",
            "98            98 11253.03 12565.48      TRUE\n",
            "99            99 11598.23 12504.74      TRUE\n",
            "100          100 10719.51 11928.73      TRUE"
          ]
        },
        {
          "output_type": "display_data",
          "metadata": {},
          "data": {
            "image/png": "[encoded data removed]"
          }
        },
        {
          "output_type": "stream",
          "name": "stdout",
          "text": [
            "[1] 0.92"
          ]
        }
      ],
      "source": [
        "# simulation settings\n",
        "nsimulations <- 100\n",
        "mu <- 11600\n",
        "sigma <- 1000\n",
        "sampleSize <- 15\n",
        "\n",
        "# initialize a data frame where we can store various results at each step in our simulation\n",
        "ConfIntDat <- data.frame(simulationID = rep(NA, nsimulations), \n",
        "                         lower = rep(NA, nsimulations), \n",
        "                         upper = rep(NA, nsimulations), \n",
        "                         captureMu = rep(NA, nsimulations))\n",
        "\n",
        "# use a loop to simulate many results and store them at each step\n",
        "for (i in 1:nsimulations) {                                   # increment 'i' from 1 to 'nsimulations'\n",
        "  normDatSim <- rnorm(n = sampleSize, mean = mu, sd = sigma)  # simulate a new random sample\n",
        "  ConfIntDat$simulationID[i] <- i                             # store an ID for each sample\n",
        "  ConfIntDat$lower[i] <- t.test(normDatSim)$conf.int[1]       # store the lower bound of our CI\n",
        "  ConfIntDat$upper[i] <- t.test(normDatSim)$conf.int[2]       # store upper bound of our CI\n",
        "  ConfIntDat$captureMu[i] <- (mu > ConfIntDat$lower[i] & mu < ConfIntDat$upper[i])\n",
        "\n",
        "}\n",
        "\n",
        "ConfIntDat"
      ],
      "id": "a99b20b6-5c28-4393-b0cf-8910804207b0"
    },
    {
      "cell_type": "markdown",
      "metadata": {},
      "source": [
        "-   Can you see why we call it a “95% confidence interval”?\n",
        "-   Tinker with the simulation settings and try again\n",
        "    -   Explore changes to `nsimulations`, `mu`, `sigma`, and\n",
        "        `sampleSize`\n",
        "    -   Try changing one at a time to larger or smaller values and\n",
        "        observe what happens\n",
        "\n",
        "------------------------------------------------------------------------\n",
        "\n",
        "# another way… (some would say “The R Way”)\n",
        "\n",
        "-   we can make a function that handles the guts of the loop and then\n",
        "    call the function as an argument\n",
        "-   then we can leverage more efficient tools to do things way faster\n",
        "    (vectorized functions, parallel processing, etc)\n",
        "\n",
        "### Here’s the original code…\n",
        "\n",
        "    # simulation settings\n",
        "    nsimulations <- 100\n",
        "    mu <- 34\n",
        "    sigma <- 5\n",
        "    sampleSize <- 15\n",
        "\n",
        "    # initialize a data frame where we can store various results at each step in our simulation\n",
        "    ConfIntDat <- data.frame(simulationID = rep(NA, nsimulations), \n",
        "                             lower = rep(NA, nsimulations), \n",
        "                             upper = rep(NA, nsimulations), \n",
        "                             captureMu = rep(NA, nsimulations))\n",
        "\n",
        "    # use a loop to simulate many results and store them at each step\n",
        "    for (i in 1:nsimulations) {                                   # increment 'i' from 1 to 'nsimulations'\n",
        "      normDatSim <- rnorm(n = sampleSize, mean = mu, sd = sigma)  # simulate a new random sample\n",
        "      ConfIntDat$simulationID[i] <- i                             # store an ID for each sample\n",
        "      ConfIntDat$lower[i] <- t.test(normDatSim)$conf.int[1]       # store the lower bound of our CI\n",
        "      ConfIntDat$upper[i] <- t.test(normDatSim)$conf.int[2]       # store upper bound of our CI\n",
        "      ConfIntDat$captureMu[i] <- (mu > ConfIntDat$lower[i] & mu < ConfIntDat$upper[i])\n",
        "\n",
        "    }\n",
        "\n",
        "### making a function…\n",
        "\n",
        "-   the simulation settings will be arguments we (or another user) might\n",
        "    want to change\n",
        "-   when in doubt, it’s better to program arguments rather than “hard\n",
        "    code” specific values within the guts of the function"
      ],
      "id": "37f0c6d0-0f81-42cb-b9f9-fd1697b0db06"
    },
    {
      "cell_type": "code",
      "execution_count": null,
      "metadata": {},
      "outputs": [
        {
          "output_type": "stream",
          "name": "stdout",
          "text": [
            "[[1]]\n",
            "[1] 30.11012\n",
            "\n",
            "[[2]]\n",
            "[1] 35.50061\n",
            "\n",
            "[[3]]\n",
            "[1] TRUE"
          ]
        }
      ],
      "source": [
        "ciSim <- function(mu, sigma, sampleSize) {\n",
        "  ## Purpose: function simulates random Normal data and constructs a 95% CI\n",
        "  ## Arguments: \n",
        "  ##    mu: population mean for Normal distribution from which samples are drawn\n",
        "  ##    sigma: population standard deviation for Normal distribution from which samples are drawn\n",
        "  ##    sampleSize: sample size to draw from Normal distribution\n",
        "  \n",
        "  result <- list(NULL)\n",
        "  normDatSim <- rnorm(n = sampleSize, mean = mu, sd = sigma)  # simulate a new random sample\n",
        "  result[1] <- t.test(normDatSim)$conf.int[1]                 # store lower bound of CI\n",
        "  result[2] <- t.test(normDatSim)$conf.int[2]                 # store upper bound of CI\n",
        "  result[3] <- (mu > result[1] & mu < result[2])              # store mu capture result\n",
        "  return(result)                                              # return our results\n",
        "}\n",
        "\n",
        "ciSim(mu = 34, sigma = 5, sampleSize = 15)"
      ],
      "id": "87669785-f2ce-4d66-b6b7-e78fba7664fd"
    },
    {
      "cell_type": "markdown",
      "metadata": {},
      "source": [
        "### let’s use mosaic::do() which can “do” something many times without writing a loop"
      ],
      "id": "dd6d9b8a-ba4b-40bf-bdcb-ce19878ef80c"
    },
    {
      "cell_type": "code",
      "execution_count": null,
      "metadata": {},
      "outputs": [
        {
          "output_type": "stream",
          "name": "stderr",
          "text": [
            "Registered S3 method overwritten by 'mosaic':\n",
            "  method                           from   \n",
            "  fortify.SpatialPolygonsDataFrame ggplot2"
          ]
        },
        {
          "output_type": "stream",
          "name": "stderr",
          "text": [
            "\n",
            "The 'mosaic' package masks several functions from core packages in order to add \n",
            "additional features.  The original behavior of these functions should not be affected by this."
          ]
        },
        {
          "output_type": "stream",
          "name": "stderr",
          "text": [
            "\n",
            "Attaching package: 'mosaic'"
          ]
        },
        {
          "output_type": "stream",
          "name": "stderr",
          "text": [
            "The following object is masked from 'package:Matrix':\n",
            "\n",
            "    mean"
          ]
        },
        {
          "output_type": "stream",
          "name": "stderr",
          "text": [
            "The following objects are masked from 'package:dplyr':\n",
            "\n",
            "    count, do, tally"
          ]
        },
        {
          "output_type": "stream",
          "name": "stderr",
          "text": [
            "The following object is masked from 'package:purrr':\n",
            "\n",
            "    cross"
          ]
        },
        {
          "output_type": "stream",
          "name": "stderr",
          "text": [
            "The following object is masked from 'package:ggplot2':\n",
            "\n",
            "    stat"
          ]
        },
        {
          "output_type": "stream",
          "name": "stderr",
          "text": [
            "The following objects are masked from 'package:stats':\n",
            "\n",
            "    binom.test, cor, cor.test, cov, fivenum, IQR, median, prop.test,\n",
            "    quantile, sd, t.test, var"
          ]
        },
        {
          "output_type": "stream",
          "name": "stderr",
          "text": [
            "The following objects are masked from 'package:base':\n",
            "\n",
            "    max, mean, min, prod, range, sample, sum"
          ]
        },
        {
          "output_type": "stream",
          "name": "stdout",
          "text": [
            "          V1       V2    V3\n",
            "1   31.68949 35.35167  TRUE\n",
            "2   32.13623 39.10774  TRUE\n",
            "3   31.69977 36.16027  TRUE\n",
            "4   31.83453 37.01544  TRUE\n",
            "5   29.19381 36.58244  TRUE\n",
            "6   30.73296 37.28102  TRUE\n",
            "7   34.22511 38.08191 FALSE\n",
            "8   29.46991 36.03697  TRUE\n",
            "9   31.12204 37.81801  TRUE\n",
            "10  33.02033 37.31291  TRUE\n",
            "11  32.26843 38.14532  TRUE\n",
            "12  32.66223 38.90659  TRUE\n",
            "13  29.58595 35.63642  TRUE\n",
            "14  30.84798  35.4195  TRUE\n",
            "15  30.70913 38.50565  TRUE\n",
            "16  30.40315 36.32444  TRUE\n",
            "17  30.51912 37.79584  TRUE\n",
            "18   32.3349 37.26446  TRUE\n",
            "19  27.89559 32.75271 FALSE\n",
            "20  30.64411 35.09954  TRUE\n",
            "21  29.78682 37.01726  TRUE\n",
            "22   30.6656 36.03401  TRUE\n",
            "23   32.9221 38.71433  TRUE\n",
            "24  31.05348 37.17227  TRUE\n",
            "25  32.62319 37.95872  TRUE\n",
            "26   32.3005 39.35412  TRUE\n",
            "27  29.61302 36.75143  TRUE\n",
            "28  30.00273 37.47262  TRUE\n",
            "29  31.30537 37.02367  TRUE\n",
            "30  30.86041 36.83134  TRUE\n",
            "31  32.17608 36.47328  TRUE\n",
            "32  30.37568 36.37338  TRUE\n",
            "33  30.72883 37.44587  TRUE\n",
            "34  28.28396 33.71298 FALSE\n",
            "35  30.40876  34.9993  TRUE\n",
            "36  33.81898 38.26532  TRUE\n",
            "37  33.68814 38.50317  TRUE\n",
            "38  31.63438 36.17854  TRUE\n",
            "39  30.79192 35.87345  TRUE\n",
            "40  32.08089 36.92641  TRUE\n",
            "41  31.43035 36.37642  TRUE\n",
            "42  31.71581 37.25003  TRUE\n",
            "43  30.01514 36.31407  TRUE\n",
            "44  28.80223 34.92582  TRUE\n",
            "45  30.92897 36.19809  TRUE\n",
            "46  32.73852 38.36571  TRUE\n",
            "47  31.06259 39.19116  TRUE\n",
            "48  30.50347 36.23075  TRUE\n",
            "49  31.70267  35.6684  TRUE\n",
            "50  27.91429 34.88012  TRUE\n",
            "51  30.46307 35.40425  TRUE\n",
            "52   31.5606 38.01331  TRUE\n",
            "53  31.45615 36.01011  TRUE\n",
            "54  30.27644 36.01683  TRUE\n",
            "55  31.75156  36.3332  TRUE\n",
            "56  32.14196 37.85626  TRUE\n",
            "57   29.4041 35.86816  TRUE\n",
            "58  30.43013 36.81042  TRUE\n",
            "59  32.29342  37.8017  TRUE\n",
            "60  30.76654 36.01106  TRUE\n",
            "61  32.72325 37.81665  TRUE\n",
            "62  30.50283 35.75524  TRUE\n",
            "63  28.91772 35.59128  TRUE\n",
            "64  31.96553 38.05584  TRUE\n",
            "65  33.25928 38.45827  TRUE\n",
            "66  33.23604 38.98669  TRUE\n",
            "67  30.28921 34.10587  TRUE\n",
            "68  32.13093  36.8422  TRUE\n",
            "69  29.13048 34.87579  TRUE\n",
            "70  28.67817 32.98417 FALSE\n",
            "71  31.36414 38.25195  TRUE\n",
            "72  31.99225 35.36558  TRUE\n",
            "73  31.51355 36.87387  TRUE\n",
            "74  29.48062 36.86135  TRUE\n",
            "75  32.35407 36.76065  TRUE\n",
            "76  32.35821 37.13274  TRUE\n",
            "77  29.94378 36.13238  TRUE\n",
            "78  34.24117 39.10306 FALSE\n",
            "79  30.73069 34.31167  TRUE\n",
            "80  31.16664 35.59955  TRUE\n",
            "81  30.67147  37.1378  TRUE\n",
            "82  32.00499 36.60792  TRUE\n",
            "83  31.13156 36.69318  TRUE\n",
            "84  30.15005 36.43416  TRUE\n",
            "85  34.34098 38.51551 FALSE\n",
            "86  29.99923 36.16264  TRUE\n",
            "87  33.19108 37.06999  TRUE\n",
            "88  29.94285 34.40408  TRUE\n",
            "89  31.26358 37.41752  TRUE\n",
            "90  31.68697 37.64279  TRUE\n",
            "91  32.75222 37.73318  TRUE\n",
            "92  31.72178 37.54619  TRUE\n",
            "93  32.47623 35.87089  TRUE\n",
            "94  29.77488  35.0127  TRUE\n",
            "95  28.67646 35.09785  TRUE\n",
            "96  32.66213 37.21233  TRUE\n",
            "97  31.83125 37.05029  TRUE\n",
            "98  29.51975  34.7174  TRUE\n",
            "99   32.0447 36.60818  TRUE\n",
            "100 31.66248 37.84766  TRUE"
          ]
        },
        {
          "output_type": "stream",
          "name": "stdout",
          "text": [
            "    rowname    lower    upper muCapture\n",
            "1         1 31.68949 35.35167      TRUE\n",
            "2         2 32.13623 39.10774      TRUE\n",
            "3         3 31.69977 36.16027      TRUE\n",
            "4         4 31.83453 37.01544      TRUE\n",
            "5         5 29.19381 36.58244      TRUE\n",
            "6         6 30.73296 37.28102      TRUE\n",
            "7         7 34.22511 38.08191     FALSE\n",
            "8         8 29.46991 36.03697      TRUE\n",
            "9         9 31.12204 37.81801      TRUE\n",
            "10       10 33.02033 37.31291      TRUE\n",
            "11       11 32.26843 38.14532      TRUE\n",
            "12       12 32.66223 38.90659      TRUE\n",
            "13       13 29.58595 35.63642      TRUE\n",
            "14       14 30.84798 35.41950      TRUE\n",
            "15       15 30.70913 38.50565      TRUE\n",
            "16       16 30.40315 36.32444      TRUE\n",
            "17       17 30.51912 37.79584      TRUE\n",
            "18       18 32.33490 37.26446      TRUE\n",
            "19       19 27.89559 32.75271     FALSE\n",
            "20       20 30.64411 35.09954      TRUE\n",
            "21       21 29.78682 37.01726      TRUE\n",
            "22       22 30.66560 36.03401      TRUE\n",
            "23       23 32.92210 38.71433      TRUE\n",
            "24       24 31.05348 37.17227      TRUE\n",
            "25       25 32.62319 37.95872      TRUE\n",
            "26       26 32.30050 39.35412      TRUE\n",
            "27       27 29.61302 36.75143      TRUE\n",
            "28       28 30.00273 37.47262      TRUE\n",
            "29       29 31.30537 37.02367      TRUE\n",
            "30       30 30.86041 36.83134      TRUE\n",
            "31       31 32.17608 36.47328      TRUE\n",
            "32       32 30.37568 36.37338      TRUE\n",
            "33       33 30.72883 37.44587      TRUE\n",
            "34       34 28.28396 33.71298     FALSE\n",
            "35       35 30.40876 34.99930      TRUE\n",
            "36       36 33.81898 38.26532      TRUE\n",
            "37       37 33.68814 38.50317      TRUE\n",
            "38       38 31.63438 36.17854      TRUE\n",
            "39       39 30.79192 35.87345      TRUE\n",
            "40       40 32.08089 36.92641      TRUE\n",
            "41       41 31.43035 36.37642      TRUE\n",
            "42       42 31.71581 37.25003      TRUE\n",
            "43       43 30.01514 36.31407      TRUE\n",
            "44       44 28.80223 34.92582      TRUE\n",
            "45       45 30.92897 36.19809      TRUE\n",
            "46       46 32.73852 38.36571      TRUE\n",
            "47       47 31.06259 39.19116      TRUE\n",
            "48       48 30.50347 36.23075      TRUE\n",
            "49       49 31.70267 35.66840      TRUE\n",
            "50       50 27.91429 34.88012      TRUE\n",
            "51       51 30.46307 35.40425      TRUE\n",
            "52       52 31.56060 38.01331      TRUE\n",
            "53       53 31.45615 36.01011      TRUE\n",
            "54       54 30.27644 36.01683      TRUE\n",
            "55       55 31.75156 36.33320      TRUE\n",
            "56       56 32.14196 37.85626      TRUE\n",
            "57       57 29.40410 35.86816      TRUE\n",
            "58       58 30.43013 36.81042      TRUE\n",
            "59       59 32.29342 37.80170      TRUE\n",
            "60       60 30.76654 36.01106      TRUE\n",
            "61       61 32.72325 37.81665      TRUE\n",
            "62       62 30.50283 35.75524      TRUE\n",
            "63       63 28.91772 35.59128      TRUE\n",
            "64       64 31.96553 38.05584      TRUE\n",
            "65       65 33.25928 38.45827      TRUE\n",
            "66       66 33.23604 38.98669      TRUE\n",
            "67       67 30.28921 34.10587      TRUE\n",
            "68       68 32.13093 36.84220      TRUE\n",
            "69       69 29.13048 34.87579      TRUE\n",
            "70       70 28.67817 32.98417     FALSE\n",
            "71       71 31.36414 38.25195      TRUE\n",
            "72       72 31.99225 35.36558      TRUE\n",
            "73       73 31.51355 36.87387      TRUE\n",
            "74       74 29.48062 36.86135      TRUE\n",
            "75       75 32.35407 36.76065      TRUE\n",
            "76       76 32.35821 37.13274      TRUE\n",
            "77       77 29.94378 36.13238      TRUE\n",
            "78       78 34.24117 39.10306     FALSE\n",
            "79       79 30.73069 34.31167      TRUE\n",
            "80       80 31.16664 35.59955      TRUE\n",
            "81       81 30.67147 37.13780      TRUE\n",
            "82       82 32.00499 36.60792      TRUE\n",
            "83       83 31.13156 36.69318      TRUE\n",
            "84       84 30.15005 36.43416      TRUE\n",
            "85       85 34.34098 38.51551     FALSE\n",
            "86       86 29.99923 36.16264      TRUE\n",
            "87       87 33.19108 37.06999      TRUE\n",
            "88       88 29.94285 34.40408      TRUE\n",
            "89       89 31.26358 37.41752      TRUE\n",
            "90       90 31.68697 37.64279      TRUE\n",
            "91       91 32.75222 37.73318      TRUE\n",
            "92       92 31.72178 37.54619      TRUE\n",
            "93       93 32.47623 35.87089      TRUE\n",
            "94       94 29.77488 35.01270      TRUE\n",
            "95       95 28.67646 35.09785      TRUE\n",
            "96       96 32.66213 37.21233      TRUE\n",
            "97       97 31.83125 37.05029      TRUE\n",
            "98       98 29.51975 34.71740      TRUE\n",
            "99       99 32.04470 36.60818      TRUE\n",
            "100     100 31.66248 37.84766      TRUE"
          ]
        }
      ],
      "source": [
        "library(mosaic)"
      ],
      "id": "20e89194-542d-4c44-a357-26745c94b4fc"
    },
    {
      "cell_type": "markdown",
      "metadata": {},
      "source": [
        "### plot it"
      ],
      "id": "371d64c4-4e8c-41b4-bc2c-36f1055ddd5d"
    },
    {
      "cell_type": "code",
      "execution_count": null,
      "metadata": {},
      "outputs": [
        {
          "output_type": "display_data",
          "metadata": {},
          "data": {
            "image/png": "[encoded data removed]"
          }
        },
        {
          "output_type": "stream",
          "name": "stdout",
          "text": [
            "[1] 0.94"
          ]
        }
      ],
      "source": [
        "sim_results_df %>%\n",
        "  ggplot() +\n",
        "  geom_segment(aes(    x = lower,    y = rowname, \n",
        "                    xend = upper, yend = rowname, \n",
        "                   color = muCapture)) + \n",
        "  geom_vline(aes(xintercept = 34)) +      # mu reference is hard coded here because mu wasn't returned by `ciSim()`\n",
        "  xlab(\"Simulated confidence interval from Normal data\") + \n",
        "  ylab(\"Index of a CI based on a simulated random sample\")"
      ],
      "id": "ed35f122-3b52-449f-bbc9-9859e2c650d0"
    },
    {
      "cell_type": "markdown",
      "metadata": {},
      "source": [
        "# Second part\n",
        "\n",
        "    -   `read.csv` for reading datasets\n",
        "\n",
        "    -   `dplyr`\n",
        "\n",
        "    -   `ggplot2`\n",
        "\n",
        "    -   `ggPlotThemes`\n",
        "\n",
        "# csv\n",
        "\n",
        "Consider this `csv` file:\n",
        "\n",
        "    Name, Age, Height\n",
        "    Alice, 21, 5.5\n",
        "    Bob, 25, 6.2\n",
        "    Charlie, 35, 5.9\n",
        "\n",
        "You can hard-code this into `R` as follows:"
      ],
      "id": "983864ea-9063-4885-bc9f-3443cfab0bb0"
    },
    {
      "cell_type": "code",
      "execution_count": null,
      "metadata": {},
      "outputs": [
        {
          "output_type": "display_data",
          "metadata": {},
          "data": {}
        }
      ],
      "source": [
        "library(knitr)\n",
        "library(dplyr)\n",
        "\n",
        "data_hard_code <- data.frame(\n",
        "    Name = c(\"Alice\", \"Bob\", \"Charlie\"),\n",
        "    Age = c(21, 25, 35),\n",
        "    Name = c(5.5, 6.2, 5.9)\n",
        ")\n",
        "data_hard_code %>% knitr::kable()"
      ],
      "id": "382eee55-5f56-4531-9836-8b7dc5e9323e"
    },
    {
      "cell_type": "markdown",
      "metadata": {},
      "source": [
        "Let’s say we want to read the CSV file from memory, you can do this as\n",
        "follows:"
      ],
      "id": "dac0c491-0974-44bc-8c41-5745d0c577c1"
    },
    {
      "cell_type": "code",
      "execution_count": null,
      "metadata": {},
      "outputs": [
        {
          "output_type": "display_data",
          "metadata": {},
          "data": {}
        }
      ],
      "source": [
        "Name <- c(\"Jon\", \"Bill\", \"Maria\", \"Ben\", \"Tina\")\n",
        "Age <- c(23, 41, 32, 58, 26)\n",
        "df <- data.frame(Name, Age)\n",
        "write.csv(df, \"./data/data.csv\", row.names=T)\n",
        "file_location <- \"./data/data.csv\"\n",
        "data_from_csv <- read.csv(file_location)\n",
        "data_from_csv %>% knitr::kable()"
      ],
      "id": "88432170-4e78-4ba0-addc-840f2a9a9cbb"
    },
    {
      "cell_type": "markdown",
      "metadata": {},
      "source": [
        "There are slightly more advanced and efficient methods:\n",
        "\n",
        "-   `read_csv` from Tidyverse\n",
        "-   `data.table` package in R\n",
        "\n",
        "Once you have a dataset, you can then begin your analyses:\n",
        "\n",
        "------------------------------------------------------------------------\n",
        "\n",
        "## Exploratory Data Analysis\n",
        "\n",
        "This is where `dplyr` and `ggplot2` are super-useful, because they\n",
        "facilitate **Exploratory Data Analysis**\n",
        "\n",
        "Since you are already familiar with these packages, I will go through\n",
        "them in ⚡️ speed.\n",
        "\n",
        "You’ll hear this phrase thrown around very often:\n",
        "\n",
        "> “We need to clean the dataset”\n",
        ">\n",
        "> — An anxious data scientist\n",
        "\n",
        "The first thing I want to ask is: *what makes a dataset clean?*\n",
        "\n",
        "Brainstorming:\n",
        "\n",
        "1.  Get rid of `NULL` and `NA` and `NaN` and `missing` entries\n",
        "\n",
        "2.  Making sure that all the values for a particular variable are of the\n",
        "    same `data type`, e.g., `double`, or `character` or `logical`\n",
        "\n",
        "3.  Every variable should have its own column\n",
        "\n",
        "    -   A variable is something which holds “measurements”\n",
        "\n",
        "4.  Every observation should have its own row\n",
        "\n",
        "5.  Every cell, should have a unique value\n",
        "\n",
        "This is what packages like `dplyr`, `tidyr` and their predecessor `plyr`\n",
        "set out to achieve.\n",
        "\n",
        "This is where functions like:\n",
        "\n",
        "-   `pivot_wider()`\n",
        "-   `pivot_longer()` from `tidyr` are useful.\n",
        "\n",
        "#### `dplyr`\n",
        "\n",
        "The objective of `dplyr` is to provide a set of *“verbs”* for\n",
        "manipulating data.\n",
        "\n",
        "Let’s take the following working example:\n",
        "\n",
        "1.  Cars (mpg) dataset"
      ],
      "id": "4b5eb3ed-417c-4ac2-8d2d-1be3e6018157"
    },
    {
      "cell_type": "code",
      "execution_count": null,
      "metadata": {},
      "outputs": [
        {
          "output_type": "display_data",
          "metadata": {},
          "data": {}
        }
      ],
      "source": [
        "library(ggplot2)\n",
        "head(mpg, 5) %>% knitr::kable()"
      ],
      "id": "681e09a2-e622-4aaf-b1a1-ce4a24816458"
    },
    {
      "cell_type": "markdown",
      "metadata": {},
      "source": [
        "1.  Iris (flower petal) dataset"
      ],
      "id": "ea573320-210b-4967-a43b-c6b39807468c"
    },
    {
      "cell_type": "code",
      "execution_count": null,
      "metadata": {},
      "outputs": [
        {
          "output_type": "display_data",
          "metadata": {},
          "data": {}
        }
      ],
      "source": [
        "head(iris, 5) %>% knitr::kable()"
      ],
      "id": "a17f57fc-42e6-46b7-b3d5-50ca31e61f6a"
    },
    {
      "cell_type": "markdown",
      "metadata": {},
      "source": [
        "Some examples are the following:\n",
        "\n",
        "1.  Select: selects a subset of the columns"
      ],
      "id": "e6732804-6f64-4e55-9e31-ff29d6ce2d1d"
    },
    {
      "cell_type": "code",
      "execution_count": null,
      "metadata": {},
      "outputs": [
        {
          "output_type": "stream",
          "name": "stdout",
          "text": [
            "# A tibble: 234 × 3\n",
            "   model      displ class  \n",
            "   <chr>      <dbl> <chr>  \n",
            " 1 a4           1.8 compact\n",
            " 2 a4           1.8 compact\n",
            " 3 a4           2   compact\n",
            " 4 a4           2   compact\n",
            " 5 a4           2.8 compact\n",
            " 6 a4           2.8 compact\n",
            " 7 a4           3.1 compact\n",
            " 8 a4 quattro   1.8 compact\n",
            " 9 a4 quattro   1.8 compact\n",
            "10 a4 quattro   2   compact\n",
            "# ℹ 224 more rows"
          ]
        }
      ],
      "source": [
        "mpg %>% \n",
        "select(c(model, displ, class))"
      ],
      "id": "bad5c7d1-068b-4795-befa-595256ee6094"
    },
    {
      "cell_type": "markdown",
      "metadata": {},
      "source": [
        "1.  We have `mutate` which creates new columns from existing ones"
      ],
      "id": "8f1da2c0-9ff3-44fa-b537-8a7d6cd9dd97"
    },
    {
      "cell_type": "code",
      "execution_count": null,
      "metadata": {},
      "outputs": [
        {
          "output_type": "display_data",
          "metadata": {},
          "data": {}
        }
      ],
      "source": [
        "iris %>% \n",
        "  mutate(Sepal.Area = Sepal.Length * Sepal.Width) %>% \n",
        "  head(., 10) %>% \n",
        "  knitr::kable()"
      ],
      "id": "a1049d66-a18d-488c-b86c-cb8bd374946d"
    },
    {
      "cell_type": "markdown",
      "metadata": {},
      "source": [
        "1.  `filter`"
      ],
      "id": "30eacede-0571-4fcd-b74b-38e0d730b755"
    },
    {
      "cell_type": "code",
      "execution_count": null,
      "metadata": {},
      "outputs": [
        {
          "output_type": "stream",
          "name": "stdout",
          "text": [
            "# A tibble: 47 × 11\n",
            "   manufacturer model      displ  year   cyl trans drv     cty   hwy fl    class\n",
            "   <chr>        <chr>      <dbl> <int> <int> <chr> <chr> <int> <int> <chr> <chr>\n",
            " 1 audi         a4           1.8  1999     4 auto… f        18    29 p     comp…\n",
            " 2 audi         a4           1.8  1999     4 manu… f        21    29 p     comp…\n",
            " 3 audi         a4           2    2008     4 manu… f        20    31 p     comp…\n",
            " 4 audi         a4           2    2008     4 auto… f        21    30 p     comp…\n",
            " 5 audi         a4           2.8  1999     6 auto… f        16    26 p     comp…\n",
            " 6 audi         a4           2.8  1999     6 manu… f        18    26 p     comp…\n",
            " 7 audi         a4           3.1  2008     6 auto… f        18    27 p     comp…\n",
            " 8 audi         a4 quattro   1.8  1999     4 manu… 4        18    26 p     comp…\n",
            " 9 audi         a4 quattro   1.8  1999     4 auto… 4        16    25 p     comp…\n",
            "10 audi         a4 quattro   2    2008     4 manu… 4        20    28 p     comp…\n",
            "# ℹ 37 more rows"
          ]
        }
      ],
      "source": [
        "mpg %>% \n",
        "filter(class == \"compact\")"
      ],
      "id": "ef2529c3-7952-47b0-8279-538aa7875952"
    },
    {
      "cell_type": "markdown",
      "metadata": {},
      "source": [
        "Some other verbs are:\n",
        "\n",
        "-   `dplyr::summary()`, `dplyr::mutate()`\n",
        "-   `tidyr::pivot_longer()`, `tidyr::pivot_wider()`\n",
        "-   `left_join`, `right_join`, `inner_join`, `outer_join`\n",
        "\n",
        "## `ggplot2`\n",
        "\n",
        "`gg` in `ggplot2` stands for: **G**rammar of **G**raphics. There is NO\n",
        "`ggplot1`\n",
        "\n",
        "Since you guys are super familiar, let’s look at a super quick example:\n",
        "\n",
        "We start off by decalring a `ggplot` object"
      ],
      "id": "74b2a256-be05-4fb5-95db-8057c976902d"
    },
    {
      "cell_type": "code",
      "execution_count": null,
      "metadata": {},
      "outputs": [],
      "source": [
        "library(ggplot2)\n",
        "plt <- ggplot(iris)"
      ],
      "id": "4b3f7d33-5958-4d63-9e9b-3e2ac1aa4519"
    },
    {
      "cell_type": "markdown",
      "metadata": {},
      "source": [
        "Now can add points to it"
      ],
      "id": "d18fca33-477b-41c0-a02b-1a267aa3a453"
    },
    {
      "cell_type": "code",
      "execution_count": null,
      "metadata": {},
      "outputs": [
        {
          "output_type": "display_data",
          "metadata": {},
          "data": {
            "image/png": "[encoded data removed]"
          }
        }
      ],
      "source": [
        "plt + geom_point(\n",
        "    aes(x=Petal.Length, y=Sepal.Length)\n",
        ")"
      ],
      "id": "25104f6e-ada8-434a-8823-8f1d08b47e1a"
    },
    {
      "cell_type": "markdown",
      "metadata": {},
      "source": [
        "If we want to color the points by `Species`"
      ],
      "id": "3d6397f9-2143-4d94-a6f6-0be2885e08f9"
    },
    {
      "cell_type": "code",
      "execution_count": null,
      "metadata": {},
      "outputs": [
        {
          "output_type": "display_data",
          "metadata": {},
          "data": {
            "image/png": "[encoded data removed]"
          }
        }
      ],
      "source": [
        "plt + geom_point(\n",
        "    aes(x=Petal.Length, y=Sepal.Length, colour=Species)\n",
        ")"
      ],
      "id": "989cac6e-86f1-4c16-a207-a9a2525874a9"
    },
    {
      "cell_type": "markdown",
      "metadata": {},
      "source": [
        "If we want to add trendlines to these points:"
      ],
      "id": "3034b4ca-edf9-4362-976c-daa248e2acfd"
    },
    {
      "cell_type": "code",
      "execution_count": null,
      "metadata": {},
      "outputs": [
        {
          "output_type": "stream",
          "name": "stderr",
          "text": [
            "`geom_smooth()` using method = 'loess' and formula = 'y ~ x'"
          ]
        },
        {
          "output_type": "display_data",
          "metadata": {},
          "data": {
            "image/png": "[encoded data removed]"
          }
        }
      ],
      "source": [
        "plt + \n",
        "geom_point(\n",
        "    aes(x=Petal.Length, y=Sepal.Length, colour=Species)\n",
        ") +  \n",
        "geom_smooth(\n",
        "    aes(x=Petal.Length, y=Sepal.Length)\n",
        ")"
      ],
      "id": "9a62a575-8a3d-4f23-842e-1f70d5b083f4"
    },
    {
      "cell_type": "markdown",
      "metadata": {},
      "source": [
        "If we want a linear trendline then you can choose the method:\n",
        "\n",
        "If we want to add trendlines to these points:"
      ],
      "id": "61673a5f-b7c2-4034-8285-0736f754d551"
    },
    {
      "cell_type": "code",
      "execution_count": null,
      "metadata": {},
      "outputs": [
        {
          "output_type": "stream",
          "name": "stderr",
          "text": [
            "`geom_smooth()` using formula = 'y ~ x'"
          ]
        },
        {
          "output_type": "display_data",
          "metadata": {},
          "data": {
            "image/png": "[encoded data removed]"
          }
        }
      ],
      "source": [
        "plt + \n",
        "geom_point(\n",
        "    aes(x=Petal.Length, y=Sepal.Length, colour=Species)\n",
        ") +  \n",
        "geom_smooth(\n",
        "    aes(x=Petal.Length, y=Sepal.Length),\n",
        "    method = lm\n",
        ")"
      ],
      "id": "bf2fac77-e25f-46a5-b06c-80b111a5e326"
    },
    {
      "cell_type": "markdown",
      "metadata": {},
      "source": [
        "## `ggthemeassist`\n",
        "\n",
        "Done in Rstudio\n",
        "\n",
        "## More on **data types**\n",
        "\n",
        "1.  String, e.g. this is a character\n",
        "2.  Integer, e.g. `[1,2,3]`\n",
        "3.  Double, e.g. `[2.2, 3.14159, 0.9]`\n",
        "4.  Booleans, e.g. `TRUE/ FALSE`\n",
        "\n",
        "-   What are factors? Factors are categorical variables.\n",
        "\n",
        "Let’s look at an example:\n",
        "\n",
        "`var` contains the country code for people in north america:"
      ],
      "id": "9e3328af-c784-4714-8106-ac0eaba6f77a"
    },
    {
      "cell_type": "code",
      "execution_count": null,
      "metadata": {},
      "outputs": [
        {
          "output_type": "stream",
          "name": "stdout",
          "text": [
            "[1] \"USA\" \"USA\" \"CAN\" \"CAN\" \"CAN\" \"CAN\" \"MEX\" \"MEX\""
          ]
        }
      ],
      "source": [
        "var <- c(\n",
        "    \"USA\",\n",
        "    \"USA\",\n",
        "    \"CAN\",\n",
        "    \"CAN\",\n",
        "    \"CAN\",\n",
        "    \"CAN\",\n",
        "    \"MEX\",\n",
        "    \"MEX\"\n",
        ")\n",
        "var"
      ],
      "id": "cdedb6e7-252e-4bfd-9b13-e9519e36b095"
    },
    {
      "cell_type": "markdown",
      "metadata": {},
      "source": [
        "To tell `R` that this is explicitly categorical and not just a vector of\n",
        "strings, you have to specify the following:"
      ],
      "id": "2d49a1f7-9af1-44ed-9ff3-fd46e60d70e0"
    },
    {
      "cell_type": "code",
      "execution_count": null,
      "metadata": {},
      "outputs": [
        {
          "output_type": "stream",
          "name": "stdout",
          "text": [
            "[1] USA USA CAN CAN CAN CAN MEX MEX\n",
            "Levels: CAN MEX USA"
          ]
        }
      ],
      "source": [
        "as.factor(var)"
      ],
      "id": "fecb29cd-002b-47f4-8c7b-e021c641dea9"
    },
    {
      "cell_type": "markdown",
      "metadata": {},
      "source": [
        "Let’s look at another example"
      ],
      "id": "27dbda6b-f779-4efc-ac2a-3b13eb866906"
    },
    {
      "cell_type": "code",
      "execution_count": null,
      "metadata": {},
      "outputs": [
        {
          "output_type": "display_data",
          "metadata": {},
          "data": {}
        },
        {
          "output_type": "stream",
          "name": "stdout",
          "text": [
            "  [1] setosa     setosa     setosa     setosa     setosa     setosa    \n",
            "  [7] setosa     setosa     setosa     setosa     setosa     setosa    \n",
            " [13] setosa     setosa     setosa     setosa     setosa     setosa    \n",
            " [19] setosa     setosa     setosa     setosa     setosa     setosa    \n",
            " [25] setosa     setosa     setosa     setosa     setosa     setosa    \n",
            " [31] setosa     setosa     setosa     setosa     setosa     setosa    \n",
            " [37] setosa     setosa     setosa     setosa     setosa     setosa    \n",
            " [43] setosa     setosa     setosa     setosa     setosa     setosa    \n",
            " [49] setosa     setosa     versicolor versicolor versicolor versicolor\n",
            " [55] versicolor versicolor versicolor versicolor versicolor versicolor\n",
            " [61] versicolor versicolor versicolor versicolor versicolor versicolor\n",
            " [67] versicolor versicolor versicolor versicolor versicolor versicolor\n",
            " [73] versicolor versicolor versicolor versicolor versicolor versicolor\n",
            " [79] versicolor versicolor versicolor versicolor versicolor versicolor\n",
            " [85] versicolor versicolor versicolor versicolor versicolor versicolor\n",
            " [91] versicolor versicolor versicolor versicolor versicolor versicolor\n",
            " [97] versicolor versicolor versicolor versicolor virginica  virginica \n",
            "[103] virginica  virginica  virginica  virginica  virginica  virginica \n",
            "[109] virginica  virginica  virginica  virginica  virginica  virginica \n",
            "[115] virginica  virginica  virginica  virginica  virginica  virginica \n",
            "[121] virginica  virginica  virginica  virginica  virginica  virginica \n",
            "[127] virginica  virginica  virginica  virginica  virginica  virginica \n",
            "[133] virginica  virginica  virginica  virginica  virginica  virginica \n",
            "[139] virginica  virginica  virginica  virginica  virginica  virginica \n",
            "[145] virginica  virginica  virginica  virginica  virginica  virginica \n",
            "Levels: setosa versicolor virginica"
          ]
        }
      ],
      "source": [
        "head(iris, 3) %>% \n",
        "knitr::kable()"
      ],
      "id": "1c0bd9aa-2fad-481f-8f84-39bd1c79384d"
    },
    {
      "cell_type": "markdown",
      "metadata": {},
      "source": [
        "Similarly, if we look at `mpg`"
      ],
      "id": "1edcbb56-7611-46c0-9134-b1c5c9e856f7"
    },
    {
      "cell_type": "code",
      "execution_count": null,
      "metadata": {},
      "outputs": [
        {
          "output_type": "display_data",
          "metadata": {},
          "data": {}
        }
      ],
      "source": [
        "head(mpg, 3) %>% \n",
        "knitr::kable()"
      ],
      "id": "37b2c908-2596-4986-8f23-ce8c6d5f02d6"
    },
    {
      "cell_type": "markdown",
      "metadata": {},
      "source": [
        "Let’s have a look at `class`"
      ],
      "id": "4378b0a5-17ed-49cb-b733-ba4689102cb1"
    },
    {
      "cell_type": "code",
      "execution_count": null,
      "metadata": {},
      "outputs": [
        {
          "output_type": "stream",
          "name": "stdout",
          "text": [
            "  [1] compact    compact    compact    compact    compact    compact   \n",
            "  [7] compact    compact    compact    compact    compact    compact   \n",
            " [13] compact    compact    compact    midsize    midsize    midsize   \n",
            " [19] suv        suv        suv        suv        suv        2seater   \n",
            " [25] 2seater    2seater    2seater    2seater    suv        suv       \n",
            " [31] suv        suv        midsize    midsize    midsize    midsize   \n",
            " [37] midsize    minivan    minivan    minivan    minivan    minivan   \n",
            " [43] minivan    minivan    minivan    minivan    minivan    minivan   \n",
            " [49] pickup     pickup     pickup     pickup     pickup     pickup    \n",
            " [55] pickup     pickup     pickup     suv        suv        suv       \n",
            " [61] suv        suv        suv        suv        pickup     pickup    \n",
            " [67] pickup     pickup     pickup     pickup     pickup     pickup    \n",
            " [73] pickup     pickup     suv        suv        suv        suv       \n",
            " [79] suv        suv        suv        suv        suv        pickup    \n",
            " [85] pickup     pickup     pickup     pickup     pickup     pickup    \n",
            " [91] subcompact subcompact subcompact subcompact subcompact subcompact\n",
            " [97] subcompact subcompact subcompact subcompact subcompact subcompact\n",
            "[103] subcompact subcompact subcompact subcompact subcompact subcompact\n",
            "[109] midsize    midsize    midsize    midsize    midsize    midsize   \n",
            "[115] midsize    subcompact subcompact subcompact subcompact subcompact\n",
            "[121] subcompact subcompact suv        suv        suv        suv       \n",
            "[127] suv        suv        suv        suv        suv        suv       \n",
            "[133] suv        suv        suv        suv        suv        suv       \n",
            "[139] suv        suv        suv        compact    compact    midsize   \n",
            "[145] midsize    midsize    midsize    midsize    midsize    midsize   \n",
            "[151] suv        suv        suv        suv        midsize    midsize   \n",
            "[157] midsize    midsize    midsize    suv        suv        suv       \n",
            "[163] suv        suv        suv        subcompact subcompact subcompact\n",
            "[169] subcompact compact    compact    compact    compact    suv       \n",
            "[175] suv        suv        suv        suv        suv        midsize   \n",
            "[181] midsize    midsize    midsize    midsize    midsize    midsize   \n",
            "[187] compact    compact    compact    compact    compact    compact   \n",
            "[193] compact    compact    compact    compact    compact    compact   \n",
            "[199] suv        suv        pickup     pickup     pickup     pickup    \n",
            "[205] pickup     pickup     pickup     compact    compact    compact   \n",
            "[211] compact    compact    compact    compact    compact    compact   \n",
            "[217] compact    compact    compact    compact    compact    subcompact\n",
            "[223] subcompact subcompact subcompact subcompact subcompact midsize   \n",
            "[229] midsize    midsize    midsize    midsize    midsize    midsize   \n",
            "Levels: 2seater compact midsize minivan pickup subcompact suv"
          ]
        }
      ],
      "source": [
        "as.factor(mpg$class)"
      ],
      "id": "3e7c55d7-2a74-496a-b536-ee315882bd9a"
    },
    {
      "cell_type": "markdown",
      "metadata": {},
      "source": [
        "Similarly, we can have a look at the manufacturer:"
      ],
      "id": "b591d3d9-5a47-4f1c-bdc6-d4f05e96365d"
    },
    {
      "cell_type": "code",
      "execution_count": null,
      "metadata": {},
      "outputs": [
        {
          "output_type": "stream",
          "name": "stdout",
          "text": [
            "  [1] audi       audi       audi       audi       audi       audi      \n",
            "  [7] audi       audi       audi       audi       audi       audi      \n",
            " [13] audi       audi       audi       audi       audi       audi      \n",
            " [19] chevrolet  chevrolet  chevrolet  chevrolet  chevrolet  chevrolet \n",
            " [25] chevrolet  chevrolet  chevrolet  chevrolet  chevrolet  chevrolet \n",
            " [31] chevrolet  chevrolet  chevrolet  chevrolet  chevrolet  chevrolet \n",
            " [37] chevrolet  dodge      dodge      dodge      dodge      dodge     \n",
            " [43] dodge      dodge      dodge      dodge      dodge      dodge     \n",
            " [49] dodge      dodge      dodge      dodge      dodge      dodge     \n",
            " [55] dodge      dodge      dodge      dodge      dodge      dodge     \n",
            " [61] dodge      dodge      dodge      dodge      dodge      dodge     \n",
            " [67] dodge      dodge      dodge      dodge      dodge      dodge     \n",
            " [73] dodge      dodge      ford       ford       ford       ford      \n",
            " [79] ford       ford       ford       ford       ford       ford      \n",
            " [85] ford       ford       ford       ford       ford       ford      \n",
            " [91] ford       ford       ford       ford       ford       ford      \n",
            " [97] ford       ford       ford       honda      honda      honda     \n",
            "[103] honda      honda      honda      honda      honda      honda     \n",
            "[109] hyundai    hyundai    hyundai    hyundai    hyundai    hyundai   \n",
            "[115] hyundai    hyundai    hyundai    hyundai    hyundai    hyundai   \n",
            "[121] hyundai    hyundai    jeep       jeep       jeep       jeep      \n",
            "[127] jeep       jeep       jeep       jeep       land rover land rover\n",
            "[133] land rover land rover lincoln    lincoln    lincoln    mercury   \n",
            "[139] mercury    mercury    mercury    nissan     nissan     nissan    \n",
            "[145] nissan     nissan     nissan     nissan     nissan     nissan    \n",
            "[151] nissan     nissan     nissan     nissan     pontiac    pontiac   \n",
            "[157] pontiac    pontiac    pontiac    subaru     subaru     subaru    \n",
            "[163] subaru     subaru     subaru     subaru     subaru     subaru    \n",
            "[169] subaru     subaru     subaru     subaru     subaru     toyota    \n",
            "[175] toyota     toyota     toyota     toyota     toyota     toyota    \n",
            "[181] toyota     toyota     toyota     toyota     toyota     toyota    \n",
            "[187] toyota     toyota     toyota     toyota     toyota     toyota    \n",
            "[193] toyota     toyota     toyota     toyota     toyota     toyota    \n",
            "[199] toyota     toyota     toyota     toyota     toyota     toyota    \n",
            "[205] toyota     toyota     toyota     volkswagen volkswagen volkswagen\n",
            "[211] volkswagen volkswagen volkswagen volkswagen volkswagen volkswagen\n",
            "[217] volkswagen volkswagen volkswagen volkswagen volkswagen volkswagen\n",
            "[223] volkswagen volkswagen volkswagen volkswagen volkswagen volkswagen\n",
            "[229] volkswagen volkswagen volkswagen volkswagen volkswagen volkswagen\n",
            "15 Levels: audi chevrolet dodge ford honda hyundai jeep land rover ... volkswagen"
          ]
        }
      ],
      "source": [
        "as.factor(mpg$manufacturer)"
      ],
      "id": "46bd5d12-fd11-446e-a4a5-872ca0c79bf8"
    },
    {
      "cell_type": "markdown",
      "metadata": {},
      "source": [
        "This is where the `forcats` package is really useful:"
      ],
      "id": "a1bf7a5b-9059-46be-9604-352d390b1110"
    },
    {
      "cell_type": "code",
      "execution_count": null,
      "metadata": {},
      "outputs": [
        {
          "output_type": "stream",
          "name": "stdout",
          "text": [
            "  [1] audi       audi       audi       audi       audi       audi      \n",
            "  [7] audi       audi       audi       audi       audi       audi      \n",
            " [13] audi       audi       audi       audi       audi       audi      \n",
            " [19] chevrolet  chevrolet  chevrolet  chevrolet  chevrolet  chevrolet \n",
            " [25] chevrolet  chevrolet  chevrolet  chevrolet  chevrolet  chevrolet \n",
            " [31] chevrolet  chevrolet  chevrolet  chevrolet  chevrolet  chevrolet \n",
            " [37] chevrolet  dodge      dodge      dodge      dodge      dodge     \n",
            " [43] dodge      dodge      dodge      dodge      dodge      dodge     \n",
            " [49] dodge      dodge      dodge      dodge      dodge      dodge     \n",
            " [55] dodge      dodge      dodge      dodge      dodge      dodge     \n",
            " [61] dodge      dodge      dodge      dodge      dodge      dodge     \n",
            " [67] dodge      dodge      dodge      dodge      dodge      dodge     \n",
            " [73] dodge      dodge      ford       ford       ford       ford      \n",
            " [79] ford       ford       ford       ford       ford       ford      \n",
            " [85] ford       ford       ford       ford       ford       ford      \n",
            " [91] ford       ford       ford       ford       ford       ford      \n",
            " [97] ford       ford       ford       honda      honda      honda     \n",
            "[103] honda      honda      honda      honda      honda      honda     \n",
            "[109] hyundai    hyundai    hyundai    hyundai    hyundai    hyundai   \n",
            "[115] hyundai    hyundai    hyundai    hyundai    hyundai    hyundai   \n",
            "[121] hyundai    hyundai    jeep       jeep       jeep       jeep      \n",
            "[127] jeep       jeep       jeep       jeep       land rover land rover\n",
            "[133] land rover land rover lincoln    lincoln    lincoln    mercury   \n",
            "[139] mercury    mercury    mercury    nissan     nissan     nissan    \n",
            "[145] nissan     nissan     nissan     nissan     nissan     nissan    \n",
            "[151] nissan     nissan     nissan     nissan     pontiac    pontiac   \n",
            "[157] pontiac    pontiac    pontiac    subaru     subaru     subaru    \n",
            "[163] subaru     subaru     subaru     subaru     subaru     subaru    \n",
            "[169] subaru     subaru     subaru     subaru     subaru     toyota    \n",
            "[175] toyota     toyota     toyota     toyota     toyota     toyota    \n",
            "[181] toyota     toyota     toyota     toyota     toyota     toyota    \n",
            "[187] toyota     toyota     toyota     toyota     toyota     toyota    \n",
            "[193] toyota     toyota     toyota     toyota     toyota     toyota    \n",
            "[199] toyota     toyota     toyota     toyota     toyota     toyota    \n",
            "[205] toyota     toyota     toyota     volkswagen volkswagen volkswagen\n",
            "[211] volkswagen volkswagen volkswagen volkswagen volkswagen volkswagen\n",
            "[217] volkswagen volkswagen volkswagen volkswagen volkswagen volkswagen\n",
            "[223] volkswagen volkswagen volkswagen volkswagen volkswagen volkswagen\n",
            "[229] volkswagen volkswagen volkswagen volkswagen volkswagen volkswagen\n",
            "15 Levels: dodge jeep chevrolet ford land rover toyota lincoln ... honda"
          ]
        }
      ],
      "source": [
        "library(forcats)\n",
        "manufacturer <- as.factor(mpg$manufacturer)\n",
        "fct_reorder(manufacturer, mpg$hwy, min)"
      ],
      "id": "6f50f91e-5e3a-45fd-8725-a59c020dd3b8"
    },
    {
      "cell_type": "markdown",
      "metadata": {},
      "source": [
        "We will be coming back to this in \\~3 weeks when we dfo logistic\n",
        "regression.\n",
        "\n",
        "## `purrr`\n",
        "\n",
        "This package provides a set of functional programming tools. It’s best\n",
        "illustrated through an example:\n",
        "\n",
        "Consider the following procedure: We want to\n",
        "\n",
        "1.  Filter `iris` by species\n",
        "2.  COmpute the `Sepal.Area` as `Sepal.Length` $\\times$ `Sepal.Width`\n",
        "3.  Find the average of `Sepal.Area` for every flower in the species\n",
        "\n",
        "``` r\n",
        "iris %>% \n",
        "mutate(Area = Sepal.Length * Sepal.Width) %>% \n",
        "group_by()\n",
        "summarize()\n",
        "```\n",
        "\n",
        "Consider the following task:\n",
        "\n",
        "1.  Take a number `i` from $1 \\dots 10$\n",
        "2.  Create a matrix with entries of dimension 1 … `i^2` $\\times$ `i`\n",
        "3.  Compute the average of the elements of the matrix\n",
        "4.  Print it\n",
        "\n",
        "One way of doing this is as follows:"
      ],
      "id": "13441b93-95c2-4bfb-be33-534c43bc3d9c"
    },
    {
      "cell_type": "code",
      "execution_count": null,
      "metadata": {},
      "outputs": [
        {
          "output_type": "stream",
          "name": "stdout",
          "text": [
            " [1]  1  3  6 10 15 21 28 36 45 55"
          ]
        }
      ],
      "source": [
        "results <- c()\n",
        "for (i in 1:10){\n",
        "    M <- matrix(\n",
        "        c(1:i*i), nrow=i\n",
        "    )\n",
        "    results[i] <- mean(M)\n",
        "}\n",
        "results"
      ],
      "id": "87cb66dd-61d4-429f-9445-f7a6606b5f4b"
    },
    {
      "cell_type": "markdown",
      "metadata": {},
      "source": [
        "A functional way to think about this is as follows:\n",
        "\n",
        "$$i \\rightarrow M_{i \\times i} \\rightarrow mean(M)$$"
      ],
      "id": "1a2845e5-c431-4a60-ab38-f650827699ff"
    },
    {
      "cell_type": "code",
      "execution_count": null,
      "metadata": {},
      "outputs": [
        {
          "output_type": "stream",
          "name": "stdout",
          "text": [
            "[[1]]\n",
            "[1] 1\n",
            "\n",
            "[[2]]\n",
            "[1] 3\n",
            "\n",
            "[[3]]\n",
            "[1] 6\n",
            "\n",
            "[[4]]\n",
            "[1] 10\n",
            "\n",
            "[[5]]\n",
            "[1] 15\n",
            "\n",
            "[[6]]\n",
            "[1] 21\n",
            "\n",
            "[[7]]\n",
            "[1] 28\n",
            "\n",
            "[[8]]\n",
            "[1] 36\n",
            "\n",
            "[[9]]\n",
            "[1] 45\n",
            "\n",
            "[[10]]\n",
            "[1] 55"
          ]
        }
      ],
      "source": [
        "library(purrr)\n",
        "map(\n",
        "    1:10,\n",
        "    function(i){\n",
        "        mean(\n",
        "            matrix(\n",
        "                c(1:i*i), nrow=i\n",
        "            )\n",
        "        )\n",
        "    }\n",
        ")"
      ],
      "id": "fcc519cd-6cb7-4bd5-8ae3-340385dad8ca"
    }
  ],
  "nbformat": 4,
  "nbformat_minor": 5,
  "metadata": {
    "kernelspec": {
      "display_name": "Python 3",
      "language": "python",
      "name": "python3"
    }
  }
}