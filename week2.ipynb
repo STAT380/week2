{
 "cells": [
  {
   "cell_type": "markdown",
   "id": "231cab95-d1a7-4031-867d-8128ad1e0ca4",
   "metadata": {},
   "source": [
    "# rbasics\n",
    "\n",
    "# Some tools we’ll meet\n",
    "\n",
    "-   Facts & extensions from the reading\n",
    "    -   Create vectors using `c()`, `:`, `seq()`, `rep()`.\n",
    "\n",
    "    -   Select vector elements using the square brackets `[ ]` (have you\n",
    "        done this before?).\n",
    "\n",
    "    -   Program using\n",
    "\n",
    "        -   `for` loop,\n",
    "        -   `while` loop,\n",
    "        -   `if` statements,\n",
    "\n",
    "    -   Write an original `function` (where have you done this before?)\n",
    "\n",
    "    -   Subsetting with `[` (especially for vectors & data frames)\n",
    "\n",
    "    -   Subsetting with `$` (especially for data frames & lists)\n",
    "\n",
    "    -   Subsetting with `[[` (especially for lists)\n",
    "\n",
    "    -   `read.csv` for reading datasets\n",
    "\n",
    "    -   `dplyr`\n",
    "\n",
    "    -   `ggplot2`\n",
    "\n",
    "    -   `ggPlotThemes`\n",
    "-   [RStudio Cheat Sheet (on\n",
    "    Canvas)](https://www.rstudio.com/wp-content/uploads/2016/05/base-r.pdf)\n",
    "-   Nested loops (e.g., data frame indices)\n",
    "-   Extracting elements from arbitrary objects (e.g. a regression model\n",
    "    object)\n",
    "-   Programming a simulation with & without loops"
   ]
  },
  {
   "cell_type": "code",
   "execution_count": null,
   "id": "099c2ca5-e627-49e2-b43b-2eeea39e28e5",
   "metadata": {},
   "outputs": [],
   "source": [
    "rm(list = ls())\n",
    "# no packages to load since we're talking about Base R!"
   ]
  },
  {
   "cell_type": "markdown",
   "id": "81281b14-6048-4ab4-b771-54f0c35f0622",
   "metadata": {},
   "source": [
    "------------------------------------------------------------------------\n",
    "\n",
    "# Goals for today?\n",
    "\n",
    "1.  in your adventures with R programming you’ll often encounter code\n",
    "    written in base R, so we’ll meet some common syntax.\n",
    "\n",
    "2.  introduce loops as an intuitive approach to iterative tasks\n",
    "\n",
    "3.  meet the basic syntax to write your very own R functions\n",
    "\n",
    "4.  program a simulation study to better understand a counter-intuitive\n",
    "    concept\n",
    "\n",
    "e.g., Confidence interval statements:\n",
    "\n",
    "> “We are 95% confident that the average amount of carbon stored in each\n",
    "> square kilometer of tropical forest is between 9,600 and 13,600 tons”\n",
    "\n",
    "> 95% CI: 11,600 ± 2⋅1000 = (9,600, 13,600)\n",
    "\n",
    "What’s wrong with saying “there’s a 95% chance that the average amount\n",
    "of carbon stored in each square kilometer of tropical forest is between\n",
    "9,600 and 13,600 tons” ??\n",
    "\n",
    "------------------------------------------------------------------------\n",
    "\n",
    "# Creating vectors\n",
    "\n",
    "#### `c( )` is most common by far"
   ]
  },
  {
   "cell_type": "code",
   "execution_count": null,
   "id": "dc6199ed-471f-4596-95c3-c7a846ee3745",
   "metadata": {},
   "outputs": [
    {
     "name": "stdout",
     "output_type": "stream",
     "text": [
      "[1]  2  5 NA  5"
     ]
    },
    {
     "name": "stdout",
     "output_type": "stream",
     "text": [
      "[1] NA"
     ]
    },
    {
     "name": "stdout",
     "output_type": "stream",
     "text": [
      "[1] 4"
     ]
    }
   ],
   "source": [
    "grade <- c(2, 5, NA, 5)\n",
    "grade "
   ]
  },
  {
   "cell_type": "markdown",
   "id": "aaa11a90-cadd-4c6e-9228-eda946dba2f7",
   "metadata": {},
   "source": [
    "#### Shortcut using `:` for numbers in sequence"
   ]
  },
  {
   "cell_type": "code",
   "execution_count": null,
   "id": "5475e4f9-47b9-43f4-9175-9f5427bdf59e",
   "metadata": {},
   "outputs": [
    {
     "name": "stdout",
     "output_type": "stream",
     "text": [
      "[1] 2 3 4 5 6"
     ]
    },
    {
     "name": "stdout",
     "output_type": "stream",
     "text": [
      "[1] 2 3 4 5 6"
     ]
    }
   ],
   "source": [
    "2:6"
   ]
  },
  {
   "cell_type": "markdown",
   "id": "774bbb9a-2734-4d6f-b3c1-4b6535598fb3",
   "metadata": {},
   "source": [
    "#### Sequences using `seq( )`"
   ]
  },
  {
   "cell_type": "code",
   "execution_count": null,
   "id": "fac2036c-7bf0-4349-9126-95ef445c0e90",
   "metadata": {},
   "outputs": [
    {
     "name": "stdout",
     "output_type": "stream",
     "text": [
      " [1] 2.0 2.2 2.4 2.6 2.8 3.0 3.2 3.4 3.6 3.8 4.0 4.2 4.4 4.6 4.8 5.0"
     ]
    }
   ],
   "source": [
    "seq(2, 5, by = 0.2)"
   ]
  },
  {
   "cell_type": "markdown",
   "id": "f0a92166-29bb-46c2-92de-4cfa10f8642d",
   "metadata": {},
   "source": [
    "#### Repeating a sequence using `rep( )`"
   ]
  },
  {
   "cell_type": "code",
   "execution_count": null,
   "id": "49788482-b906-4e00-8988-7a60bb154236",
   "metadata": {},
   "outputs": [
    {
     "name": "stdout",
     "output_type": "stream",
     "text": [
      "[1] \"A\" \"B\" \"C\" \"A\" \"B\" \"C\" \"A\" \"B\" \"C\""
     ]
    }
   ],
   "source": [
    "rep(c(\"A\", \"B\", \"C\"), times = 3)"
   ]
  },
  {
   "cell_type": "markdown",
   "id": "ffbb58fc-8e78-4da0-aba0-8d6f4fca0e17",
   "metadata": {},
   "source": [
    "# Selecting vector elements with square brackets"
   ]
  },
  {
   "cell_type": "code",
   "execution_count": null,
   "id": "2fa094d5-95b8-45e3-924b-fdd97af5907e",
   "metadata": {},
   "outputs": [
    {
     "name": "stdout",
     "output_type": "stream",
     "text": [
      "[1] \"A\" \"B\" \"C\" \"1\" \"2\" \"3\""
     ]
    }
   ],
   "source": [
    "# create a vector\n",
    "x <- c(\"A\", \"B\", \"C\", 1, 2, 3)\n",
    "x"
   ]
  },
  {
   "cell_type": "markdown",
   "id": "b10e780f-0376-4485-97f6-1b348e9e5ad9",
   "metadata": {},
   "source": [
    "#### Select only element 4"
   ]
  },
  {
   "cell_type": "code",
   "execution_count": null,
   "id": "a6139da0-ad63-4c83-bd89-09c37b8b9ba3",
   "metadata": {},
   "outputs": [
    {
     "name": "stdout",
     "output_type": "stream",
     "text": [
      "[1] \"1\""
     ]
    }
   ],
   "source": [
    "x[4]"
   ]
  },
  {
   "cell_type": "markdown",
   "id": "27685016-4713-439e-b3a8-76e5cce73abc",
   "metadata": {},
   "source": [
    "#### Select elements 2 thru 4"
   ]
  },
  {
   "cell_type": "code",
   "execution_count": null,
   "id": "148d67fd-6d78-44fa-a4db-7a0facc62fcb",
   "metadata": {},
   "outputs": [
    {
     "name": "stdout",
     "output_type": "stream",
     "text": [
      "[1] \"B\" \"C\" \"1\""
     ]
    }
   ],
   "source": [
    "x[2:4]"
   ]
  },
  {
   "cell_type": "markdown",
   "id": "3530e96f-50ea-4a70-99c7-95a5c03c27b2",
   "metadata": {},
   "source": [
    "#### Select elements 1 and 5"
   ]
  },
  {
   "cell_type": "code",
   "execution_count": null,
   "id": "93a341a6-b4c5-45ff-a682-df1c7b8aa3c1",
   "metadata": {},
   "outputs": [
    {
     "name": "stdout",
     "output_type": "stream",
     "text": [
      "[1] \"A\" \"2\""
     ]
    }
   ],
   "source": [
    "x[c(1, 5)]"
   ]
  },
  {
   "cell_type": "markdown",
   "id": "b10f346d-6d24-4259-bf72-26e9d0aea53c",
   "metadata": {},
   "source": [
    "## Excluding Vector Elements with square brackets"
   ]
  },
  {
   "cell_type": "code",
   "execution_count": null,
   "id": "3fc00018-408d-46ab-93c4-ea3142b9a75f",
   "metadata": {},
   "outputs": [
    {
     "name": "stdout",
     "output_type": "stream",
     "text": [
      "[1] \"A\" \"B\" \"C\" \"1\" \"2\" \"3\""
     ]
    }
   ],
   "source": [
    "# create a vector\n",
    "x <- c(\"A\", \"B\", \"C\", 1, 2, 3)\n",
    "x"
   ]
  },
  {
   "cell_type": "markdown",
   "id": "610f1ff3-bfd9-46ae-8e6d-3d4e120932b7",
   "metadata": {},
   "source": [
    "#### Select all elements except element 4"
   ]
  },
  {
   "cell_type": "code",
   "execution_count": null,
   "id": "01385c08-e53a-470d-9a99-a6d1f56978a6",
   "metadata": {},
   "outputs": [
    {
     "name": "stdout",
     "output_type": "stream",
     "text": [
      "[1] \"A\" \"B\" \"C\" \"2\" \"3\""
     ]
    }
   ],
   "source": [
    "x[-4]"
   ]
  },
  {
   "cell_type": "markdown",
   "id": "4dbc325f-c6be-400a-8293-3a14c7bebba3",
   "metadata": {},
   "source": [
    "#### Select all elements except elements 1, 4, and 6"
   ]
  },
  {
   "cell_type": "code",
   "execution_count": null,
   "id": "04fa3d47-66bf-4fb4-a5f2-62412971da83",
   "metadata": {},
   "outputs": [
    {
     "name": "stdout",
     "output_type": "stream",
     "text": [
      "[1] \"B\" \"C\" \"2\""
     ]
    }
   ],
   "source": [
    "x[-c(1, 4, 6)]"
   ]
  },
  {
   "cell_type": "markdown",
   "id": "3f08ff98-4e12-4866-b4c9-9940fe15d1ee",
   "metadata": {},
   "source": [
    "------------------------------------------------------------------------\n",
    "\n",
    "# Selecting Vector Elements that match a Condition"
   ]
  },
  {
   "cell_type": "code",
   "execution_count": null,
   "id": "d4f2255b-0c5c-49ff-918a-1631c6ee2f32",
   "metadata": {},
   "outputs": [
    {
     "name": "stdout",
     "output_type": "stream",
     "text": [
      " [1]  1 -1  6 -2  6  5  9  1 10 10"
     ]
    }
   ],
   "source": [
    "# create a vector of numbers\n",
    "y <- c(1, -1,  6, -2,  6,  5,  9,  1, 10, 10)\n",
    "y"
   ]
  },
  {
   "cell_type": "markdown",
   "id": "3b0072d4-dc2b-4b1b-803a-5069e28dd2e9",
   "metadata": {},
   "source": [
    "#### Select elements equal to 10"
   ]
  },
  {
   "cell_type": "code",
   "execution_count": null,
   "id": "ec5701c2-ca24-49e6-aa3d-de5bf2805a92",
   "metadata": {},
   "outputs": [
    {
     "name": "stdout",
     "output_type": "stream",
     "text": [
      "[1] 10 10"
     ]
    }
   ],
   "source": [
    "y[y == 10]"
   ]
  },
  {
   "cell_type": "markdown",
   "id": "1182f955-7316-40a5-ab26-244c7677294f",
   "metadata": {},
   "source": [
    "#### Select elements less than zero"
   ]
  },
  {
   "cell_type": "code",
   "execution_count": null,
   "id": "51b6221c-65cf-4365-9af4-67b5141b65f9",
   "metadata": {},
   "outputs": [
    {
     "name": "stdout",
     "output_type": "stream",
     "text": [
      "[1] -1 -2"
     ]
    }
   ],
   "source": [
    "y[y < 0]"
   ]
  },
  {
   "cell_type": "markdown",
   "id": "1e22a9e1-b3f8-4d71-bfd2-230d88d24882",
   "metadata": {},
   "source": [
    "#### Select elements in the set {1, 2, 5}"
   ]
  },
  {
   "cell_type": "code",
   "execution_count": null,
   "id": "bd21618a-bb1d-4d84-9557-b994639f6f11",
   "metadata": {},
   "outputs": [
    {
     "name": "stdout",
     "output_type": "stream",
     "text": [
      "[1] 1 5 1"
     ]
    }
   ],
   "source": [
    "y[y %in% c(1, 2, 5)]"
   ]
  },
  {
   "cell_type": "markdown",
   "id": "8a9035f6-c9a6-4c77-b17d-50b6547df43e",
   "metadata": {},
   "source": [
    "------------------------------------------------------------------------\n",
    "\n",
    "# Programming with `for` Loops\n",
    "\n",
    "#### Basic `for` Loop Syntax:\n",
    "\n",
    "    for (index in sequence) {  \n",
    "      do something  \n",
    "    } \n",
    "\n",
    "#### Here’s a `for` loop that will “do something” for each number from 1 to 4"
   ]
  },
  {
   "cell_type": "code",
   "execution_count": null,
   "id": "248a75a7-b244-4fbf-8792-3faf1c092cd6",
   "metadata": {},
   "outputs": [
    {
     "name": "stdout",
     "output_type": "stream",
     "text": [
      "[1] 11\n",
      "[1] 12\n",
      "[1] 13\n",
      "[1] 14"
     ]
    }
   ],
   "source": [
    "for (i in 1:4) {\n",
    "  j <- i + 10     # add 10 to the \"current\" value of `i` in each step of the loop\n",
    "  print(j)        # print the result of `j` for each step of the loop\n",
    "}"
   ]
  },
  {
   "cell_type": "markdown",
   "id": "2c3e993f-12b4-44e4-a5a8-1ee477cd82db",
   "metadata": {},
   "source": [
    "#### This is often used to iterate over each value in a vector where x\\[i\\] refers to element `i` of the vector `x`"
   ]
  },
  {
   "cell_type": "code",
   "execution_count": null,
   "id": "9fad1433-1473-4120-a291-5de02e55f4c5",
   "metadata": {},
   "outputs": [
    {
     "name": "stdout",
     "output_type": "stream",
     "text": [
      "[1] 10 15 20 25 30 35"
     ]
    },
    {
     "name": "stdout",
     "output_type": "stream",
     "text": [
      "[1] 3.333333\n",
      "[1] 5\n",
      "[1] 6.666667\n",
      "[1] 8.333333\n",
      "[1] 10\n",
      "[1] 11.66667"
     ]
    }
   ],
   "source": [
    "byFives <- seq(10, 37, by = 5)   # vector counts by 5\n",
    "byFives "
   ]
  },
  {
   "cell_type": "markdown",
   "id": "9bd6b89c-8c3f-4a4a-a5b3-c3e3bf351716",
   "metadata": {},
   "source": [
    "------------------------------------------------------------------------\n",
    "\n",
    "# Programming with `while` Loops\n",
    "\n",
    "#### Basic `while` Loop Syntax:\n",
    "\n",
    "    while (true condition){\n",
    "      do something\n",
    "    }\n",
    "\n",
    "#### Here’s a `while` loop that prints the index `i` while it is less than 5:"
   ]
  },
  {
   "cell_type": "code",
   "execution_count": null,
   "id": "f87e89fa-e427-4963-a021-bd8f33865496",
   "metadata": {},
   "outputs": [
    {
     "name": "stdout",
     "output_type": "stream",
     "text": [
      "[1] 1\n",
      "[1] 2\n",
      "[1] 3\n",
      "[1] 4"
     ]
    }
   ],
   "source": [
    "i <- 1            # initialize our index variable\n",
    "\n",
    "while (i < 5) {   # set the condition of the `while` loop\n",
    "  print(i)        # print the value of `i` in each step of the loop\n",
    "  i <- i + 1      # increment `i` for the next trip through the loop\n",
    "}"
   ]
  },
  {
   "cell_type": "markdown",
   "id": "fa675d68-749d-4027-8b14-a79683bc53ac",
   "metadata": {},
   "source": [
    "------------------------------------------------------------------------\n",
    "\n",
    "# Programming with functions (that you build yourself!)\n",
    "\n",
    "#### Basic `function` Syntax:\n",
    "\n",
    "    function_name <- function(arg1) {\n",
    "      do something\n",
    "      return(new_object)\n",
    "    }\n",
    "\n",
    "#### Here’s a function that takes one number as an argument and squares it:"
   ]
  },
  {
   "cell_type": "code",
   "execution_count": null,
   "id": "c30f99bb-fc53-4e5b-b34a-1592ad1fd062",
   "metadata": {},
   "outputs": [
    {
     "name": "stdout",
     "output_type": "stream",
     "text": [
      "[1] 9"
     ]
    }
   ],
   "source": [
    "squared <- function(x) {       # the function will be called \"squared\" and takes one argument\n",
    "  calculation <- x * x         # this shows what the function will do with the `x` argument\n",
    "  return(calculation)          # this tells the function to display the result of `calculation`\n",
    "}\n",
    "\n",
    "# Nothing happens until you call the new `squared( )` function that you've created:\n",
    "squared(3)"
   ]
  },
  {
   "cell_type": "markdown",
   "id": "80bb7a79-5a59-4a20-8284-21409d2f5af1",
   "metadata": {},
   "source": [
    "------------------------------------------------------------------------\n",
    "\n",
    "# Programming with conditional flow (if-else)\n",
    "\n",
    "#### Basic `if` Statement Syntax:\n",
    "\n",
    "    if (condition) {\n",
    "      do something\n",
    "    } else {\n",
    "      do something different\n",
    "    }"
   ]
  },
  {
   "cell_type": "code",
   "execution_count": null,
   "id": "a5e38ef7-dcb6-4f71-96f2-7f7f08b7a550",
   "metadata": {},
   "outputs": [
    {
     "name": "stdout",
     "output_type": "stream",
     "text": [
      "[1] \"error: This function requires a numeric argument\""
     ]
    }
   ],
   "source": [
    "squared_better <- function(x) {       # the function will be called \"squared\" and takes one argument\n",
    "  if (!is.numeric(x)) {\n",
    "    print(\"error: This function requires a numeric argument\")\n",
    "  } else {\n",
    "    calculation <- x * x         # this shows what the function will do with the `x` argument\n",
    "    return(calculation)          # this tells the function to display the result of `calculation`\n",
    "  }\n",
    "}\n",
    "\n",
    "squared_better(\"1\")"
   ]
  },
  {
   "cell_type": "code",
   "execution_count": null,
   "id": "0286f0d0-091c-46cd-8933-2bf8fbe0b17c",
   "metadata": {},
   "outputs": [
    {
     "name": "stdout",
     "output_type": "stream",
     "text": [
      "[1] \"Yes\""
     ]
    }
   ],
   "source": [
    "var <- 5           # some variable set to 5\n",
    "\n",
    "if (var > 3) {     # if condition\n",
    "  print('Yes')     # do this if condition is satisfied\n",
    "} else {\n",
    "  print('No')      # do this if condition is NOT satisfied\n",
    "}"
   ]
  },
  {
   "cell_type": "markdown",
   "id": "b1ff2406-aa12-4d73-98c7-b8dcf3b6e411",
   "metadata": {},
   "source": [
    "These `if` statements work well with other programming tools:\n",
    "\n",
    "-   Inside a loop you might test a condition with each iteration through\n",
    "    the loop and provide alternate instructions depending on the\n",
    "    outcome.  \n",
    "-   As part of a `function` you might provide different instructions\n",
    "    depending on the argument supplied.\n",
    "\n",
    "#### Fine to link as many conditions as needed:\n",
    "\n",
    "    if (condition){\n",
    "      do something\n",
    "    } else if (another condition) {\n",
    "      do something else\n",
    "    } else {\n",
    "      do something different\n",
    "    }\n",
    "\n",
    "------------------------------------------------------------------------\n",
    "\n",
    "# Data Frame operations\n",
    "\n",
    "#### A special case of a list where all elements are the same length."
   ]
  },
  {
   "cell_type": "code",
   "execution_count": null,
   "id": "cf9efd26-6139-4583-b096-b419d638c372",
   "metadata": {},
   "outputs": [
    {
     "name": "stdout",
     "output_type": "stream",
     "text": [
      "  numbers letters\n",
      "1       1       A\n",
      "2       2       B\n",
      "3       3       C\n",
      "4       4       D\n",
      "5       5       E\n",
      "6       6       F"
     ]
    }
   ],
   "source": [
    "letters <- c(\"A\", \"B\", \"C\", \"D\", \"E\", \"F\")    # create a vector\n",
    "numbers <- 1:6                                # create another vector\n",
    "\n",
    "df <- data.frame(numbers, letters)            # combine them as a data frame\n",
    "df"
   ]
  },
  {
   "cell_type": "markdown",
   "id": "95fb0e70-848c-4903-aea7-c07f6250fa9b",
   "metadata": {},
   "source": [
    "You can use square brackets to select specific elements based on \\[row,\n",
    "column\\]…\n",
    "\n",
    "#### Select element in row 3 and column 2"
   ]
  },
  {
   "cell_type": "code",
   "execution_count": null,
   "id": "d94bb4bd-b004-4dae-8962-76f828b6ca0e",
   "metadata": {},
   "outputs": [
    {
     "name": "stdout",
     "output_type": "stream",
     "text": [
      "[1] \"C\""
     ]
    }
   ],
   "source": [
    "df[3, 2]"
   ]
  },
  {
   "cell_type": "markdown",
   "id": "13d1333d-e009-4e6e-b2e9-71272df5b398",
   "metadata": {},
   "source": [
    "#### Select all elements in row 4 (note comma placement)"
   ]
  },
  {
   "cell_type": "code",
   "execution_count": null,
   "id": "c76f7c21-5165-4705-93e7-0ebc24e72c4c",
   "metadata": {},
   "outputs": [
    {
     "name": "stdout",
     "output_type": "stream",
     "text": [
      "  numbers letters\n",
      "4       4       D"
     ]
    }
   ],
   "source": [
    "df[4, ]"
   ]
  },
  {
   "cell_type": "markdown",
   "id": "4bce5c63-6757-4d6e-841e-3475eed41b2f",
   "metadata": {},
   "source": [
    "#### Select all elements in column 2 (note comma placement again)"
   ]
  },
  {
   "cell_type": "code",
   "execution_count": null,
   "id": "914178a5-8ffa-40f6-af1c-70c5eca3d016",
   "metadata": {},
   "outputs": [
    {
     "name": "stdout",
     "output_type": "stream",
     "text": [
      "[1] \"A\" \"B\" \"C\" \"D\" \"E\" \"F\""
     ]
    }
   ],
   "source": [
    "df[ , 2]"
   ]
  },
  {
   "cell_type": "markdown",
   "id": "1f8355b2-f9d0-4441-9304-6ca14ca8791b",
   "metadata": {},
   "source": [
    "------------------------------------------------------------------------\n",
    "\n",
    "# Nested looping (e.g., over rows and columns)"
   ]
  },
  {
   "cell_type": "code",
   "execution_count": null,
   "id": "61b79e11-c2fc-449d-b74a-2fb1b89de011",
   "metadata": {},
   "outputs": [
    {
     "name": "stdout",
     "output_type": "stream",
     "text": [
      "             V1            V2            V3            V4            V5\n",
      "1 Row 1 , Col 1 Row 1 , Col 2 Row 1 , Col 3 Row 1 , Col 4 Row 1 , Col 5\n",
      "2 Row 2 , Col 1 Row 2 , Col 2 Row 2 , Col 3 Row 2 , Col 4 Row 2 , Col 5\n",
      "3 Row 3 , Col 1 Row 3 , Col 2 Row 3 , Col 3 Row 3 , Col 4 Row 3 , Col 5\n",
      "4 Row 4 , Col 1 Row 4 , Col 2 Row 4 , Col 3 Row 4 , Col 4 Row 4 , Col 5\n",
      "5 Row 5 , Col 1 Row 5 , Col 2 Row 5 , Col 3 Row 5 , Col 4 Row 5 , Col 5\n",
      "6 Row 6 , Col 1 Row 6 , Col 2 Row 6 , Col 3 Row 6 , Col 4 Row 6 , Col 5"
     ]
    }
   ],
   "source": [
    "df2 <- data.frame(NULL)  # we need a placeholder, and it should be a data.frame \n",
    "Rows <- c(1:6)\n",
    "Cols <- c(1:5)\n",
    "\n",
    "\n",
    "for (j in 1:length(Cols)) {           # outer loop processed after each complete cycle of inner loop\n",
    "  for (i in 1:length(Rows)) {         # inner loop processed most frequently\n",
    "    df2[i, j] <- paste(\"Row\", i, \", Col\", j)  \n",
    "  }\n",
    "}\n",
    "\n",
    "df2"
   ]
  },
  {
   "cell_type": "markdown",
   "id": "326b46ed-cf84-4a94-ac0d-d1e64a19b5cc",
   "metadata": {},
   "source": [
    "------------------------------------------------------------------------\n",
    "\n",
    "# The dollar sign `$` operator for data frames"
   ]
  },
  {
   "cell_type": "code",
   "execution_count": null,
   "id": "2b4d73fe-5992-4efc-9423-24d1904869fc",
   "metadata": {},
   "outputs": [
    {
     "name": "stdout",
     "output_type": "stream",
     "text": [
      "  numbers letters\n",
      "1       1       A\n",
      "2       2       B\n",
      "3       3       C\n",
      "4       4       D\n",
      "5       5       E\n",
      "6       6       F"
     ]
    }
   ],
   "source": [
    "df <- data.frame(numbers, letters)    # same data frame used before\n",
    "df"
   ]
  },
  {
   "cell_type": "markdown",
   "id": "25d1b6da-b47e-49ed-855a-8df5a0ce0fd5",
   "metadata": {},
   "source": [
    "#### Dollar sign `$` used to select a variable in a data frame by name (and simplify class)"
   ]
  },
  {
   "cell_type": "code",
   "execution_count": null,
   "id": "b0d8890c-bb94-4556-8fb1-e7316ade416e",
   "metadata": {},
   "outputs": [
    {
     "name": "stdout",
     "output_type": "stream",
     "text": [
      "[1] 1 2 3 4 5 6"
     ]
    }
   ],
   "source": [
    "df$numbers"
   ]
  },
  {
   "cell_type": "markdown",
   "id": "52cd59ea-4052-48b2-a4e2-fe85ed38b887",
   "metadata": {},
   "source": [
    "#### Dollar sign `$` used to add a variable in a data frame by name"
   ]
  },
  {
   "cell_type": "code",
   "execution_count": null,
   "id": "15d5b526-5be6-4ae1-8c4a-247bea301ed1",
   "metadata": {},
   "outputs": [
    {
     "name": "stdout",
     "output_type": "stream",
     "text": [
      "  numbers letters       combo trueFalse\n",
      "1       1       A A - 1 combo      TRUE\n",
      "2       2       B B - 2 combo     FALSE\n",
      "3       3       C C - 3 combo      TRUE\n",
      "4       4       D D - 4 combo      TRUE\n",
      "5       5       E E - 5 combo     FALSE\n",
      "6       6       F F - 6 combo     FALSE"
     ]
    }
   ],
   "source": [
    "df$combo <- paste(letters, \"-\", numbers, \"combo\")   # paste is a handy function too\n",
    "\n",
    "df$trueFalse <- c(T, F, T, T, F, F)\n",
    "df"
   ]
  },
  {
   "cell_type": "markdown",
   "id": "32382d78-521e-49da-afc5-be9abc5af31b",
   "metadata": {},
   "source": [
    "------------------------------------------------------------------------\n",
    "\n",
    "# Dollar sign `$` operator for other objects\n",
    "\n",
    "#### Consider a simple linear regression model (`mtcars` data set):"
   ]
  },
  {
   "cell_type": "code",
   "execution_count": null,
   "id": "b0b4c30e-97fe-44b0-bb6f-5b5e5dc07e5c",
   "metadata": {},
   "outputs": [],
   "source": [
    "# this is a model predicting miles per gallon from weight of the car\n",
    "CarModel <- lm(mpg ~ wt, data = mtcars)\n",
    "\n",
    "# same model, different syntax--harder to read, but $ helps auto-fill variable names\n",
    "CarModel2 <- lm(mtcars$mpg ~ mtcars$wt)  "
   ]
  },
  {
   "cell_type": "markdown",
   "id": "4da74483-6e22-4b4c-9f7d-15d364d6c443",
   "metadata": {},
   "source": [
    "#### The `summary( )` command will provide a useful summary of the model information"
   ]
  },
  {
   "cell_type": "code",
   "execution_count": null,
   "id": "f452ad76-af98-475f-aca8-7da4494ebaa6",
   "metadata": {},
   "outputs": [
    {
     "name": "stdout",
     "output_type": "stream",
     "text": [
      "\n",
      "Call:\n",
      "lm(formula = mpg ~ wt, data = mtcars)\n",
      "\n",
      "Residuals:\n",
      "    Min      1Q  Median      3Q     Max \n",
      "-4.5432 -2.3647 -0.1252  1.4096  6.8727 \n",
      "\n",
      "Coefficients:\n",
      "            Estimate Std. Error t value Pr(>|t|)    \n",
      "(Intercept)  37.2851     1.8776  19.858  < 2e-16 ***\n",
      "wt           -5.3445     0.5591  -9.559 1.29e-10 ***\n",
      "---\n",
      "Signif. codes:  0 '***' 0.001 '**' 0.01 '*' 0.05 '.' 0.1 ' ' 1\n",
      "\n",
      "Residual standard error: 3.046 on 30 degrees of freedom\n",
      "Multiple R-squared:  0.7528,    Adjusted R-squared:  0.7446 \n",
      "F-statistic: 91.38 on 1 and 30 DF,  p-value: 1.294e-10"
     ]
    }
   ],
   "source": [
    "summary(CarModel)"
   ]
  },
  {
   "cell_type": "markdown",
   "id": "8e1ab828-3e94-48ed-9c5e-f68f0e19938f",
   "metadata": {},
   "source": [
    "#### The `CarModel` object includes lots more though, as we can see through an `str()` command"
   ]
  },
  {
   "cell_type": "code",
   "execution_count": null,
   "id": "5ffb7c2b-7e5f-4dcc-8565-8ad69ffe1dcf",
   "metadata": {},
   "outputs": [
    {
     "name": "stderr",
     "output_type": "stream",
     "text": [
      "── Attaching core tidyverse packages ──────────────────────── tidyverse 2.0.0 ──\n",
      "✔ dplyr     1.1.2     ✔ readr     2.1.4\n",
      "✔ forcats   1.0.0     ✔ stringr   1.5.0\n",
      "✔ ggplot2   3.4.3     ✔ tibble    3.2.1\n",
      "✔ lubridate 1.9.2     ✔ tidyr     1.3.0\n",
      "✔ purrr     1.0.2     \n",
      "── Conflicts ────────────────────────────────────────── tidyverse_conflicts() ──\n",
      "✖ dplyr::filter() masks stats::filter()\n",
      "✖ dplyr::lag()    masks stats::lag()\n",
      "ℹ Use the conflicted package (<http://conflicted.r-lib.org/>) to force all conflicts to become errors"
     ]
    },
    {
     "name": "stdout",
     "output_type": "stream",
     "text": [
      "List of 12\n",
      " $ coefficients : Named num [1:2] 37.29 -5.34\n",
      "  ..- attr(*, \"names\")= chr [1:2] \"(Intercept)\" \"wt\"\n",
      " $ residuals    : Named num [1:32] -2.28 -0.92 -2.09 1.3 -0.2 ...\n",
      "  ..- attr(*, \"names\")= chr [1:32] \"Mazda RX4\" \"Mazda RX4 Wag\" \"Datsun 710\" \"Hornet 4 Drive\" ...\n",
      " $ effects      : Named num [1:32] -113.65 -29.116 -1.661 1.631 0.111 ...\n",
      "  ..- attr(*, \"names\")= chr [1:32] \"(Intercept)\" \"wt\" \"\" \"\" ...\n",
      " $ rank         : int 2\n",
      " $ fitted.values: Named num [1:32] 23.3 21.9 24.9 20.1 18.9 ...\n",
      "  ..- attr(*, \"names\")= chr [1:32] \"Mazda RX4\" \"Mazda RX4 Wag\" \"Datsun 710\" \"Hornet 4 Drive\" ...\n",
      " $ assign       : int [1:2] 0 1\n",
      " $ qr           :List of 5\n",
      "  ..$ qr   : num [1:32, 1:2] -5.657 0.177 0.177 0.177 0.177 ...\n",
      "  .. ..- attr(*, \"dimnames\")=List of 2\n",
      "  .. ..- attr(*, \"assign\")= int [1:2] 0 1\n",
      "  ..$ qraux: num [1:2] 1.18 1.05\n",
      "  ..$ pivot: int [1:2] 1 2\n",
      "  ..$ tol  : num 1e-07\n",
      "  ..$ rank : int 2\n",
      "  ..- attr(*, \"class\")= chr \"qr\"\n",
      " $ df.residual  : int 30\n",
      " $ xlevels      : Named list()\n",
      " $ call         : language lm(formula = mpg ~ wt, data = mtcars)\n",
      " $ terms        :Classes 'terms', 'formula'  language mpg ~ wt\n",
      "  .. ..- attr(*, \"variables\")= language list(mpg, wt)\n",
      "  .. ..- attr(*, \"factors\")= int [1:2, 1] 0 1\n",
      "  .. .. ..- attr(*, \"dimnames\")=List of 2\n",
      "  .. ..- attr(*, \"term.labels\")= chr \"wt\"\n",
      "  .. ..- attr(*, \"order\")= int 1\n",
      "  .. ..- attr(*, \"intercept\")= int 1\n",
      "  .. ..- attr(*, \"response\")= int 1\n",
      "  .. ..- attr(*, \".Environment\")=<environment: R_GlobalEnv> \n",
      "  .. ..- attr(*, \"predvars\")= language list(mpg, wt)\n",
      "  .. ..- attr(*, \"dataClasses\")= Named chr [1:2] \"numeric\" \"numeric\"\n",
      "  .. .. ..- attr(*, \"names\")= chr [1:2] \"mpg\" \"wt\"\n",
      " $ model        :'data.frame':  32 obs. of  2 variables:\n",
      "  ..$ mpg: num [1:32] 21 21 22.8 21.4 18.7 18.1 14.3 24.4 22.8 19.2 ...\n",
      "  ..$ wt : num [1:32] 2.62 2.88 2.32 3.21 3.44 ...\n",
      "  ..- attr(*, \"terms\")=Classes 'terms', 'formula'  language mpg ~ wt\n",
      "  .. .. ..- attr(*, \"variables\")= language list(mpg, wt)\n",
      "  .. .. ..- attr(*, \"factors\")= int [1:2, 1] 0 1\n",
      "  .. .. .. ..- attr(*, \"dimnames\")=List of 2\n",
      "  .. .. ..- attr(*, \"term.labels\")= chr \"wt\"\n",
      "  .. .. ..- attr(*, \"order\")= int 1\n",
      "  .. .. ..- attr(*, \"intercept\")= int 1\n",
      "  .. .. ..- attr(*, \"response\")= int 1\n",
      "  .. .. ..- attr(*, \".Environment\")=<environment: R_GlobalEnv> \n",
      "  .. .. ..- attr(*, \"predvars\")= language list(mpg, wt)\n",
      "  .. .. ..- attr(*, \"dataClasses\")= Named chr [1:2] \"numeric\" \"numeric\"\n",
      "  .. .. .. ..- attr(*, \"names\")= chr [1:2] \"mpg\" \"wt\"\n",
      " - attr(*, \"class\")= chr \"lm\""
     ]
    }
   ],
   "source": [
    "library(tidyverse)"
   ]
  },
  {
   "cell_type": "markdown",
   "id": "8c7e7038-f693-400c-930a-4b2a1a64c28a",
   "metadata": {},
   "source": [
    "We can extract that information from `CarModel` using the dollar sign\n",
    "`$` operator.\n",
    "\n",
    "How about coefficient estimates:"
   ]
  },
  {
   "cell_type": "code",
   "execution_count": null,
   "id": "6c2cd938-b517-49b0-a00d-ed26404b0a48",
   "metadata": {},
   "outputs": [
    {
     "name": "stdout",
     "output_type": "stream",
     "text": [
      "(Intercept)          wt \n",
      "  37.285126   -5.344472 "
     ]
    }
   ],
   "source": [
    "CarModel$coefficients"
   ]
  },
  {
   "cell_type": "code",
   "execution_count": null,
   "id": "5f687cd3-19e1-4aa6-9860-3ced8e7fda03",
   "metadata": {},
   "outputs": [
    {
     "name": "stdout",
     "output_type": "stream",
     "text": [
      "                     mpg    wt\n",
      "Mazda RX4           21.0 2.620\n",
      "Mazda RX4 Wag       21.0 2.875\n",
      "Datsun 710          22.8 2.320\n",
      "Hornet 4 Drive      21.4 3.215\n",
      "Hornet Sportabout   18.7 3.440\n",
      "Valiant             18.1 3.460\n",
      "Duster 360          14.3 3.570\n",
      "Merc 240D           24.4 3.190\n",
      "Merc 230            22.8 3.150\n",
      "Merc 280            19.2 3.440\n",
      "Merc 280C           17.8 3.440\n",
      "Merc 450SE          16.4 4.070\n",
      "Merc 450SL          17.3 3.730\n",
      "Merc 450SLC         15.2 3.780\n",
      "Cadillac Fleetwood  10.4 5.250\n",
      "Lincoln Continental 10.4 5.424\n",
      "Chrysler Imperial   14.7 5.345\n",
      "Fiat 128            32.4 2.200\n",
      "Honda Civic         30.4 1.615\n",
      "Toyota Corolla      33.9 1.835\n",
      "Toyota Corona       21.5 2.465\n",
      "Dodge Challenger    15.5 3.520\n",
      "AMC Javelin         15.2 3.435\n",
      "Camaro Z28          13.3 3.840\n",
      "Pontiac Firebird    19.2 3.845\n",
      "Fiat X1-9           27.3 1.935\n",
      "Porsche 914-2       26.0 2.140\n",
      "Lotus Europa        30.4 1.513\n",
      "Ford Pantera L      15.8 3.170\n",
      "Ferrari Dino        19.7 2.770\n",
      "Maserati Bora       15.0 3.570\n",
      "Volvo 142E          21.4 2.780"
     ]
    },
    {
     "name": "stdout",
     "output_type": "stream",
     "text": [
      "(Intercept)          wt \n",
      "  37.285126   -5.344472 "
     ]
    },
    {
     "name": "stdout",
     "output_type": "stream",
     "text": [
      "                     mpg    wt\n",
      "Mazda RX4           21.0 2.620\n",
      "Mazda RX4 Wag       21.0 2.875\n",
      "Datsun 710          22.8 2.320\n",
      "Hornet 4 Drive      21.4 3.215\n",
      "Hornet Sportabout   18.7 3.440\n",
      "Valiant             18.1 3.460\n",
      "Duster 360          14.3 3.570\n",
      "Merc 240D           24.4 3.190\n",
      "Merc 230            22.8 3.150\n",
      "Merc 280            19.2 3.440\n",
      "Merc 280C           17.8 3.440\n",
      "Merc 450SE          16.4 4.070\n",
      "Merc 450SL          17.3 3.730\n",
      "Merc 450SLC         15.2 3.780\n",
      "Cadillac Fleetwood  10.4 5.250\n",
      "Lincoln Continental 10.4 5.424\n",
      "Chrysler Imperial   14.7 5.345\n",
      "Fiat 128            32.4 2.200\n",
      "Honda Civic         30.4 1.615\n",
      "Toyota Corolla      33.9 1.835\n",
      "Toyota Corona       21.5 2.465\n",
      "Dodge Challenger    15.5 3.520\n",
      "AMC Javelin         15.2 3.435\n",
      "Camaro Z28          13.3 3.840\n",
      "Pontiac Firebird    19.2 3.845\n",
      "Fiat X1-9           27.3 1.935\n",
      "Porsche 914-2       26.0 2.140\n",
      "Lotus Europa        30.4 1.513\n",
      "Ford Pantera L      15.8 3.170\n",
      "Ferrari Dino        19.7 2.770\n",
      "Maserati Bora       15.0 3.570\n",
      "Volvo 142E          21.4 2.780"
     ]
    },
    {
     "name": "stdout",
     "output_type": "stream",
     "text": [
      "(Intercept)          wt \n",
      "  37.285126   -5.344472 "
     ]
    },
    {
     "name": "stdout",
     "output_type": "stream",
     "text": [
      "$model\n",
      "                     mpg    wt\n",
      "Mazda RX4           21.0 2.620\n",
      "Mazda RX4 Wag       21.0 2.875\n",
      "Datsun 710          22.8 2.320\n",
      "Hornet 4 Drive      21.4 3.215\n",
      "Hornet Sportabout   18.7 3.440\n",
      "Valiant             18.1 3.460\n",
      "Duster 360          14.3 3.570\n",
      "Merc 240D           24.4 3.190\n",
      "Merc 230            22.8 3.150\n",
      "Merc 280            19.2 3.440\n",
      "Merc 280C           17.8 3.440\n",
      "Merc 450SE          16.4 4.070\n",
      "Merc 450SL          17.3 3.730\n",
      "Merc 450SLC         15.2 3.780\n",
      "Cadillac Fleetwood  10.4 5.250\n",
      "Lincoln Continental 10.4 5.424\n",
      "Chrysler Imperial   14.7 5.345\n",
      "Fiat 128            32.4 2.200\n",
      "Honda Civic         30.4 1.615\n",
      "Toyota Corolla      33.9 1.835\n",
      "Toyota Corona       21.5 2.465\n",
      "Dodge Challenger    15.5 3.520\n",
      "AMC Javelin         15.2 3.435\n",
      "Camaro Z28          13.3 3.840\n",
      "Pontiac Firebird    19.2 3.845\n",
      "Fiat X1-9           27.3 1.935\n",
      "Porsche 914-2       26.0 2.140\n",
      "Lotus Europa        30.4 1.513\n",
      "Ford Pantera L      15.8 3.170\n",
      "Ferrari Dino        19.7 2.770\n",
      "Maserati Bora       15.0 3.570\n",
      "Volvo 142E          21.4 2.780"
     ]
    },
    {
     "name": "stdout",
     "output_type": "stream",
     "text": [
      "$coefficients\n",
      "(Intercept)          wt \n",
      "  37.285126   -5.344472 "
     ]
    }
   ],
   "source": [
    "# compare methods to select various elements...\n",
    "\n",
    "# double square brackets\n",
    "CarModel[[\"model\"]]"
   ]
  },
  {
   "cell_type": "markdown",
   "id": "b2f2c7c4-84e2-4ce6-b59d-8c284448bcd7",
   "metadata": {},
   "source": [
    "We often show residuals vs fitted values to evaluate a `CarModel` fit.\n",
    "The `CarModel` object stores that information for your use, so you can\n",
    "extract it with the `$` operator to easily retrieve it:"
   ]
  },
  {
   "cell_type": "code",
   "execution_count": null,
   "id": "457f19fc-767e-4abe-8e43-e84eec423059",
   "metadata": {},
   "outputs": [
    {
     "data": {
      "image/png": "[encoded data removed]"
     },
     "metadata": {},
     "output_type": "display_data"
    }
   ],
   "source": [
    "library(tidyverse)\n",
    "\n",
    "require(ggplot2)    # note--base r does plots too, but `ggplot2` gives you much more control\n",
    "\n",
    "ggplot() + \n",
    "  geom_point(aes(x = CarModel$fitted.values, y = CarModel$residuals))"
   ]
  },
  {
   "cell_type": "markdown",
   "id": "e7b7dbd3-087a-4c7e-a767-306b31779579",
   "metadata": {},
   "source": [
    "For the sake of illustration, suppose you want to color the residuals by\n",
    "the number of cylinders as a proxy for engine size. (note it would\n",
    "usually make more sense to include cylinder as a variable in the model,\n",
    "but we’re just showing a way that you can pull information from\n",
    "compatible data sets together on a plot)"
   ]
  },
  {
   "cell_type": "code",
   "execution_count": null,
   "id": "ca6076ef-2944-4824-99bb-58a070bd8647",
   "metadata": {},
   "outputs": [
    {
     "data": {
      "image/png": "[encoded data removed]"
     },
     "metadata": {},
     "output_type": "display_data"
    }
   ],
   "source": [
    "require(ggplot2)\n",
    "\n",
    "ggplot() + \n",
    "  geom_point(aes(x = CarModel$fitted.values, y = CarModel$residuals, color = as.factor(mtcars$cyl)))"
   ]
  },
  {
   "cell_type": "markdown",
   "id": "2be6f39e-7c42-4fd1-b0e6-390c1205397c",
   "metadata": {},
   "source": [
    "------------------------------------------------------------------------\n",
    "\n",
    "# Simulation\n",
    "\n",
    "#### Result from a real study about carbon capture in tropical forests:\n",
    "\n",
    "> 95% CI: 11,600 ± 2⋅1000 = (9,600, 13,600)\n",
    "\n",
    "> “We are 95% confident that the average amount of carbon stored in each\n",
    "> square kilometer of tropical forest is between 9,600 and 13,600 tons”\n",
    "\n",
    "What’s wrong with saying “there’s a 95% chance that the average amount\n",
    "of carbon stored in each square kilometer of tropical forest is between\n",
    "9,600 and 13,600 tons” ??"
   ]
  },
  {
   "cell_type": "code",
   "execution_count": null,
   "id": "7f0b0fae-52b7-4f21-b22b-49748fd50357",
   "metadata": {},
   "outputs": [
    {
     "data": {
      "image/png": "[encoded data removed]"
     },
     "metadata": {},
     "output_type": "display_data"
    },
    {
     "name": "stdout",
     "output_type": "stream",
     "text": [
      "\n",
      "    One Sample t-test\n",
      "\n",
      "data:  normDatSim\n",
      "t = 54.33, df = 14, p-value < 2.2e-16\n",
      "alternative hypothesis: true mean is not equal to 0\n",
      "95 percent confidence interval:\n",
      " 10969.07 11870.72\n",
      "sample estimates:\n",
      "mean of x \n",
      "  11419.9 "
     ]
    }
   ],
   "source": [
    "normDatSim <- rnorm(n = 15, mean = 11600, sd = 1000)\n",
    "# normDatSim <- rexp(n = 15, rate = 1/11600)  # a non-normal distribution for comparison\n",
    "\n",
    "ggplot() +\n",
    "  geom_density(aes(normDatSim))"
   ]
  },
  {
   "cell_type": "markdown",
   "id": "8ce9a12d-2330-489a-ac65-344b25715168",
   "metadata": {},
   "source": [
    "------------------------------------------------------------------------\n",
    "\n",
    "# Simulation with Loops"
   ]
  },
  {
   "cell_type": "code",
   "execution_count": null,
   "id": "075ae64b-a06b-4b7d-a90f-c1ef0a001e71",
   "metadata": {},
   "outputs": [
    {
     "name": "stdout",
     "output_type": "stream",
     "text": [
      "    simulationID    lower    upper captureMu\n",
      "1              1 10476.69 11396.32     FALSE\n",
      "2              2 11122.27 12156.49      TRUE\n",
      "3              3 10846.94 11809.80      TRUE\n",
      "4              4 10878.46 12120.29      TRUE\n",
      "5              5 10724.69 12233.82      TRUE\n",
      "6              6 10656.32 11828.49      TRUE\n",
      "7              7 10778.48 11863.93      TRUE\n",
      "8              8 11187.20 12185.46      TRUE\n",
      "9              9 10945.00 12296.43      TRUE\n",
      "10            10 10925.59 12019.55      TRUE\n",
      "11            11 11297.11 12064.09      TRUE\n",
      "12            12 10960.72 12048.07      TRUE\n",
      "13            13 11323.85 12216.87      TRUE\n",
      "14            14 11134.16 12515.24      TRUE\n",
      "15            15 10980.72 12253.86      TRUE\n",
      "16            16 10796.17 12012.29      TRUE\n",
      "17            17 11457.74 12750.17      TRUE\n",
      "18            18 11259.89 12205.40      TRUE\n",
      "19            19 10502.27 11525.84     FALSE\n",
      "20            20 10865.67 12170.54      TRUE\n",
      "21            21 11242.41 12126.19      TRUE\n",
      "22            22 10919.15 12267.94      TRUE\n",
      "23            23 10962.64 12115.65      TRUE\n",
      "24            24 11059.80 12070.02      TRUE\n",
      "25            25 11102.32 12199.08      TRUE\n",
      "26            26 10628.11 11915.36      TRUE\n",
      "27            27 11091.20 11934.98      TRUE\n",
      "28            28 11469.13 12289.70      TRUE\n",
      "29            29 10951.63 12069.91      TRUE\n",
      "30            30 11139.26 11856.81      TRUE\n",
      "31            31 11156.09 11896.56      TRUE\n",
      "32            32 11187.30 11982.41      TRUE\n",
      "33            33 11457.80 12322.01      TRUE\n",
      "34            34 11271.23 12717.54      TRUE\n",
      "35            35 11317.48 12672.86      TRUE\n",
      "36            36 11098.94 12063.43      TRUE\n",
      "37            37 10533.59 11668.41      TRUE\n",
      "38            38 10733.46 11865.63      TRUE\n",
      "39            39 11001.98 12036.35      TRUE\n",
      "40            40 10849.72 12109.39      TRUE\n",
      "41            41 10876.98 12030.07      TRUE\n",
      "42            42 10796.94 11870.69      TRUE\n",
      "43            43 10995.96 12412.11      TRUE\n",
      "44            44 10825.81 12045.35      TRUE\n",
      "45            45 10806.11 11889.76      TRUE\n",
      "46            46 11470.40 12339.94      TRUE\n",
      "47            47 11019.31 11985.80      TRUE\n",
      "48            48 10911.21 11909.10      TRUE\n",
      "49            49 11411.89 12694.83      TRUE\n",
      "50            50 11271.32 12091.58      TRUE\n",
      "51            51 11731.87 12403.47     FALSE\n",
      "52            52 10825.94 11922.18      TRUE\n",
      "53            53 11061.62 12034.91      TRUE\n",
      "54            54 10903.26 12048.88      TRUE\n",
      "55            55 10963.69 12158.78      TRUE\n",
      "56            56 11245.24 12489.80      TRUE\n",
      "57            57 11635.28 12534.12     FALSE\n",
      "58            58 11157.57 12099.77      TRUE\n",
      "59            59 11214.14 11922.32      TRUE\n",
      "60            60 10839.74 11609.08      TRUE\n",
      "61            61 11263.94 12133.38      TRUE\n",
      "62            62 11383.66 12565.51      TRUE\n",
      "63            63 10861.78 12030.75      TRUE\n",
      "64            64 10838.31 11893.91      TRUE\n",
      "65            65 11246.15 12279.85      TRUE\n",
      "66            66 11215.42 12478.29      TRUE\n",
      "67            67 11038.23 12297.55      TRUE\n",
      "68            68 10861.70 11710.69      TRUE\n",
      "69            69 11553.52 12670.55      TRUE\n",
      "70            70 10306.63 11590.75     FALSE\n",
      "71            71 11183.52 12340.02      TRUE\n",
      "72            72 11268.03 12498.07      TRUE\n",
      "73            73 11188.57 12185.10      TRUE\n",
      "74            74 10777.20 11999.06      TRUE\n",
      "75            75 10945.37 11863.61      TRUE\n",
      "76            76 10770.30 11805.11      TRUE\n",
      "77            77 11000.79 12107.10      TRUE\n",
      "78            78 11379.89 12599.69      TRUE\n",
      "79            79 11058.05 12241.88      TRUE\n",
      "80            80 10886.64 11940.86      TRUE\n",
      "81            81 11026.23 12573.88      TRUE\n",
      "82            82 10758.48 12317.45      TRUE\n",
      "83            83 10844.80 11695.40      TRUE\n",
      "84            84 11044.24 12294.20      TRUE\n",
      "85            85 11100.85 12323.36      TRUE\n",
      "86            86 10933.21 11996.78      TRUE\n",
      "87            87 11337.20 12538.66      TRUE\n",
      "88            88 10823.31 11885.00      TRUE\n",
      "89            89 11455.19 12747.54      TRUE\n",
      "90            90 11167.61 11739.42      TRUE\n",
      "91            91 11507.81 12389.33      TRUE\n",
      "92            92 10586.67 11807.53      TRUE\n",
      "93            93 11414.71 12427.34      TRUE\n",
      "94            94 11293.36 12055.49      TRUE\n",
      "95            95 11378.51 12479.65      TRUE\n",
      "96            96 11318.52 12350.62      TRUE\n",
      "97            97 11427.75 12577.18      TRUE\n",
      "98            98 11551.74 12357.23      TRUE\n",
      "99            99 11017.30 11815.68      TRUE\n",
      "100          100 10684.28 11783.35      TRUE"
     ]
    },
    {
     "data": {
      "image/png": "[encoded data removed]"
     },
     "metadata": {},
     "output_type": "display_data"
    },
    {
     "name": "stdout",
     "output_type": "stream",
     "text": [
      "[1] 0.95"
     ]
    }
   ],
   "source": [
    "# simulation settings\n",
    "nsimulations <- 100\n",
    "mu <- 11600\n",
    "sigma <- 1000\n",
    "sampleSize <- 15\n",
    "\n",
    "# initialize a data frame where we can store various results at each step in our simulation\n",
    "ConfIntDat <- data.frame(simulationID = rep(NA, nsimulations), \n",
    "                         lower = rep(NA, nsimulations), \n",
    "                         upper = rep(NA, nsimulations), \n",
    "                         captureMu = rep(NA, nsimulations))\n",
    "\n",
    "# use a loop to simulate many results and store them at each step\n",
    "for (i in 1:nsimulations) {                                   # increment 'i' from 1 to 'nsimulations'\n",
    "  normDatSim <- rnorm(n = sampleSize, mean = mu, sd = sigma)  # simulate a new random sample\n",
    "  ConfIntDat$simulationID[i] <- i                             # store an ID for each sample\n",
    "  ConfIntDat$lower[i] <- t.test(normDatSim)$conf.int[1]       # store the lower bound of our CI\n",
    "  ConfIntDat$upper[i] <- t.test(normDatSim)$conf.int[2]       # store upper bound of our CI\n",
    "  ConfIntDat$captureMu[i] <- (mu > ConfIntDat$lower[i] & mu < ConfIntDat$upper[i])\n",
    "\n",
    "}\n",
    "\n",
    "ConfIntDat"
   ]
  },
  {
   "cell_type": "markdown",
   "id": "cbe95f10-86f9-43bb-a458-b32baa0edb1d",
   "metadata": {},
   "source": [
    "-   Can you see why we call it a “95% confidence interval”?\n",
    "-   Tinker with the simulation settings and try again\n",
    "    -   Explore changes to `nsimulations`, `mu`, `sigma`, and\n",
    "        `sampleSize`\n",
    "    -   Try changing one at a time to larger or smaller values and\n",
    "        observe what happens\n",
    "\n",
    "------------------------------------------------------------------------\n",
    "\n",
    "# another way… (some would say “The R Way”)\n",
    "\n",
    "-   we can make a function that handles the guts of the loop and then\n",
    "    call the function as an argument\n",
    "-   then we can leverage more efficient tools to do things way faster\n",
    "    (vectorized functions, parallel processing, etc)\n",
    "\n",
    "### Here’s the original code…\n",
    "\n",
    "    # simulation settings\n",
    "    nsimulations <- 100\n",
    "    mu <- 34\n",
    "    sigma <- 5\n",
    "    sampleSize <- 15\n",
    "\n",
    "    # initialize a data frame where we can store various results at each step in our simulation\n",
    "    ConfIntDat <- data.frame(simulationID = rep(NA, nsimulations), \n",
    "                             lower = rep(NA, nsimulations), \n",
    "                             upper = rep(NA, nsimulations), \n",
    "                             captureMu = rep(NA, nsimulations))\n",
    "\n",
    "    # use a loop to simulate many results and store them at each step\n",
    "    for (i in 1:nsimulations) {                                   # increment 'i' from 1 to 'nsimulations'\n",
    "      normDatSim <- rnorm(n = sampleSize, mean = mu, sd = sigma)  # simulate a new random sample\n",
    "      ConfIntDat$simulationID[i] <- i                             # store an ID for each sample\n",
    "      ConfIntDat$lower[i] <- t.test(normDatSim)$conf.int[1]       # store the lower bound of our CI\n",
    "      ConfIntDat$upper[i] <- t.test(normDatSim)$conf.int[2]       # store upper bound of our CI\n",
    "      ConfIntDat$captureMu[i] <- (mu > ConfIntDat$lower[i] & mu < ConfIntDat$upper[i])\n",
    "\n",
    "    }\n",
    "\n",
    "### making a function…\n",
    "\n",
    "-   the simulation settings will be arguments we (or another user) might\n",
    "    want to change\n",
    "-   when in doubt, it’s better to program arguments rather than “hard\n",
    "    code” specific values within the guts of the function"
   ]
  },
  {
   "cell_type": "code",
   "execution_count": null,
   "id": "7d1cc079-86a7-4e3a-966e-37845cc1a812",
   "metadata": {},
   "outputs": [
    {
     "name": "stdout",
     "output_type": "stream",
     "text": [
      "[[1]]\n",
      "[1] 32.28116\n",
      "\n",
      "[[2]]\n",
      "[1] 37.566\n",
      "\n",
      "[[3]]\n",
      "[1] TRUE"
     ]
    }
   ],
   "source": [
    "ciSim <- function(mu, sigma, sampleSize) {\n",
    "  ## Purpose: function simulates random Normal data and constructs a 95% CI\n",
    "  ## Arguments: \n",
    "  ##    mu: population mean for Normal distribution from which samples are drawn\n",
    "  ##    sigma: population standard deviation for Normal distribution from which samples are drawn\n",
    "  ##    sampleSize: sample size to draw from Normal distribution\n",
    "  \n",
    "  result <- list(NULL)\n",
    "  normDatSim <- rnorm(n = sampleSize, mean = mu, sd = sigma)  # simulate a new random sample\n",
    "  result[1] <- t.test(normDatSim)$conf.int[1]                 # store lower bound of CI\n",
    "  result[2] <- t.test(normDatSim)$conf.int[2]                 # store upper bound of CI\n",
    "  result[3] <- (mu > result[1] & mu < result[2])              # store mu capture result\n",
    "  return(result)                                              # return our results\n",
    "}\n",
    "\n",
    "ciSim(mu = 34, sigma = 5, sampleSize = 15)"
   ]
  },
  {
   "cell_type": "markdown",
   "id": "e1eb85e8-1841-468f-a3e6-92546fb2f62e",
   "metadata": {},
   "source": [
    "### let’s use mosaic::do() which can “do” something many times without writing a loop"
   ]
  },
  {
   "cell_type": "code",
   "execution_count": 43,
   "id": "199b8459-d47c-49f9-9368-e25c4e0d2c03",
   "metadata": {},
   "outputs": [
    {
     "name": "stderr",
     "output_type": "stream",
     "text": [
      "The following objects are masked from 'package:dplyr':\n",
      "\n",
      "    count, do, tally"
     ]
    },
    {
     "name": "stderr",
     "output_type": "stream",
     "text": [
      "The following object is masked from 'package:purrr':\n",
      "\n",
      "    cross"
     ]
    },
    {
     "name": "stderr",
     "output_type": "stream",
     "text": [
      "The following object is masked from 'package:ggplot2':\n",
      "\n",
      "    stat"
     ]
    },
    {
     "name": "stderr",
     "output_type": "stream",
     "text": [
      "The following objects are masked from 'package:stats':\n",
      "\n",
      "    binom.test, cor, cor.test, cov, fivenum, IQR, median, prop.test,\n",
      "    quantile, sd, t.test, var"
     ]
    },
    {
     "name": "stderr",
     "output_type": "stream",
     "text": [
      "The following objects are masked from 'package:base':\n",
      "\n",
      "    max, mean, min, prod, range, sample, sum"
     ]
    },
    {
     "name": "stdout",
     "output_type": "stream",
     "text": [
      "          V1       V2    V3\n",
      "1   30.82491 34.76783  TRUE\n",
      "2   29.42063 35.37262  TRUE\n",
      "3   31.60044 36.72575  TRUE\n",
      "4   31.61669 37.48374  TRUE\n",
      "5   29.84925 35.95057  TRUE\n",
      "6   29.28879 33.66315 FALSE\n",
      "7    31.4095 36.59127  TRUE\n",
      "8   33.73233 39.08506  TRUE\n",
      "9   33.05459 38.29162  TRUE\n",
      "10  30.77819 34.70176  TRUE\n",
      "11  30.60434 37.48245  TRUE\n",
      "12  30.88764 37.56976  TRUE\n",
      "13  33.74801 38.83743  TRUE\n",
      "14  29.64818 34.84019  TRUE\n",
      "15  32.16026 37.87821  TRUE\n",
      "16  29.08847 35.01475  TRUE\n",
      "17  30.74076 36.78669  TRUE\n",
      "18   31.4313 35.74084  TRUE\n",
      "19  30.51275 35.23039  TRUE\n",
      "20  32.85491 39.15575  TRUE\n",
      "21  32.23459 37.60386  TRUE\n",
      "22  29.82771  35.8746  TRUE\n",
      "23  34.82687 40.81147 FALSE\n",
      "24  32.74475 37.36423  TRUE\n",
      "25  31.37566 37.54292  TRUE\n",
      "26  32.63465 36.66012  TRUE\n",
      "27  31.27446 35.78965  TRUE\n",
      "28  31.71607 36.18461  TRUE\n",
      "29  31.95899 36.43028  TRUE\n",
      "30  28.71125 33.94124 FALSE\n",
      "31  31.27854 35.23947  TRUE\n",
      "32  34.87626 40.06131 FALSE\n",
      "33  30.60292 35.14444  TRUE\n",
      "34  31.64647 38.29806  TRUE\n",
      "35  30.36492 34.29828  TRUE\n",
      "36  31.68172 36.82785  TRUE\n",
      "37  31.17286   36.936  TRUE\n",
      "38  28.66221 34.49777  TRUE\n",
      "39  32.53545 36.99387  TRUE\n",
      "40  30.71849 34.40427  TRUE\n",
      "41  31.85165  37.5214  TRUE\n",
      "42  29.60308 33.90363 FALSE\n",
      "43  31.84803  36.3028  TRUE\n",
      "44  32.32529 37.00971  TRUE\n",
      "45  33.08465 38.05412  TRUE\n",
      "46  31.76075 36.29839  TRUE\n",
      "47  32.02613 37.75274  TRUE\n",
      "48  31.04752 36.02917  TRUE\n",
      "49  30.28023 35.26477  TRUE\n",
      "50  31.60999 38.07896  TRUE\n",
      "51  33.11536 37.23131  TRUE\n",
      "52  32.30492 36.33987  TRUE\n",
      "53  31.60738   37.231  TRUE\n",
      "54  29.41598 35.94725  TRUE\n",
      "55  30.83977 34.58639  TRUE\n",
      "56  31.80389 37.10775  TRUE\n",
      "57  30.86825 35.36198  TRUE\n",
      "58  32.51175 37.67971  TRUE\n",
      "59  30.65744 34.86121  TRUE\n",
      "60  27.24418 33.74637 FALSE\n",
      "61  31.53551 36.14558  TRUE\n",
      "62  30.86052 36.71734  TRUE\n",
      "63  30.24011 36.18532  TRUE\n",
      "64  32.25315 37.60626  TRUE\n",
      "65  30.86212  35.3442  TRUE\n",
      "66  29.44701 34.18085  TRUE\n",
      "67  34.32086 37.34364 FALSE\n",
      "68  31.37169 37.50682  TRUE\n",
      "69  29.44865 34.58688  TRUE\n",
      "70  30.90237 36.77917  TRUE\n",
      "71  33.89839 39.37642  TRUE\n",
      "72  29.67697 35.99366  TRUE\n",
      "73  32.80671 37.32907  TRUE\n",
      "74   32.8142 37.09624  TRUE\n",
      "75  29.02429 35.26197  TRUE\n",
      "76  30.73653 37.64403  TRUE\n",
      "77  32.85655 36.85519  TRUE\n",
      "78  31.01398 35.19606  TRUE\n",
      "79  32.83763 36.66327  TRUE\n",
      "80  28.96095 34.94339  TRUE\n",
      "81  32.48431  37.1119  TRUE\n",
      "82   30.7936 36.67354  TRUE\n",
      "83  29.90662 34.50857  TRUE\n",
      "84  31.19777 38.34693  TRUE\n",
      "85  30.18932 36.07426  TRUE\n",
      "86  31.71266 37.07163  TRUE\n",
      "87   30.3318 36.05688  TRUE\n",
      "88  30.57584 37.32325  TRUE\n",
      "89  29.74798 36.23417  TRUE\n",
      "90  30.63654 35.53285  TRUE\n",
      "91  30.44615 35.64478  TRUE\n",
      "92  29.85157 34.17788  TRUE\n",
      "93  32.40958 36.64881  TRUE\n",
      "94  30.04565 36.82678  TRUE\n",
      "95  29.94473 36.15179  TRUE\n",
      "96  28.83996 35.33511  TRUE\n",
      "97  31.25436 38.50949  TRUE\n",
      "98  28.72167 34.88499  TRUE\n",
      "99  29.43205 36.45627  TRUE\n",
      "100 29.03548 36.36012  TRUE"
     ]
    },
    {
     "name": "stdout",
     "output_type": "stream",
     "text": [
      "    rowname    lower    upper muCapture\n",
      "1         1 30.82491 34.76783      TRUE\n",
      "2         2 29.42063 35.37262      TRUE\n",
      "3         3 31.60044 36.72575      TRUE\n",
      "4         4 31.61669 37.48374      TRUE\n",
      "5         5 29.84925 35.95057      TRUE\n",
      "6         6 29.28879 33.66315     FALSE\n",
      "7         7 31.40950 36.59127      TRUE\n",
      "8         8 33.73233 39.08506      TRUE\n",
      "9         9 33.05459 38.29162      TRUE\n",
      "10       10 30.77819 34.70176      TRUE\n",
      "11       11 30.60434 37.48245      TRUE\n",
      "12       12 30.88764 37.56976      TRUE\n",
      "13       13 33.74801 38.83743      TRUE\n",
      "14       14 29.64818 34.84019      TRUE\n",
      "15       15 32.16026 37.87821      TRUE\n",
      "16       16 29.08847 35.01475      TRUE\n",
      "17       17 30.74076 36.78669      TRUE\n",
      "18       18 31.43130 35.74084      TRUE\n",
      "19       19 30.51275 35.23039      TRUE\n",
      "20       20 32.85491 39.15575      TRUE\n",
      "21       21 32.23459 37.60386      TRUE\n",
      "22       22 29.82771 35.87460      TRUE\n",
      "23       23 34.82687 40.81147     FALSE\n",
      "24       24 32.74475 37.36423      TRUE\n",
      "25       25 31.37566 37.54292      TRUE\n",
      "26       26 32.63465 36.66012      TRUE\n",
      "27       27 31.27446 35.78965      TRUE\n",
      "28       28 31.71607 36.18461      TRUE\n",
      "29       29 31.95899 36.43028      TRUE\n",
      "30       30 28.71125 33.94124     FALSE\n",
      "31       31 31.27854 35.23947      TRUE\n",
      "32       32 34.87626 40.06131     FALSE\n",
      "33       33 30.60292 35.14444      TRUE\n",
      "34       34 31.64647 38.29806      TRUE\n",
      "35       35 30.36492 34.29828      TRUE\n",
      "36       36 31.68172 36.82785      TRUE\n",
      "37       37 31.17286 36.93600      TRUE\n",
      "38       38 28.66221 34.49777      TRUE\n",
      "39       39 32.53545 36.99387      TRUE\n",
      "40       40 30.71849 34.40427      TRUE\n",
      "41       41 31.85165 37.52140      TRUE\n",
      "42       42 29.60308 33.90363     FALSE\n",
      "43       43 31.84803 36.30280      TRUE\n",
      "44       44 32.32529 37.00971      TRUE\n",
      "45       45 33.08465 38.05412      TRUE\n",
      "46       46 31.76075 36.29839      TRUE\n",
      "47       47 32.02613 37.75274      TRUE\n",
      "48       48 31.04752 36.02917      TRUE\n",
      "49       49 30.28023 35.26477      TRUE\n",
      "50       50 31.60999 38.07896      TRUE\n",
      "51       51 33.11536 37.23131      TRUE\n",
      "52       52 32.30492 36.33987      TRUE\n",
      "53       53 31.60738 37.23100      TRUE\n",
      "54       54 29.41598 35.94725      TRUE\n",
      "55       55 30.83977 34.58639      TRUE\n",
      "56       56 31.80389 37.10775      TRUE\n",
      "57       57 30.86825 35.36198      TRUE\n",
      "58       58 32.51175 37.67971      TRUE\n",
      "59       59 30.65744 34.86121      TRUE\n",
      "60       60 27.24418 33.74637     FALSE\n",
      "61       61 31.53551 36.14558      TRUE\n",
      "62       62 30.86052 36.71734      TRUE\n",
      "63       63 30.24011 36.18532      TRUE\n",
      "64       64 32.25315 37.60626      TRUE\n",
      "65       65 30.86212 35.34420      TRUE\n",
      "66       66 29.44701 34.18085      TRUE\n",
      "67       67 34.32086 37.34364     FALSE\n",
      "68       68 31.37169 37.50682      TRUE\n",
      "69       69 29.44865 34.58688      TRUE\n",
      "70       70 30.90237 36.77917      TRUE\n",
      "71       71 33.89839 39.37642      TRUE\n",
      "72       72 29.67697 35.99366      TRUE\n",
      "73       73 32.80671 37.32907      TRUE\n",
      "74       74 32.81420 37.09624      TRUE\n",
      "75       75 29.02429 35.26197      TRUE\n",
      "76       76 30.73653 37.64403      TRUE\n",
      "77       77 32.85655 36.85519      TRUE\n",
      "78       78 31.01398 35.19606      TRUE\n",
      "79       79 32.83763 36.66327      TRUE\n",
      "80       80 28.96095 34.94339      TRUE\n",
      "81       81 32.48431 37.11190      TRUE\n",
      "82       82 30.79360 36.67354      TRUE\n",
      "83       83 29.90662 34.50857      TRUE\n",
      "84       84 31.19777 38.34693      TRUE\n",
      "85       85 30.18932 36.07426      TRUE\n",
      "86       86 31.71266 37.07163      TRUE\n",
      "87       87 30.33180 36.05688      TRUE\n",
      "88       88 30.57584 37.32325      TRUE\n",
      "89       89 29.74798 36.23417      TRUE\n",
      "90       90 30.63654 35.53285      TRUE\n",
      "91       91 30.44615 35.64478      TRUE\n",
      "92       92 29.85157 34.17788      TRUE\n",
      "93       93 32.40958 36.64881      TRUE\n",
      "94       94 30.04565 36.82678      TRUE\n",
      "95       95 29.94473 36.15179      TRUE\n",
      "96       96 28.83996 35.33511      TRUE\n",
      "97       97 31.25436 38.50949      TRUE\n",
      "98       98 28.72167 34.88499      TRUE\n",
      "99       99 29.43205 36.45627      TRUE\n",
      "100     100 29.03548 36.36012      TRUE"
     ]
    }
   ],
   "source": [
    "library(mosaic)"
   ]
  },
  {
   "cell_type": "markdown",
   "id": "602047a6-7cb4-41c9-aebd-56cb750d4e3f",
   "metadata": {},
   "source": [
    "### plot it"
   ]
  },
  {
   "cell_type": "code",
   "execution_count": 44,
   "id": "e8a0ef4c-0b3b-4dfb-8ec0-1615ce94ee38",
   "metadata": {},
   "outputs": [
    {
     "ename": "ERROR",
     "evalue": "Error in ggplot(.): object 'sim_results_df' not found\n",
     "output_type": "error",
     "traceback": [
      "Error in ggplot(.): object 'sim_results_df' not found\nTraceback:\n",
      "1. sim_results_df %>% ggplot()",
      "2. ggplot(.)"
     ]
    }
   ],
   "source": [
    "sim_results_df %>%\n",
    "  ggplot() +\n",
    "  geom_segment(aes(    x = lower,    y = rowname, \n",
    "                    xend = upper, yend = rowname, \n",
    "                   color = muCapture)) + \n",
    "  geom_vline(aes(xintercept = 34)) +      # mu reference is hard coded here because mu wasn't returned by `ciSim()`\n",
    "  xlab(\"Simulated confidence interval from Normal data\") + \n",
    "  ylab(\"Index of a CI based on a simulated random sample\")"
   ]
  },
  {
   "cell_type": "markdown",
   "id": "53e39d36-9976-4505-884e-b4de2dfbe105",
   "metadata": {},
   "source": [
    "# Second part\n",
    "\n",
    "    -   `read.csv` for reading datasets\n",
    "\n",
    "    -   `dplyr`\n",
    "\n",
    "    -   `ggplot2`\n",
    "\n",
    "    -   `ggPlotThemes`\n",
    "\n",
    "# csv\n",
    "\n",
    "Consider this `csv` file:\n",
    "\n",
    "    Name, Age, Height\n",
    "    Alice, 21, 5.5\n",
    "    Bob, 25, 6.2\n",
    "    Charlie, 35, 5.9\n",
    "\n",
    "You can hard-code this into `R` as follows:"
   ]
  },
  {
   "cell_type": "code",
   "execution_count": null,
   "id": "4f749d0f-ac45-4df4-895c-0af25f1cc1c0",
   "metadata": {},
   "outputs": [
    {
     "data": {},
     "metadata": {},
     "output_type": "display_data"
    }
   ],
   "source": [
    "library(knitr)\n",
    "library(dplyr)\n",
    "\n",
    "data_hard_code <- data.frame(\n",
    "    Name = c(\"Alice\", \"Bob\", \"Charlie\"),\n",
    "    Age = c(21, 25, 35),\n",
    "    Name = c(5.5, 6.2, 5.9)\n",
    ")\n",
    "data_hard_code %>% knitr::kable()"
   ]
  },
  {
   "cell_type": "markdown",
   "id": "c3796414-192a-4d18-b3cf-e9730aba962a",
   "metadata": {},
   "source": [
    "Let’s say we want to read the CSV file from memory, you can do this as\n",
    "follows:"
   ]
  },
  {
   "cell_type": "code",
   "execution_count": null,
   "id": "34df02e5-f681-4c20-8952-6766fc5964fb",
   "metadata": {},
   "outputs": [
    {
     "data": {},
     "metadata": {},
     "output_type": "display_data"
    }
   ],
   "source": [
    "Name <- c(\"Jon\", \"Bill\", \"Maria\", \"Ben\", \"Tina\")\n",
    "Age <- c(23, 41, 32, 58, 26)\n",
    "df <- data.frame(Name, Age)\n",
    "write.csv(df, \"./data/data.csv\", row.names=T)\n",
    "file_location <- \"./data/data.csv\"\n",
    "data_from_csv <- read.csv(file_location)\n",
    "data_from_csv %>% knitr::kable()"
   ]
  },
  {
   "cell_type": "markdown",
   "id": "2d8204be-fe37-4459-8c0a-1dbb2373cc5b",
   "metadata": {},
   "source": [
    "There are slightly more advanced and efficient methods:\n",
    "\n",
    "-   `read_csv` from Tidyverse\n",
    "-   `data.table` package in R\n",
    "\n",
    "Once you have a dataset, you can then begin your analyses:\n",
    "\n",
    "------------------------------------------------------------------------\n",
    "\n",
    "## Exploratory Data Analysis\n",
    "\n",
    "This is where `dplyr` and `ggplot2` are super-useful, because they\n",
    "facilitate **Exploratory Data Analysis**\n",
    "\n",
    "Since you are already familiar with these packages, I will go through\n",
    "them in ⚡️ speed.\n",
    "\n",
    "You’ll hear this phrase thrown around very often:\n",
    "\n",
    "> “We need to clean the dataset”\n",
    ">\n",
    "> — An anxious data scientist\n",
    "\n",
    "The first thing I want to ask is: *what makes a dataset clean?*\n",
    "\n",
    "Brainstorming:\n",
    "\n",
    "1.  Get rid of `NULL` and `NA` and `NaN` and `missing` entries\n",
    "\n",
    "2.  Making sure that all the values for a particular variable are of the\n",
    "    same `data type`, e.g., `double`, or `character` or `logical`\n",
    "\n",
    "3.  Every variable should have its own column\n",
    "\n",
    "    -   A variable is something which holds “measurements”\n",
    "\n",
    "4.  Every observation should have its own row\n",
    "\n",
    "5.  Every cell, should have a unique value\n",
    "\n",
    "This is what packages like `dplyr`, `tidyr` and their predecessor `plyr`\n",
    "set out to achieve.\n",
    "\n",
    "This is where functions like:\n",
    "\n",
    "-   `pivot_wider()`\n",
    "-   `pivot_longer()` from `tidyr` are useful.\n",
    "\n",
    "#### `dplyr`\n",
    "\n",
    "The objective of `dplyr` is to provide a set of *“verbs”* for\n",
    "manipulating data.\n",
    "\n",
    "Let’s take the following working example:\n",
    "\n",
    "1.  Cars (mpg) dataset"
   ]
  },
  {
   "cell_type": "code",
   "execution_count": null,
   "id": "688974bf-9653-413f-8fe6-d07f612f5f13",
   "metadata": {},
   "outputs": [
    {
     "data": {},
     "metadata": {},
     "output_type": "display_data"
    }
   ],
   "source": [
    "library(ggplot2)\n",
    "head(mpg, 5) %>% knitr::kable()"
   ]
  },
  {
   "cell_type": "markdown",
   "id": "b46699e5-d1cc-445a-a1a1-f02749f85bfd",
   "metadata": {},
   "source": [
    "1.  Iris (flower petal) dataset"
   ]
  },
  {
   "cell_type": "code",
   "execution_count": null,
   "id": "dcfd2711-c48f-4f11-8aeb-8af2ceab1bf3",
   "metadata": {},
   "outputs": [
    {
     "data": {},
     "metadata": {},
     "output_type": "display_data"
    }
   ],
   "source": [
    "head(iris, 5) %>% knitr::kable()"
   ]
  },
  {
   "cell_type": "markdown",
   "id": "064acf2e-5314-4143-9f29-1b5e62d3d452",
   "metadata": {},
   "source": [
    "Some examples are the following:\n",
    "\n",
    "1.  Select: selects a subset of the columns"
   ]
  },
  {
   "cell_type": "code",
   "execution_count": null,
   "id": "339a5942-e950-45d8-aa29-88d17c4d80f6",
   "metadata": {},
   "outputs": [
    {
     "name": "stdout",
     "output_type": "stream",
     "text": [
      "# A tibble: 234 × 3\n",
      "   model      displ class  \n",
      "   <chr>      <dbl> <chr>  \n",
      " 1 a4           1.8 compact\n",
      " 2 a4           1.8 compact\n",
      " 3 a4           2   compact\n",
      " 4 a4           2   compact\n",
      " 5 a4           2.8 compact\n",
      " 6 a4           2.8 compact\n",
      " 7 a4           3.1 compact\n",
      " 8 a4 quattro   1.8 compact\n",
      " 9 a4 quattro   1.8 compact\n",
      "10 a4 quattro   2   compact\n",
      "# ℹ 224 more rows"
     ]
    }
   ],
   "source": [
    "mpg %>% \n",
    "select(c(model, displ, class))"
   ]
  },
  {
   "cell_type": "markdown",
   "id": "4992b52b-f7b0-4021-8128-40ee25c061a1",
   "metadata": {},
   "source": [
    "1.  We have `mutate` which creates new columns from existing ones"
   ]
  },
  {
   "cell_type": "code",
   "execution_count": null,
   "id": "e2689439-7aa6-49a1-9ffb-29285de62e24",
   "metadata": {},
   "outputs": [
    {
     "data": {},
     "metadata": {},
     "output_type": "display_data"
    }
   ],
   "source": [
    "iris %>% \n",
    "  mutate(Sepal.Area = Sepal.Length * Sepal.Width) %>% \n",
    "  head(., 10) %>% \n",
    "  knitr::kable()"
   ]
  },
  {
   "cell_type": "markdown",
   "id": "b98d9087-61cb-4665-9871-ee5e41b19682",
   "metadata": {},
   "source": [
    "1.  `filter`"
   ]
  },
  {
   "cell_type": "code",
   "execution_count": null,
   "id": "6d7a882c-8de7-4690-aa24-a2c9156be405",
   "metadata": {},
   "outputs": [
    {
     "name": "stdout",
     "output_type": "stream",
     "text": [
      "# A tibble: 47 × 11\n",
      "   manufacturer model      displ  year   cyl trans drv     cty   hwy fl    class\n",
      "   <chr>        <chr>      <dbl> <int> <int> <chr> <chr> <int> <int> <chr> <chr>\n",
      " 1 audi         a4           1.8  1999     4 auto… f        18    29 p     comp…\n",
      " 2 audi         a4           1.8  1999     4 manu… f        21    29 p     comp…\n",
      " 3 audi         a4           2    2008     4 manu… f        20    31 p     comp…\n",
      " 4 audi         a4           2    2008     4 auto… f        21    30 p     comp…\n",
      " 5 audi         a4           2.8  1999     6 auto… f        16    26 p     comp…\n",
      " 6 audi         a4           2.8  1999     6 manu… f        18    26 p     comp…\n",
      " 7 audi         a4           3.1  2008     6 auto… f        18    27 p     comp…\n",
      " 8 audi         a4 quattro   1.8  1999     4 manu… 4        18    26 p     comp…\n",
      " 9 audi         a4 quattro   1.8  1999     4 auto… 4        16    25 p     comp…\n",
      "10 audi         a4 quattro   2    2008     4 manu… 4        20    28 p     comp…\n",
      "# ℹ 37 more rows"
     ]
    }
   ],
   "source": [
    "mpg %>% \n",
    "filter(class == \"compact\")"
   ]
  },
  {
   "cell_type": "markdown",
   "id": "c1cd0a75-32fb-4f47-9424-41c5b06015ea",
   "metadata": {},
   "source": [
    "Some other verbs are:\n",
    "\n",
    "-   `dplyr::summary()`, `dplyr::mutate()`\n",
    "-   `tidyr::pivot_longer()`, `tidyr::pivot_wider()`\n",
    "-   `left_join`, `right_join`, `inner_join`, `outer_join`\n",
    "\n",
    "## `ggplot2`\n",
    "\n",
    "`gg` in `ggplot2` stands for: **G**rammar of **G**raphics. There is NO\n",
    "`ggplot1`\n",
    "\n",
    "Since you guys are super familiar, let’s look at a super quick example:\n",
    "\n",
    "We start off by decalring a `ggplot` object"
   ]
  },
  {
   "cell_type": "code",
   "execution_count": null,
   "id": "add2532a-f5bf-4ad9-a41c-fdc99e4d1b27",
   "metadata": {},
   "outputs": [],
   "source": [
    "library(ggplot2)\n",
    "plt <- ggplot(iris)"
   ]
  },
  {
   "cell_type": "markdown",
   "id": "fd64021b-c6bb-4429-8060-d082849843d6",
   "metadata": {},
   "source": [
    "Now can add points to it"
   ]
  },
  {
   "cell_type": "code",
   "execution_count": null,
   "id": "c2b41107-0def-44c2-8bbc-db4bab5b8938",
   "metadata": {},
   "outputs": [
    {
     "data": {
      "image/png": "[encoded data removed]"
     },
     "metadata": {},
     "output_type": "display_data"
    }
   ],
   "source": [
    "plt + geom_point(\n",
    "    aes(x=Petal.Length, y=Sepal.Length)\n",
    ")"
   ]
  },
  {
   "cell_type": "markdown",
   "id": "c2071227-9bbd-455d-8133-a6daad39fa4d",
   "metadata": {},
   "source": [
    "If we want to color the points by `Species`"
   ]
  },
  {
   "cell_type": "code",
   "execution_count": null,
   "id": "c450f12c-495d-4873-92b2-b832511625ec",
   "metadata": {},
   "outputs": [
    {
     "data": {
      "image/png": "[encoded data removed]"
     },
     "metadata": {},
     "output_type": "display_data"
    }
   ],
   "source": [
    "plt + geom_point(\n",
    "    aes(x=Petal.Length, y=Sepal.Length, colour=Species)\n",
    ")"
   ]
  },
  {
   "cell_type": "markdown",
   "id": "a56ddae2-d58b-4423-b3c9-2633f42d9118",
   "metadata": {},
   "source": [
    "If we want to add trendlines to these points:"
   ]
  },
  {
   "cell_type": "code",
   "execution_count": null,
   "id": "4f6b668a-5997-436f-95c1-5ed2a8fce363",
   "metadata": {},
   "outputs": [
    {
     "name": "stderr",
     "output_type": "stream",
     "text": [
      "`geom_smooth()` using method = 'loess' and formula = 'y ~ x'"
     ]
    },
    {
     "data": {
      "image/png": "[encoded data removed]"
     },
     "metadata": {},
     "output_type": "display_data"
    }
   ],
   "source": [
    "plt + \n",
    "geom_point(\n",
    "    aes(x=Petal.Length, y=Sepal.Length, colour=Species)\n",
    ") +  \n",
    "geom_smooth(\n",
    "    aes(x=Petal.Length, y=Sepal.Length)\n",
    ")"
   ]
  },
  {
   "cell_type": "markdown",
   "id": "88d5ffbf-2bbf-4654-b34a-bd31905a5bdd",
   "metadata": {},
   "source": [
    "If we want a linear trendline then you can choose the method:\n",
    "\n",
    "If we want to add trendlines to these points:"
   ]
  },
  {
   "cell_type": "code",
   "execution_count": null,
   "id": "9bcf39bf-7efa-4a82-b280-ef1e371ad394",
   "metadata": {},
   "outputs": [
    {
     "name": "stderr",
     "output_type": "stream",
     "text": [
      "`geom_smooth()` using formula = 'y ~ x'"
     ]
    },
    {
     "data": {
      "image/png": "[encoded data removed]"
     },
     "metadata": {},
     "output_type": "display_data"
    }
   ],
   "source": [
    "plt + \n",
    "geom_point(\n",
    "    aes(x=Petal.Length, y=Sepal.Length, colour=Species)\n",
    ") +  \n",
    "geom_smooth(\n",
    "    aes(x=Petal.Length, y=Sepal.Length),\n",
    "    method = lm\n",
    ")"
   ]
  },
  {
   "cell_type": "markdown",
   "id": "22dd5a44-f169-40db-a2b7-620c2895b227",
   "metadata": {},
   "source": [
    "## `ggthemeassist`\n",
    "\n",
    "Done in Rstudio\n",
    "\n",
    "## More on **data types**\n",
    "\n",
    "1.  String, e.g. this is a character\n",
    "2.  Integer, e.g. `[1,2,3]`\n",
    "3.  Double, e.g. `[2.2, 3.14159, 0.9]`\n",
    "4.  Booleans, e.g. `TRUE/ FALSE`\n",
    "\n",
    "-   What are factors? Factors are categorical variables.\n",
    "\n",
    "Let’s look at an example:\n",
    "\n",
    "`var` contains the country code for people in north america:"
   ]
  },
  {
   "cell_type": "code",
   "execution_count": null,
   "id": "811cb88a-de4f-488e-8026-b4961f4a6e8b",
   "metadata": {},
   "outputs": [
    {
     "name": "stdout",
     "output_type": "stream",
     "text": [
      "[1] \"USA\" \"USA\" \"CAN\" \"CAN\" \"CAN\" \"CAN\" \"MEX\" \"MEX\""
     ]
    }
   ],
   "source": [
    "var <- c(\n",
    "    \"USA\",\n",
    "    \"USA\",\n",
    "    \"CAN\",\n",
    "    \"CAN\",\n",
    "    \"CAN\",\n",
    "    \"CAN\",\n",
    "    \"MEX\",\n",
    "    \"MEX\"\n",
    ")\n",
    "var"
   ]
  },
  {
   "cell_type": "markdown",
   "id": "972f503f-df66-4c8c-be44-6bdc8f5226d7",
   "metadata": {},
   "source": [
    "To tell `R` that this is explicitly categorical and not just a vector of\n",
    "strings, you have to specify the following:"
   ]
  },
  {
   "cell_type": "code",
   "execution_count": null,
   "id": "0577dea0-3a17-4f25-bd73-e71ce6dadd2d",
   "metadata": {},
   "outputs": [
    {
     "name": "stdout",
     "output_type": "stream",
     "text": [
      "[1] USA USA CAN CAN CAN CAN MEX MEX\n",
      "Levels: CAN MEX USA"
     ]
    }
   ],
   "source": [
    "as.factor(var)"
   ]
  },
  {
   "cell_type": "markdown",
   "id": "ef457b7e-ada2-4596-93ae-c3eefacfa39a",
   "metadata": {},
   "source": [
    "Let’s look at another example"
   ]
  },
  {
   "cell_type": "code",
   "execution_count": null,
   "id": "15121b53-841b-4a85-8471-edba16581cf7",
   "metadata": {},
   "outputs": [
    {
     "data": {},
     "metadata": {},
     "output_type": "display_data"
    },
    {
     "name": "stdout",
     "output_type": "stream",
     "text": [
      "  [1] setosa     setosa     setosa     setosa     setosa     setosa    \n",
      "  [7] setosa     setosa     setosa     setosa     setosa     setosa    \n",
      " [13] setosa     setosa     setosa     setosa     setosa     setosa    \n",
      " [19] setosa     setosa     setosa     setosa     setosa     setosa    \n",
      " [25] setosa     setosa     setosa     setosa     setosa     setosa    \n",
      " [31] setosa     setosa     setosa     setosa     setosa     setosa    \n",
      " [37] setosa     setosa     setosa     setosa     setosa     setosa    \n",
      " [43] setosa     setosa     setosa     setosa     setosa     setosa    \n",
      " [49] setosa     setosa     versicolor versicolor versicolor versicolor\n",
      " [55] versicolor versicolor versicolor versicolor versicolor versicolor\n",
      " [61] versicolor versicolor versicolor versicolor versicolor versicolor\n",
      " [67] versicolor versicolor versicolor versicolor versicolor versicolor\n",
      " [73] versicolor versicolor versicolor versicolor versicolor versicolor\n",
      " [79] versicolor versicolor versicolor versicolor versicolor versicolor\n",
      " [85] versicolor versicolor versicolor versicolor versicolor versicolor\n",
      " [91] versicolor versicolor versicolor versicolor versicolor versicolor\n",
      " [97] versicolor versicolor versicolor versicolor virginica  virginica \n",
      "[103] virginica  virginica  virginica  virginica  virginica  virginica \n",
      "[109] virginica  virginica  virginica  virginica  virginica  virginica \n",
      "[115] virginica  virginica  virginica  virginica  virginica  virginica \n",
      "[121] virginica  virginica  virginica  virginica  virginica  virginica \n",
      "[127] virginica  virginica  virginica  virginica  virginica  virginica \n",
      "[133] virginica  virginica  virginica  virginica  virginica  virginica \n",
      "[139] virginica  virginica  virginica  virginica  virginica  virginica \n",
      "[145] virginica  virginica  virginica  virginica  virginica  virginica \n",
      "Levels: setosa versicolor virginica"
     ]
    }
   ],
   "source": [
    "head(iris, 3) %>% \n",
    "knitr::kable()"
   ]
  },
  {
   "cell_type": "markdown",
   "id": "a66ace03-1ef4-4f3c-9abb-29a33b00c714",
   "metadata": {},
   "source": [
    "Similarly, if we look at `mpg`"
   ]
  },
  {
   "cell_type": "code",
   "execution_count": null,
   "id": "f3da843f-c291-46c6-998f-11082d9c4efb",
   "metadata": {},
   "outputs": [
    {
     "data": {},
     "metadata": {},
     "output_type": "display_data"
    }
   ],
   "source": [
    "head(mpg, 3) %>% \n",
    "knitr::kable()"
   ]
  },
  {
   "cell_type": "markdown",
   "id": "80604515-6431-498a-b6b7-49fc340bb7cc",
   "metadata": {},
   "source": [
    "Let’s have a look at `class`"
   ]
  },
  {
   "cell_type": "code",
   "execution_count": null,
   "id": "e9793b21-dec8-49ad-9a70-fca7dca3cf6d",
   "metadata": {},
   "outputs": [
    {
     "name": "stdout",
     "output_type": "stream",
     "text": [
      "  [1] compact    compact    compact    compact    compact    compact   \n",
      "  [7] compact    compact    compact    compact    compact    compact   \n",
      " [13] compact    compact    compact    midsize    midsize    midsize   \n",
      " [19] suv        suv        suv        suv        suv        2seater   \n",
      " [25] 2seater    2seater    2seater    2seater    suv        suv       \n",
      " [31] suv        suv        midsize    midsize    midsize    midsize   \n",
      " [37] midsize    minivan    minivan    minivan    minivan    minivan   \n",
      " [43] minivan    minivan    minivan    minivan    minivan    minivan   \n",
      " [49] pickup     pickup     pickup     pickup     pickup     pickup    \n",
      " [55] pickup     pickup     pickup     suv        suv        suv       \n",
      " [61] suv        suv        suv        suv        pickup     pickup    \n",
      " [67] pickup     pickup     pickup     pickup     pickup     pickup    \n",
      " [73] pickup     pickup     suv        suv        suv        suv       \n",
      " [79] suv        suv        suv        suv        suv        pickup    \n",
      " [85] pickup     pickup     pickup     pickup     pickup     pickup    \n",
      " [91] subcompact subcompact subcompact subcompact subcompact subcompact\n",
      " [97] subcompact subcompact subcompact subcompact subcompact subcompact\n",
      "[103] subcompact subcompact subcompact subcompact subcompact subcompact\n",
      "[109] midsize    midsize    midsize    midsize    midsize    midsize   \n",
      "[115] midsize    subcompact subcompact subcompact subcompact subcompact\n",
      "[121] subcompact subcompact suv        suv        suv        suv       \n",
      "[127] suv        suv        suv        suv        suv        suv       \n",
      "[133] suv        suv        suv        suv        suv        suv       \n",
      "[139] suv        suv        suv        compact    compact    midsize   \n",
      "[145] midsize    midsize    midsize    midsize    midsize    midsize   \n",
      "[151] suv        suv        suv        suv        midsize    midsize   \n",
      "[157] midsize    midsize    midsize    suv        suv        suv       \n",
      "[163] suv        suv        suv        subcompact subcompact subcompact\n",
      "[169] subcompact compact    compact    compact    compact    suv       \n",
      "[175] suv        suv        suv        suv        suv        midsize   \n",
      "[181] midsize    midsize    midsize    midsize    midsize    midsize   \n",
      "[187] compact    compact    compact    compact    compact    compact   \n",
      "[193] compact    compact    compact    compact    compact    compact   \n",
      "[199] suv        suv        pickup     pickup     pickup     pickup    \n",
      "[205] pickup     pickup     pickup     compact    compact    compact   \n",
      "[211] compact    compact    compact    compact    compact    compact   \n",
      "[217] compact    compact    compact    compact    compact    subcompact\n",
      "[223] subcompact subcompact subcompact subcompact subcompact midsize   \n",
      "[229] midsize    midsize    midsize    midsize    midsize    midsize   \n",
      "Levels: 2seater compact midsize minivan pickup subcompact suv"
     ]
    }
   ],
   "source": [
    "as.factor(mpg$class)"
   ]
  },
  {
   "cell_type": "markdown",
   "id": "29b2737b-315a-49b0-b30c-dd9b93bad854",
   "metadata": {},
   "source": [
    "Similarly, we can have a look at the manufacturer:"
   ]
  },
  {
   "cell_type": "code",
   "execution_count": null,
   "id": "13a19e0a-a440-4341-968a-5590aff1f884",
   "metadata": {},
   "outputs": [
    {
     "name": "stdout",
     "output_type": "stream",
     "text": [
      "  [1] audi       audi       audi       audi       audi       audi      \n",
      "  [7] audi       audi       audi       audi       audi       audi      \n",
      " [13] audi       audi       audi       audi       audi       audi      \n",
      " [19] chevrolet  chevrolet  chevrolet  chevrolet  chevrolet  chevrolet \n",
      " [25] chevrolet  chevrolet  chevrolet  chevrolet  chevrolet  chevrolet \n",
      " [31] chevrolet  chevrolet  chevrolet  chevrolet  chevrolet  chevrolet \n",
      " [37] chevrolet  dodge      dodge      dodge      dodge      dodge     \n",
      " [43] dodge      dodge      dodge      dodge      dodge      dodge     \n",
      " [49] dodge      dodge      dodge      dodge      dodge      dodge     \n",
      " [55] dodge      dodge      dodge      dodge      dodge      dodge     \n",
      " [61] dodge      dodge      dodge      dodge      dodge      dodge     \n",
      " [67] dodge      dodge      dodge      dodge      dodge      dodge     \n",
      " [73] dodge      dodge      ford       ford       ford       ford      \n",
      " [79] ford       ford       ford       ford       ford       ford      \n",
      " [85] ford       ford       ford       ford       ford       ford      \n",
      " [91] ford       ford       ford       ford       ford       ford      \n",
      " [97] ford       ford       ford       honda      honda      honda     \n",
      "[103] honda      honda      honda      honda      honda      honda     \n",
      "[109] hyundai    hyundai    hyundai    hyundai    hyundai    hyundai   \n",
      "[115] hyundai    hyundai    hyundai    hyundai    hyundai    hyundai   \n",
      "[121] hyundai    hyundai    jeep       jeep       jeep       jeep      \n",
      "[127] jeep       jeep       jeep       jeep       land rover land rover\n",
      "[133] land rover land rover lincoln    lincoln    lincoln    mercury   \n",
      "[139] mercury    mercury    mercury    nissan     nissan     nissan    \n",
      "[145] nissan     nissan     nissan     nissan     nissan     nissan    \n",
      "[151] nissan     nissan     nissan     nissan     pontiac    pontiac   \n",
      "[157] pontiac    pontiac    pontiac    subaru     subaru     subaru    \n",
      "[163] subaru     subaru     subaru     subaru     subaru     subaru    \n",
      "[169] subaru     subaru     subaru     subaru     subaru     toyota    \n",
      "[175] toyota     toyota     toyota     toyota     toyota     toyota    \n",
      "[181] toyota     toyota     toyota     toyota     toyota     toyota    \n",
      "[187] toyota     toyota     toyota     toyota     toyota     toyota    \n",
      "[193] toyota     toyota     toyota     toyota     toyota     toyota    \n",
      "[199] toyota     toyota     toyota     toyota     toyota     toyota    \n",
      "[205] toyota     toyota     toyota     volkswagen volkswagen volkswagen\n",
      "[211] volkswagen volkswagen volkswagen volkswagen volkswagen volkswagen\n",
      "[217] volkswagen volkswagen volkswagen volkswagen volkswagen volkswagen\n",
      "[223] volkswagen volkswagen volkswagen volkswagen volkswagen volkswagen\n",
      "[229] volkswagen volkswagen volkswagen volkswagen volkswagen volkswagen\n",
      "15 Levels: audi chevrolet dodge ford honda hyundai jeep land rover ... volkswagen"
     ]
    }
   ],
   "source": [
    "as.factor(mpg$manufacturer)"
   ]
  },
  {
   "cell_type": "markdown",
   "id": "8f933efb-df23-4e81-9f8a-ed0baef9f27f",
   "metadata": {},
   "source": [
    "This is where the `forcats` package is really useful:"
   ]
  },
  {
   "cell_type": "code",
   "execution_count": null,
   "id": "b96b3653-230a-4c7c-b745-47227b107fc9",
   "metadata": {},
   "outputs": [
    {
     "name": "stdout",
     "output_type": "stream",
     "text": [
      "  [1] audi       audi       audi       audi       audi       audi      \n",
      "  [7] audi       audi       audi       audi       audi       audi      \n",
      " [13] audi       audi       audi       audi       audi       audi      \n",
      " [19] chevrolet  chevrolet  chevrolet  chevrolet  chevrolet  chevrolet \n",
      " [25] chevrolet  chevrolet  chevrolet  chevrolet  chevrolet  chevrolet \n",
      " [31] chevrolet  chevrolet  chevrolet  chevrolet  chevrolet  chevrolet \n",
      " [37] chevrolet  dodge      dodge      dodge      dodge      dodge     \n",
      " [43] dodge      dodge      dodge      dodge      dodge      dodge     \n",
      " [49] dodge      dodge      dodge      dodge      dodge      dodge     \n",
      " [55] dodge      dodge      dodge      dodge      dodge      dodge     \n",
      " [61] dodge      dodge      dodge      dodge      dodge      dodge     \n",
      " [67] dodge      dodge      dodge      dodge      dodge      dodge     \n",
      " [73] dodge      dodge      ford       ford       ford       ford      \n",
      " [79] ford       ford       ford       ford       ford       ford      \n",
      " [85] ford       ford       ford       ford       ford       ford      \n",
      " [91] ford       ford       ford       ford       ford       ford      \n",
      " [97] ford       ford       ford       honda      honda      honda     \n",
      "[103] honda      honda      honda      honda      honda      honda     \n",
      "[109] hyundai    hyundai    hyundai    hyundai    hyundai    hyundai   \n",
      "[115] hyundai    hyundai    hyundai    hyundai    hyundai    hyundai   \n",
      "[121] hyundai    hyundai    jeep       jeep       jeep       jeep      \n",
      "[127] jeep       jeep       jeep       jeep       land rover land rover\n",
      "[133] land rover land rover lincoln    lincoln    lincoln    mercury   \n",
      "[139] mercury    mercury    mercury    nissan     nissan     nissan    \n",
      "[145] nissan     nissan     nissan     nissan     nissan     nissan    \n",
      "[151] nissan     nissan     nissan     nissan     pontiac    pontiac   \n",
      "[157] pontiac    pontiac    pontiac    subaru     subaru     subaru    \n",
      "[163] subaru     subaru     subaru     subaru     subaru     subaru    \n",
      "[169] subaru     subaru     subaru     subaru     subaru     toyota    \n",
      "[175] toyota     toyota     toyota     toyota     toyota     toyota    \n",
      "[181] toyota     toyota     toyota     toyota     toyota     toyota    \n",
      "[187] toyota     toyota     toyota     toyota     toyota     toyota    \n",
      "[193] toyota     toyota     toyota     toyota     toyota     toyota    \n",
      "[199] toyota     toyota     toyota     toyota     toyota     toyota    \n",
      "[205] toyota     toyota     toyota     volkswagen volkswagen volkswagen\n",
      "[211] volkswagen volkswagen volkswagen volkswagen volkswagen volkswagen\n",
      "[217] volkswagen volkswagen volkswagen volkswagen volkswagen volkswagen\n",
      "[223] volkswagen volkswagen volkswagen volkswagen volkswagen volkswagen\n",
      "[229] volkswagen volkswagen volkswagen volkswagen volkswagen volkswagen\n",
      "15 Levels: dodge jeep chevrolet ford land rover toyota lincoln ... honda"
     ]
    }
   ],
   "source": [
    "library(forcats)\n",
    "manufacturer <- as.factor(mpg$manufacturer)\n",
    "fct_reorder(manufacturer, mpg$hwy, min)"
   ]
  },
  {
   "cell_type": "markdown",
   "id": "168c8e08-eb93-4407-a725-d553949273d5",
   "metadata": {},
   "source": [
    "We will be coming back to this in \\~3 weeks when we dfo logistic\n",
    "regression.\n",
    "\n",
    "## `purrr`\n",
    "\n",
    "This package provides a set of functional programming tools. It’s best\n",
    "illustrated through an example:\n",
    "\n",
    "Consider the following procedure: We want to\n",
    "\n",
    "1.  Filter `iris` by species\n",
    "2.  COmpute the `Sepal.Area` as `Sepal.Length` $\\times$ `Sepal.Width`\n",
    "3.  Find the average of `Sepal.Area` for every flower in the species\n",
    "\n",
    "``` r\n",
    "iris %>% \n",
    "mutate(Area = Sepal.Length * Sepal.Width) %>% \n",
    "group_by()\n",
    "summarize()\n",
    "```\n",
    "\n",
    "Consider the following task:\n",
    "\n",
    "1.  Take a number `i` from $1 \\dots 10$\n",
    "2.  Create a matrix with entries of dimension 1 … `i^2` $\\times$ `i`\n",
    "3.  Compute the average of the elements of the matrix\n",
    "4.  Print it\n",
    "\n",
    "One way of doing this is as follows:"
   ]
  },
  {
   "cell_type": "code",
   "execution_count": null,
   "id": "04adbdf1-2334-41aa-92a5-df144b55ab9e",
   "metadata": {},
   "outputs": [
    {
     "name": "stdout",
     "output_type": "stream",
     "text": [
      " [1]  1  3  6 10 15 21 28 36 45 55"
     ]
    }
   ],
   "source": [
    "results <- c()\n",
    "for (i in 1:10){\n",
    "    M <- matrix(\n",
    "        c(1:i*i), nrow=i\n",
    "    )\n",
    "    results[i] <- mean(M)\n",
    "}\n",
    "results"
   ]
  },
  {
   "cell_type": "markdown",
   "id": "36418f31-177e-4ca2-97c4-2207c8407d9d",
   "metadata": {},
   "source": [
    "A functional way to think about this is as follows:\n",
    "\n",
    "$$i \\rightarrow M_{i \\times i} \\rightarrow mean(M)$$"
   ]
  },
  {
   "cell_type": "code",
   "execution_count": null,
   "id": "973f7088-d994-45de-b685-58916b5d2cf3",
   "metadata": {},
   "outputs": [
    {
     "name": "stdout",
     "output_type": "stream",
     "text": [
      "[[1]]\n",
      "[1] 1\n",
      "\n",
      "[[2]]\n",
      "[1] 3\n",
      "\n",
      "[[3]]\n",
      "[1] 6\n",
      "\n",
      "[[4]]\n",
      "[1] 10\n",
      "\n",
      "[[5]]\n",
      "[1] 15\n",
      "\n",
      "[[6]]\n",
      "[1] 21\n",
      "\n",
      "[[7]]\n",
      "[1] 28\n",
      "\n",
      "[[8]]\n",
      "[1] 36\n",
      "\n",
      "[[9]]\n",
      "[1] 45\n",
      "\n",
      "[[10]]\n",
      "[1] 55"
     ]
    }
   ],
   "source": [
    "library(purrr)\n",
    "map(\n",
    "    1:10,\n",
    "    function(i){\n",
    "        mean(\n",
    "            matrix(\n",
    "                c(1:i*i), nrow=i\n",
    "            )\n",
    "        )\n",
    "    }\n",
    ")"
   ]
  }
 ],
 "metadata": {
  "kernelspec": {
   "display_name": "R",
   "language": "R",
   "name": "ir"
  },
  "language_info": {
   "codemirror_mode": "r",
   "file_extension": ".r",
   "mimetype": "text/x-r-source",
   "name": "R",
   "pygments_lexer": "r",
   "version": "4.2.2"
  }
 },
 "nbformat": 4,
 "nbformat_minor": 5
}
